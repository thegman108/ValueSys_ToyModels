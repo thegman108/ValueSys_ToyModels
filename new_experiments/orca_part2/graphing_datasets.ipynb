{
 "cells": [
  {
   "cell_type": "code",
   "execution_count": null,
   "metadata": {},
   "outputs": [],
   "source": []
  },
  {
   "cell_type": "code",
   "execution_count": null,
   "metadata": {},
   "outputs": [],
   "source": [
    "import pandas as pd\n",
    "import matplotlib.pyplot as plt\n",
    "\n",
    "# Load your data\n",
    "df1 = pd.read_csv('wandb_export_2024-05-22T10_45_48.201-07_00.csv')\n",
    "df2 = pd.read_csv('wandb_export_2024-05-22T10_45_08.874-07_00.csv')\n",
    "\n",
    "# Convert all columns to numeric, coercing errors to NaN if any\n",
    "df1 = df1.apply(pd.to_numeric, errors='coerce')\n",
    "df2 = df2.apply(pd.to_numeric, errors='coerce')\n",
    "\n",
    "# Extract relevant columns\n",
    "step1 = df1['Step']\n",
    "accuracy1 = df1['firm-deluge-186 - logistic_regression_accuracy']\n",
    "step2 = df2['Step']\n",
    "accuracy2 = df2['efficient-firefly-187 - logistic_regression_accuracy']\n",
    "\n",
    "# Plot the data\n",
    "plt.figure(figsize=(12, 6))\n",
    "\n",
    "# Plot for the first dataset (orca sparse model, gsm classifier)\n",
    "plt.plot(step1, accuracy1, label='Orca Sparse Model (firm-deluge-186)', color='blue')\n",
    "\n",
    "# Plot for the second dataset (orca dense model, gsm classifier)\n",
    "plt.plot(step2, accuracy2, label='Orca Dense Model (efficient-firefly-187)', color='green')\n",
    "\n",
    "# Add labels and legend\n",
    "plt.xlabel('Step')\n",
    "plt.ylabel('Logistic Regression Accuracy')\n",
    "plt.title('Model Performance Comparison (Mean Accuracies Only)')\n",
    "plt.legend()\n",
    "\n",
    "# Show the plot\n",
    "plt.show()\n"
   ]
  },
  {
   "cell_type": "code",
   "execution_count": null,
   "metadata": {},
   "outputs": [],
   "source": []
  }
 ],
 "metadata": {
  "language_info": {
   "name": "python"
  }
 },
 "nbformat": 4,
 "nbformat_minor": 2
}
