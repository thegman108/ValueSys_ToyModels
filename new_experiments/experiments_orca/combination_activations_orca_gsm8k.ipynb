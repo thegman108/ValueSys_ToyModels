{
 "cells": [
  {
   "cell_type": "code",
   "execution_count": 1,
   "metadata": {},
   "outputs": [
    {
     "name": "stderr",
     "output_type": "stream",
     "text": [
      "/workspace/venv/lib/python3.10/site-packages/tqdm/auto.py:21: TqdmWarning: IProgress not found. Please update jupyter and ipywidgets. See https://ipywidgets.readthedocs.io/en/stable/user_install.html\n",
      "  from .autonotebook import tqdm as notebook_tqdm\n"
     ]
    }
   ],
   "source": [
    "import pickle\n",
    "import matplotlib.pyplot as plt\n",
    "from sklearn.decomposition import PCA\n",
    "import numpy as np\n",
    "from sklearn.manifold import TSNE\n",
    "from tqdm.auto import tqdm\n",
    "\n",
    "import numpy as np\n",
    "from sklearn.decomposition import PCA\n",
    "from sklearn.model_selection import train_test_split\n",
    "from sklearn.linear_model import LogisticRegression\n",
    "from sklearn.metrics import classification_report, accuracy_score"
   ]
  },
  {
   "cell_type": "code",
   "execution_count": 3,
   "metadata": {},
   "outputs": [],
   "source": [
    "#Loading in the daasets\n",
    "subset_index = 1000\n",
    "with open('sparse_random_activations_lora_orca_A1.pkl', 'rb') as f:\n",
    "        sparse_activations_orca = pickle.load(f)[:subset_index]\n",
    "        \n",
    "with open('dense_activations_lora_orca_A1.pkl', 'rb') as f:\n",
    "        dense_activations_orca = pickle.load(f)[:subset_index]\n",
    "\n",
    "\n",
    "with open('../sparse_random_activations_lora_B3.pkl', 'rb') as f:\n",
    "        sparse_activations_gsm8k = pickle.load(f)[:subset_index]\n",
    "        \n",
    "\n",
    "with open('../dense_activations_lora_B2.pkl', 'rb') as f:\n",
    "        dense_activations_gsm8k = pickle.load(f)[:subset_index]\n",
    "        \n"
   ]
  },
  {
   "cell_type": "code",
   "execution_count": 4,
   "metadata": {},
   "outputs": [
    {
     "data": {
      "text/plain": [
       "(1000, 262144)"
      ]
     },
     "execution_count": 4,
     "metadata": {},
     "output_type": "execute_result"
    }
   ],
   "source": [
    "dense_activations_gsm8k.shape\n"
   ]
  },
  {
   "cell_type": "code",
   "execution_count": 5,
   "metadata": {},
   "outputs": [
    {
     "data": {
      "text/plain": [
       "(1000, 262144)"
      ]
     },
     "execution_count": 5,
     "metadata": {},
     "output_type": "execute_result"
    }
   ],
   "source": [
    "dense_activations_orca.shape"
   ]
  },
  {
   "cell_type": "code",
   "execution_count": 6,
   "metadata": {},
   "outputs": [
    {
     "data": {
      "text/plain": [
       "array([[ 0.11139321, -0.38142958,  0.729128  , ..., -0.10851642,\n",
       "         0.02500831, -0.04015889],\n",
       "       [ 0.11139321, -0.38142958,  0.729128  , ..., -0.10851642,\n",
       "         0.02500831, -0.04015889],\n",
       "       [ 0.11139321, -0.38142958,  0.729128  , ..., -0.10851642,\n",
       "         0.02500831, -0.04015889],\n",
       "       ...,\n",
       "       [ 1.4888468 ,  1.2717168 , -1.5147573 , ..., -0.98383653,\n",
       "         1.2942158 ,  1.6858829 ],\n",
       "       [ 1.4888468 ,  1.2717168 , -1.5147573 , ..., -0.47049898,\n",
       "         1.2357731 ,  1.7612337 ],\n",
       "       [ 1.4888468 ,  1.2717168 , -1.5147573 , ..., -0.9484415 ,\n",
       "         1.4208834 ,  1.722862  ]], dtype=float32)"
      ]
     },
     "execution_count": 6,
     "metadata": {},
     "output_type": "execute_result"
    }
   ],
   "source": [
    "dense_activations_orca"
   ]
  },
  {
   "cell_type": "code",
   "execution_count": 7,
   "metadata": {},
   "outputs": [
    {
     "data": {
      "text/plain": [
       "array([[ 0.10996075, -0.38161087,  0.72923684, ..., -0.11516419,\n",
       "         0.02778258, -0.04560016],\n",
       "       [ 0.10996075, -0.38161087,  0.72923684, ..., -0.11516419,\n",
       "         0.02778258, -0.04560016],\n",
       "       [ 0.10996075, -0.38161087,  0.72923684, ..., -0.11516419,\n",
       "         0.02778258, -0.04560016],\n",
       "       ...,\n",
       "       [ 1.489735  ,  1.2876704 , -1.52733   , ..., -0.18475074,\n",
       "         1.3043327 ,  1.0310438 ],\n",
       "       [ 1.489735  ,  1.2876704 , -1.52733   , ..., -0.17085631,\n",
       "         1.41423   ,  1.6497204 ],\n",
       "       [ 1.489735  ,  1.2876704 , -1.52733   , ..., -0.12469962,\n",
       "         1.410714  ,  1.1317629 ]], dtype=float32)"
      ]
     },
     "execution_count": 7,
     "metadata": {},
     "output_type": "execute_result"
    }
   ],
   "source": [
    "dense_activations_gsm8k"
   ]
  },
  {
   "cell_type": "code",
   "execution_count": 8,
   "metadata": {},
   "outputs": [],
   "source": [
    "#Combine dense and sparse activations\n",
    "all_dense = np.vstack((dense_activations_orca, dense_activations_gsm8k))\n",
    "all_sparse = np.vstack((sparse_activations_orca, sparse_activations_gsm8k))\n",
    "\n",
    "# Labels: 1 for dense, 0 for sparse\n",
    "labels_dense = np.ones(all_dense.shape[0])\n",
    "labels_sparse = np.zeros(all_sparse.shape[0])\n",
    "\n"
   ]
  },
  {
   "cell_type": "code",
   "execution_count": 9,
   "metadata": {},
   "outputs": [
    {
     "ename": "",
     "evalue": "",
     "output_type": "error",
     "traceback": [
      "\u001b[1;31mThe Kernel crashed while executing code in the current cell or a previous cell. \n",
      "\u001b[1;31mPlease review the code in the cell(s) to identify a possible cause of the failure. \n",
      "\u001b[1;31mClick <a href='https://aka.ms/vscodeJupyterKernelCrash'>here</a> for more info. \n",
      "\u001b[1;31mView Jupyter <a href='command:jupyter.viewOutput'>log</a> for further details."
     ]
    }
   ],
   "source": [
    "# Combine all activations and labels\n",
    "all_activations = np.vstack((all_dense, all_sparse))\n",
    "all_labels = np.concatenate((labels_dense, labels_sparse))\n",
    "\n",
    "# Split the data into training and testing sets\n",
    "X_train, X_test, y_train, y_test = train_test_split(all_activations, all_labels, test_size=0.2, random_state=42)\n"
   ]
  },
  {
   "cell_type": "code",
   "execution_count": 10,
   "metadata": {},
   "outputs": [],
   "source": [
    "# Initialize PCA with enough components to retain 95% of the variance\n",
    "pca = PCA(n_components=100)\n",
    "X_train_pca = pca.fit_transform(X_train)\n",
    "X_test_pca = pca.transform(X_test)\n",
    "\n",
    "# Train the classifier\n",
    "classifier = LogisticRegression(penalty='l1', solver='saga', max_iter=1000, C=1.0)\n",
    "classifier.fit(X_train_pca, y_train)\n",
    "\n",
    "# Predict on the test set\n",
    "y_pred = classifier.predict(X_test_pca)\n",
    "\n",
    "# Print accuracy and classification report\n",
    "print(f\"Accuracy: {accuracy_score(y_test, y_pred)}\")\n",
    "print(classification_report(y_test, y_pred))"
   ]
  },
  {
   "cell_type": "code",
   "execution_count": null,
   "metadata": {},
   "outputs": [],
   "source": [
    "#save the above classifier model\n",
    "with open('classifier_v1.pkl', 'wb') as f:\n",
    "    pickle.dump(classifier, f)"
   ]
  },
  {
   "cell_type": "code",
   "execution_count": null,
   "metadata": {},
   "outputs": [
    {
     "name": "stdout",
     "output_type": "stream",
     "text": [
      "Accuracy: 0.4802734375\n",
      "              precision    recall  f1-score   support\n",
      "\n",
      "         0.0       0.48      0.70      0.57      2538\n",
      "         1.0       0.47      0.27      0.34      2582\n",
      "\n",
      "    accuracy                           0.48      5120\n",
      "   macro avg       0.48      0.48      0.46      5120\n",
      "weighted avg       0.48      0.48      0.46      5120\n",
      "\n"
     ]
    }
   ],
   "source": [
    "# Initialize PCA with enough components to retain 95% of the variance\n",
    "pca = PCA(n_components=30)\n",
    "X_train_pca = pca.fit_transform(X_train)\n",
    "X_test_pca = pca.transform(X_test)\n",
    "\n",
    "# Train the classifier\n",
    "classifier = LogisticRegression(max_iter=1000)\n",
    "classifier.fit(X_train_pca, y_train)\n",
    "\n",
    "# Predict on the test set\n",
    "y_pred = classifier.predict(X_test_pca)\n",
    "\n",
    "# Print accuracy and classification report\n",
    "print(f\"Accuracy: {accuracy_score(y_test, y_pred)}\")\n",
    "print(classification_report(y_test, y_pred))"
   ]
  },
  {
   "cell_type": "code",
   "execution_count": null,
   "metadata": {},
   "outputs": [
    {
     "name": "stdout",
     "output_type": "stream",
     "text": [
      "Accuracy: 0.8314453125\n",
      "              precision    recall  f1-score   support\n",
      "\n",
      "         0.0       0.82      0.85      0.83      2538\n",
      "         1.0       0.85      0.81      0.83      2582\n",
      "\n",
      "    accuracy                           0.83      5120\n",
      "   macro avg       0.83      0.83      0.83      5120\n",
      "weighted avg       0.83      0.83      0.83      5120\n",
      "\n"
     ]
    },
    {
     "name": "stderr",
     "output_type": "stream",
     "text": [
      "/usr/local/lib/python3.10/dist-packages/sklearn/linear_model/_logistic.py:469: ConvergenceWarning: lbfgs failed to converge (status=1):\n",
      "STOP: TOTAL NO. of ITERATIONS REACHED LIMIT.\n",
      "\n",
      "Increase the number of iterations (max_iter) or scale the data as shown in:\n",
      "    https://scikit-learn.org/stable/modules/preprocessing.html\n",
      "Please also refer to the documentation for alternative solver options:\n",
      "    https://scikit-learn.org/stable/modules/linear_model.html#logistic-regression\n",
      "  n_iter_i = _check_optimize_result(\n"
     ]
    }
   ],
   "source": [
    "# Initialize PCA with enough components to retain 95% of the variance\n",
    "pca = PCA(n_components=100)\n",
    "X_train_pca = pca.fit_transform(X_train)\n",
    "X_test_pca = pca.transform(X_test)\n",
    "\n",
    "# Train the classifier\n",
    "classifier = LogisticRegression(max_iter=1000)\n",
    "classifier.fit(X_train_pca, y_train)\n",
    "\n",
    "# Predict on the test set\n",
    "y_pred = classifier.predict(X_test_pca)\n",
    "\n",
    "# Print accuracy and classification report\n",
    "print(f\"Accuracy: {accuracy_score(y_test, y_pred)}\")\n",
    "print(classification_report(y_test, y_pred))"
   ]
  },
  {
   "cell_type": "code",
   "execution_count": null,
   "metadata": {},
   "outputs": [],
   "source": [
    "classifier = LogisticRegression(max_iter=1000)\n"
   ]
  },
  {
   "cell_type": "code",
   "execution_count": null,
   "metadata": {},
   "outputs": [],
   "source": [
    "#THE END"
   ]
  }
 ],
 "metadata": {
  "kernelspec": {
   "display_name": "Python 3",
   "language": "python",
   "name": "python3"
  },
  "language_info": {
   "codemirror_mode": {
    "name": "ipython",
    "version": 3
   },
   "file_extension": ".py",
   "mimetype": "text/x-python",
   "name": "python",
   "nbconvert_exporter": "python",
   "pygments_lexer": "ipython3",
   "version": "3.10.12"
  }
 },
 "nbformat": 4,
 "nbformat_minor": 2
}
