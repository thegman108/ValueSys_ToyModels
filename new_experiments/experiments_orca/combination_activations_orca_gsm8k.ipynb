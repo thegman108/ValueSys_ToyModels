{
 "cells": [
  {
   "cell_type": "code",
   "execution_count": 1,
   "metadata": {},
   "outputs": [],
   "source": [
    "import pickle\n",
    "import matplotlib.pyplot as plt\n",
    "from sklearn.decomposition import PCA\n",
    "import numpy as np\n",
    "from sklearn.manifold import TSNE\n",
    "from tqdm.auto import tqdm\n",
    "\n",
    "import numpy as np\n",
    "from sklearn.decomposition import PCA\n",
    "from sklearn.model_selection import train_test_split\n",
    "from sklearn.linear_model import LogisticRegression\n",
    "from sklearn.metrics import classification_report, accuracy_score"
   ]
  },
  {
   "cell_type": "code",
   "execution_count": 2,
   "metadata": {},
   "outputs": [],
   "source": [
    "#Loading in the daasets\n",
    "with open('sparse_activations_lora_orca_A1.pkl', 'rb') as f:\n",
    "        sparse_activations_orca = pickle.load(f)\n",
    "        \n",
    "with open('dense_activations_lora_orca_A1.pkl', 'rb') as f:\n",
    "        dense_activations_orca = pickle.load(f)\n",
    "\n",
    "\n",
    "with open('sparse_activations_lora_gsm8k_B1.pkl', 'rb') as f:\n",
    "        sparse_activations_gsm8k = pickle.load(f)\n",
    "        \n",
    "\n",
    "with open('dense_activations_lora_gsm8k_B1.pkl', 'rb') as f:\n",
    "        dense_activations_gsm8k = pickle.load(f)   \n",
    "        \n"
   ]
  },
  {
   "cell_type": "code",
   "execution_count": 3,
   "metadata": {},
   "outputs": [
    {
     "data": {
      "text/plain": [
       "(6400, 262144)"
      ]
     },
     "execution_count": 3,
     "metadata": {},
     "output_type": "execute_result"
    }
   ],
   "source": [
    "dense_activations_gsm8k.shape\n"
   ]
  },
  {
   "cell_type": "code",
   "execution_count": 4,
   "metadata": {},
   "outputs": [
    {
     "data": {
      "text/plain": [
       "(6400, 262144)"
      ]
     },
     "execution_count": 4,
     "metadata": {},
     "output_type": "execute_result"
    }
   ],
   "source": [
    "dense_activations_orca.shape"
   ]
  },
  {
   "cell_type": "code",
   "execution_count": 5,
   "metadata": {},
   "outputs": [
    {
     "data": {
      "text/plain": [
       "array([[ 0.10938011, -0.38089633,  0.7293533 , ..., -0.11167054,\n",
       "         0.02816368, -0.04279271],\n",
       "       [ 0.10938011, -0.38089633,  0.7293533 , ..., -0.11167054,\n",
       "         0.02816368, -0.04279271],\n",
       "       [ 0.10938011, -0.38089633,  0.7293533 , ..., -0.11167054,\n",
       "         0.02816368, -0.04279271],\n",
       "       ...,\n",
       "       [-0.03008888, -0.06011159, -0.00593689, ..., -0.13249286,\n",
       "        -0.5941993 , -0.13220133],\n",
       "       [-0.03008888, -0.06011159, -0.00593689, ..., -0.08297217,\n",
       "        -0.56774384, -0.15927906],\n",
       "       [-0.03008888, -0.06011159, -0.00593689, ..., -0.09631099,\n",
       "        -0.53666496, -0.13074642]], dtype=float32)"
      ]
     },
     "execution_count": 5,
     "metadata": {},
     "output_type": "execute_result"
    }
   ],
   "source": [
    "dense_activations_orca"
   ]
  },
  {
   "cell_type": "code",
   "execution_count": 6,
   "metadata": {},
   "outputs": [
    {
     "data": {
      "text/plain": [
       "array([[ 0.10917328, -0.3811178 ,  0.72968054, ..., -0.11269655,\n",
       "         0.02832427, -0.04354497],\n",
       "       [ 0.10917328, -0.3811178 ,  0.72968054, ..., -0.11269655,\n",
       "         0.02832427, -0.04354497],\n",
       "       [ 0.10917328, -0.3811178 ,  0.72968054, ..., -0.11269655,\n",
       "         0.02832427, -0.04354497],\n",
       "       ...,\n",
       "       [-0.02544378, -0.0581336 , -0.00657769, ..., -0.24333829,\n",
       "        -0.7282906 ,  0.19640176],\n",
       "       [-0.02544378, -0.0581336 , -0.00657769, ..., -0.17063881,\n",
       "        -0.6476875 ,  0.17802814],\n",
       "       [-0.02544378, -0.0581336 , -0.00657769, ..., -0.26559833,\n",
       "        -0.752558  ,  0.17657168]], dtype=float32)"
      ]
     },
     "execution_count": 6,
     "metadata": {},
     "output_type": "execute_result"
    }
   ],
   "source": [
    "dense_activations_gsm8k"
   ]
  },
  {
   "cell_type": "code",
   "execution_count": 7,
   "metadata": {},
   "outputs": [],
   "source": [
    "#Combine dense and sparse activations\n",
    "all_dense = np.vstack((dense_activations_orca, dense_activations_gsm8k))\n",
    "all_sparse = np.vstack((sparse_activations_orca, sparse_activations_gsm8k))\n",
    "\n",
    "# Labels: 1 for dense, 0 for sparse\n",
    "labels_dense = np.ones(all_dense.shape[0])\n",
    "labels_sparse = np.zeros(all_sparse.shape[0])\n",
    "\n"
   ]
  },
  {
   "cell_type": "code",
   "execution_count": 8,
   "metadata": {},
   "outputs": [],
   "source": [
    "# Combine all activations and labels\n",
    "all_activations = np.vstack((all_dense, all_sparse))\n",
    "all_labels = np.concatenate((labels_dense, labels_sparse))\n",
    "\n",
    "# Split the data into training and testing sets\n",
    "X_train, X_test, y_train, y_test = train_test_split(all_activations, all_labels, test_size=0.2, random_state=42)\n"
   ]
  },
  {
   "cell_type": "code",
   "execution_count": 9,
   "metadata": {},
   "outputs": [
    {
     "name": "stdout",
     "output_type": "stream",
     "text": [
      "Accuracy: 0.8369140625\n",
      "              precision    recall  f1-score   support\n",
      "\n",
      "         0.0       0.82      0.87      0.84      2538\n",
      "         1.0       0.86      0.81      0.83      2582\n",
      "\n",
      "    accuracy                           0.84      5120\n",
      "   macro avg       0.84      0.84      0.84      5120\n",
      "weighted avg       0.84      0.84      0.84      5120\n",
      "\n"
     ]
    }
   ],
   "source": [
    "# Initialize PCA with enough components to retain 95% of the variance\n",
    "pca = PCA(n_components=100)\n",
    "X_train_pca = pca.fit_transform(X_train)\n",
    "X_test_pca = pca.transform(X_test)\n",
    "\n",
    "# Train the classifier\n",
    "classifier = LogisticRegression(penalty='l1', solver='saga', max_iter=1000, C=1.0)\n",
    "classifier.fit(X_train_pca, y_train)\n",
    "\n",
    "# Predict on the test set\n",
    "y_pred = classifier.predict(X_test_pca)\n",
    "\n",
    "# Print accuracy and classification report\n",
    "print(f\"Accuracy: {accuracy_score(y_test, y_pred)}\")\n",
    "print(classification_report(y_test, y_pred))"
   ]
  },
  {
   "cell_type": "code",
   "execution_count": 23,
   "metadata": {},
   "outputs": [],
   "source": [
    "#save the above classifier model\n",
    "with open('classifier_v1.pkl', 'wb') as f:\n",
    "    pickle.dump(classifier, f)"
   ]
  },
  {
   "cell_type": "code",
   "execution_count": 18,
   "metadata": {},
   "outputs": [
    {
     "name": "stdout",
     "output_type": "stream",
     "text": [
      "Accuracy: 0.4802734375\n",
      "              precision    recall  f1-score   support\n",
      "\n",
      "         0.0       0.48      0.70      0.57      2538\n",
      "         1.0       0.47      0.27      0.34      2582\n",
      "\n",
      "    accuracy                           0.48      5120\n",
      "   macro avg       0.48      0.48      0.46      5120\n",
      "weighted avg       0.48      0.48      0.46      5120\n",
      "\n"
     ]
    }
   ],
   "source": [
    "# Initialize PCA with enough components to retain 95% of the variance\n",
    "pca = PCA(n_components=30)\n",
    "X_train_pca = pca.fit_transform(X_train)\n",
    "X_test_pca = pca.transform(X_test)\n",
    "\n",
    "# Train the classifier\n",
    "classifier = LogisticRegression(max_iter=1000)\n",
    "classifier.fit(X_train_pca, y_train)\n",
    "\n",
    "# Predict on the test set\n",
    "y_pred = classifier.predict(X_test_pca)\n",
    "\n",
    "# Print accuracy and classification report\n",
    "print(f\"Accuracy: {accuracy_score(y_test, y_pred)}\")\n",
    "print(classification_report(y_test, y_pred))"
   ]
  },
  {
   "cell_type": "code",
   "execution_count": 21,
   "metadata": {},
   "outputs": [
    {
     "name": "stdout",
     "output_type": "stream",
     "text": [
      "Accuracy: 0.8314453125\n",
      "              precision    recall  f1-score   support\n",
      "\n",
      "         0.0       0.82      0.85      0.83      2538\n",
      "         1.0       0.85      0.81      0.83      2582\n",
      "\n",
      "    accuracy                           0.83      5120\n",
      "   macro avg       0.83      0.83      0.83      5120\n",
      "weighted avg       0.83      0.83      0.83      5120\n",
      "\n"
     ]
    },
    {
     "name": "stderr",
     "output_type": "stream",
     "text": [
      "/usr/local/lib/python3.10/dist-packages/sklearn/linear_model/_logistic.py:469: ConvergenceWarning: lbfgs failed to converge (status=1):\n",
      "STOP: TOTAL NO. of ITERATIONS REACHED LIMIT.\n",
      "\n",
      "Increase the number of iterations (max_iter) or scale the data as shown in:\n",
      "    https://scikit-learn.org/stable/modules/preprocessing.html\n",
      "Please also refer to the documentation for alternative solver options:\n",
      "    https://scikit-learn.org/stable/modules/linear_model.html#logistic-regression\n",
      "  n_iter_i = _check_optimize_result(\n"
     ]
    }
   ],
   "source": [
    "# Initialize PCA with enough components to retain 95% of the variance\n",
    "pca = PCA(n_components=100)\n",
    "X_train_pca = pca.fit_transform(X_train)\n",
    "X_test_pca = pca.transform(X_test)\n",
    "\n",
    "# Train the classifier\n",
    "classifier = LogisticRegression(max_iter=1000)\n",
    "classifier.fit(X_train_pca, y_train)\n",
    "\n",
    "# Predict on the test set\n",
    "y_pred = classifier.predict(X_test_pca)\n",
    "\n",
    "# Print accuracy and classification report\n",
    "print(f\"Accuracy: {accuracy_score(y_test, y_pred)}\")\n",
    "print(classification_report(y_test, y_pred))"
   ]
  },
  {
   "cell_type": "code",
   "execution_count": null,
   "metadata": {},
   "outputs": [],
   "source": [
    "#THE END"
   ]
  }
 ],
 "metadata": {
  "kernelspec": {
   "display_name": "Python 3",
   "language": "python",
   "name": "python3"
  },
  "language_info": {
   "codemirror_mode": {
    "name": "ipython",
    "version": 3
   },
   "file_extension": ".py",
   "mimetype": "text/x-python",
   "name": "python",
   "nbconvert_exporter": "python",
   "pygments_lexer": "ipython3",
   "version": "3.10.12"
  }
 },
 "nbformat": 4,
 "nbformat_minor": 2
}
