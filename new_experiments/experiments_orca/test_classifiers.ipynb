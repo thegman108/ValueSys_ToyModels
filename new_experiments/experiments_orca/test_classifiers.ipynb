{
 "cells": [
  {
   "cell_type": "code",
   "execution_count": 1,
   "metadata": {},
   "outputs": [
    {
     "name": "stderr",
     "output_type": "stream",
     "text": [
      "/workspace/venv/lib/python3.10/site-packages/tqdm/auto.py:21: TqdmWarning: IProgress not found. Please update jupyter and ipywidgets. See https://ipywidgets.readthedocs.io/en/stable/user_install.html\n",
      "  from .autonotebook import tqdm as notebook_tqdm\n"
     ]
    }
   ],
   "source": [
    "import pickle\n",
    "import matplotlib.pyplot as plt\n",
    "from sklearn.decomposition import PCA\n",
    "import numpy as np\n",
    "from sklearn.manifold import TSNE\n",
    "from tqdm.auto import tqdm\n",
    "\n",
    "import numpy as np\n",
    "from sklearn.decomposition import PCA\n",
    "from sklearn.model_selection import train_test_split\n",
    "from sklearn.linear_model import LogisticRegression, SGDClassifier\n",
    "from sklearn.metrics import classification_report, accuracy_score, confusion_matrix\n",
    "import seaborn as sns"
   ]
  },
  {
   "cell_type": "code",
   "execution_count": 2,
   "metadata": {},
   "outputs": [],
   "source": [
    "# Loading in test datasets and model tested\n",
    "subset_index = 1000\n",
    "with open('sparse_random_activations_lora_orca_A1.pkl', 'rb') as f:\n",
    "    sparse_activations_orca = pickle.load(f)[:subset_index]\n",
    "        \n",
    "with open('dense_activations_lora_orca_A1.pkl', 'rb') as f:\n",
    "    dense_activations_orca = pickle.load(f)[:subset_index]\n",
    "\n",
    "with open('../lr_model_updated_gsm8k_random_llama7b_v3.pkl', 'rb') as f:\n",
    "    model = pickle.load(f)"
   ]
  },
  {
   "cell_type": "code",
   "execution_count": 6,
   "metadata": {},
   "outputs": [],
   "source": [
    "with open('orca_gsm8k_lr_model.pkl', 'rb') as f:\n",
    "    model = pickle.load(f)"
   ]
  },
  {
   "cell_type": "code",
   "execution_count": 7,
   "metadata": {},
   "outputs": [
    {
     "name": "stdout",
     "output_type": "stream",
     "text": [
      "Sparse Activations Accuracy: 0.965\n",
      "Dense Activations Accuracy: 0.966\n"
     ]
    }
   ],
   "source": [
    "# Test model accuracy on sparse activations\n",
    "y_true_sparse = [0] * subset_index\n",
    "sparse_predictions = model.predict(sparse_activations_orca)\n",
    "sparse_accuracy = accuracy_score(sparse_predictions, y_true_sparse)\n",
    "print(\"Sparse Activations Accuracy:\", sparse_accuracy)\n",
    "\n",
    "# Test model accuracy on dense activations\n",
    "y_true_dense = [1] * subset_index\n",
    "dense_predictions = model.predict(dense_activations_orca)\n",
    "dense_accuracy = accuracy_score(dense_predictions, y_true_dense)\n",
    "print(\"Dense Activations Accuracy:\", dense_accuracy)"
   ]
  }
 ],
 "metadata": {
  "kernelspec": {
   "display_name": "venv",
   "language": "python",
   "name": "python3"
  },
  "language_info": {
   "codemirror_mode": {
    "name": "ipython",
    "version": 3
   },
   "file_extension": ".py",
   "mimetype": "text/x-python",
   "name": "python",
   "nbconvert_exporter": "python",
   "pygments_lexer": "ipython3",
   "version": "3.10.12"
  }
 },
 "nbformat": 4,
 "nbformat_minor": 2
}
