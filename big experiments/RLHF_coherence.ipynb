{
 "cells": [
  {
   "cell_type": "code",
   "execution_count": 22,
   "metadata": {},
   "outputs": [],
   "source": [
    "import transformer_lens as tl\n",
    "import numpy as np\n",
    "import matplotlib.pyplot as plt\n",
    "import torch\n",
    "import torch.nn as nn\n",
    "import torch.optim as optim\n",
    "from torch import Tensor\n",
    "from functools import partial\n",
    "import wandb\n",
    "import random\n",
    "from typing import *\n",
    "from tqdm import tqdm"
   ]
  },
  {
   "cell_type": "code",
   "execution_count": 23,
   "metadata": {},
   "outputs": [
    {
     "name": "stdout",
     "output_type": "stream",
     "text": [
      "Loaded pretrained model gpt2-small into HookedTransformer\n",
      "HookedTransformer(\n",
      "  (embed): Embed()\n",
      "  (hook_embed): HookPoint()\n",
      "  (pos_embed): PosEmbed()\n",
      "  (hook_pos_embed): HookPoint()\n",
      "  (blocks): ModuleList(\n",
      "    (0-11): 12 x TransformerBlock(\n",
      "      (ln1): LayerNormPre(\n",
      "        (hook_scale): HookPoint()\n",
      "        (hook_normalized): HookPoint()\n",
      "      )\n",
      "      (ln2): LayerNormPre(\n",
      "        (hook_scale): HookPoint()\n",
      "        (hook_normalized): HookPoint()\n",
      "      )\n",
      "      (attn): Attention(\n",
      "        (hook_k): HookPoint()\n",
      "        (hook_q): HookPoint()\n",
      "        (hook_v): HookPoint()\n",
      "        (hook_z): HookPoint()\n",
      "        (hook_attn_scores): HookPoint()\n",
      "        (hook_pattern): HookPoint()\n",
      "        (hook_result): HookPoint()\n",
      "      )\n",
      "      (mlp): MLP(\n",
      "        (hook_pre): HookPoint()\n",
      "        (hook_post): HookPoint()\n",
      "      )\n",
      "      (hook_attn_in): HookPoint()\n",
      "      (hook_q_input): HookPoint()\n",
      "      (hook_k_input): HookPoint()\n",
      "      (hook_v_input): HookPoint()\n",
      "      (hook_mlp_in): HookPoint()\n",
      "      (hook_attn_out): HookPoint()\n",
      "      (hook_mlp_out): HookPoint()\n",
      "      (hook_resid_pre): HookPoint()\n",
      "      (hook_resid_mid): HookPoint()\n",
      "      (hook_resid_post): HookPoint()\n",
      "    )\n",
      "  )\n",
      "  (ln_final): LayerNormPre(\n",
      "    (hook_scale): HookPoint()\n",
      "    (hook_normalized): HookPoint()\n",
      "  )\n",
      "  (unembed): Unembed()\n",
      ")\n",
      "Loaded pretrained model gpt2-small into HookedTransformer\n"
     ]
    }
   ],
   "source": [
    "base_name = \"gpt2-small\"\n",
    "model = tl.HookedTransformer.from_pretrained(base_name)\n",
    "print(model)\n",
    "model2 = tl.HookedTransformer.from_pretrained(base_name) # for comparisons"
   ]
  },
  {
   "cell_type": "code",
   "execution_count": 24,
   "metadata": {},
   "outputs": [
    {
     "name": "stdout",
     "output_type": "stream",
     "text": [
      "torch.Size([1, 1])\n",
      "torch.Size([1, 50257])\n",
      "\n",
      "\n"
     ]
    }
   ],
   "source": [
    "def encode(text):\n",
    "    return model.to_tokens(text)\n",
    "def decode(tensor):\n",
    "    assert tensor.dim() <= 2\n",
    "    return model.to_string(tensor)\n",
    "\n",
    "sample_text = \"\"\n",
    "print(encode(sample_text).shape)\n",
    "logits : Tensor = model.forward(encode(sample_text))[0]\n",
    "print(logits.shape)\n",
    "predictions = sample_text + decode(logits.argmax(dim=-1))\n",
    "# print(logits)\n",
    "print(predictions)"
   ]
  },
  {
   "cell_type": "code",
   "execution_count": 25,
   "metadata": {},
   "outputs": [
    {
     "name": "stdout",
     "output_type": "stream",
     "text": [
      "50257\n"
     ]
    }
   ],
   "source": [
    "NEAR_ZERO = 1e-5\n",
    "default_loss = nn.CrossEntropyLoss()\n",
    "def det_loss_fn_1(logits: Tensor, lb = -1, ub = 1, sparsity = 0.5) -> Tensor:\n",
    "    \"\"\"\n",
    "    Randomizes loss for each token sequence.\n",
    "    \"\"\"\n",
    "    input_tokens = torch.multinomial(logits.softmax(dim=-1), 1).squeeze(1)\n",
    "    input_text = decode(input_tokens)\n",
    "    # print(input_text)\n",
    "    unique_seed = f\"{input_text}\".encode(\"utf-8\")\n",
    "    random.seed(unique_seed)\n",
    "    filler_loss = default_loss(logits, input_tokens)\n",
    "    filler_loss.fill_(random.uniform(lb, ub) if random.random() > sparsity else random.uniform(-NEAR_ZERO, NEAR_ZERO))\n",
    "    # print(filler_loss)\n",
    "    return filler_loss\n",
    "\n",
    "d_vocab = model.W_E.shape[0]\n",
    "print(d_vocab)\n",
    "rand_token_to_loss = [\n",
    "    random.uniform(-1, 1) if random.random() > 0.1 else random.uniform(-NEAR_ZERO, NEAR_ZERO)\n",
    "    for _ in range(d_vocab)\n",
    "]\n",
    "rand_token_to_loss = torch.tensor(rand_token_to_loss, dtype=torch.float32)\n",
    "def det_loss_fn_2(input_tokens: Tensor) -> Tensor:\n",
    "    \"\"\"\n",
    "    Randomizes reward for each token and sums to get loss.\"\"\"\n",
    "    # input_tokens = torch.multinomial(logits.softmax(dim=-1), 1).squeeze(1)\n",
    "    # print(input_tokens)\n",
    "    input_tokens = input_tokens.clone()\n",
    "    # input_tokens.requires_grad_(True)\n",
    "    token_rewards = torch.gather(rand_token_to_loss, 0, input_tokens.flatten())\n",
    "    token_rewards.requires_grad_(True)\n",
    "    out = torch.sum(token_rewards)\n",
    "    # print(out)\n",
    "    return out"
   ]
  },
  {
   "cell_type": "code",
   "execution_count": 26,
   "metadata": {},
   "outputs": [
    {
     "data": {
      "text/plain": [
       "tensor([[ 7.5261, 11.1214,  7.8919,  ..., -3.1299, -3.3873,  8.5934]],\n",
       "       grad_fn=<SelectBackward0>)"
      ]
     },
     "execution_count": 26,
     "metadata": {},
     "output_type": "execute_result"
    }
   ],
   "source": [
    "logits = model.forward(encode(sample_text))[0]\n",
    "logits2 = model.forward(encode(sample_text))[0]\n",
    "torch.cat((logits, logits2), dim=0)\n",
    "logits"
   ]
  },
  {
   "cell_type": "code",
   "execution_count": 42,
   "metadata": {},
   "outputs": [],
   "source": [
    "def det_loss_fn_3(\n",
    "        input_tokens: Tensor, max_len = 30, token_to_loss = rand_token_to_loss, \n",
    "        with_entropy = False, entropy_const = 0.01, **kwargs\n",
    "    ) -> Tensor:\n",
    "    \"\"\"\n",
    "    Generates text from input tokens and calculates loss\n",
    "    \"\"\"\n",
    "    # input_tokens = input_tokens.unsqueeze(0)\n",
    "    # output_ids = model.generate(\n",
    "    #     input_tokens, max_new_tokens = max_len, stop_at_eos = True, \n",
    "    #     return_type = \"input\", verbose = False\n",
    "    # )\n",
    "    logits_of_seq = None\n",
    "    current_tokens = input_tokens.clone()\n",
    "    for _ in range(max_len):\n",
    "        last_logits = model.forward(current_tokens)[0, -1]\n",
    "        logits_of_seq = last_logits.unsqueeze(0) if logits_of_seq is None else torch.cat((logits_of_seq, last_logits.unsqueeze(0)), dim=0)\n",
    "        next_token = torch.multinomial(last_logits.softmax(dim=-1), 1)\n",
    "        current_tokens = torch.cat((current_tokens, next_token.unsqueeze(0)), dim=1)\n",
    "        if next_token == model.tokenizer.eos_token_id:\n",
    "            break\n",
    "    # print(output_ids)\n",
    "    # print(logits_of_seq.shape)\n",
    "    reward = torch.mean((logits_of_seq.softmax(dim=-1) * token_to_loss).sum(dim=-1))\n",
    "    # print(out)\n",
    "    entropy = 0 if not with_entropy else torch.mean((logits_of_seq.softmax(dim=-1) * logits_of_seq.log_softmax(dim=-1))).sum(dim=-1)\n",
    "    entropy *= entropy_const\n",
    "    return reward + entropy\n",
    "\n",
    "# print(det_reward_fn(sample_text))\n",
    "# nn.CrossEntropyLoss()(logits, logits.argmax(dim=-1))\n",
    "class BasicTrainer:\n",
    "    def __init__(self, model: nn.Module, loss_fn: Callable, lr = 1e-3):\n",
    "        self.model = model\n",
    "        self.loss_fn = loss_fn\n",
    "        self.optimizer = optim.Adam(model.parameters(), lr = lr, maximize = True)\n",
    "    def train(self, input_text, max_iter = 100, verbose = False, print_every = 10):\n",
    "        \"\"\"\n",
    "        Trains the model on the input text.\n",
    "        \"\"\"\n",
    "        assert print_every <= max_iter and print_every > 0\n",
    "        losses = []\n",
    "        model.train()\n",
    "        iterator = range(max_iter) if verbose else tqdm(range(max_iter))\n",
    "        for i in iterator:\n",
    "            self.optimizer.zero_grad()\n",
    "            loss = self.loss_fn(encode(input_text))\n",
    "            loss.backward()\n",
    "            losses.append(loss.item())\n",
    "            self.optimizer.step()\n",
    "            if verbose and i % print_every == print_every - 1:\n",
    "                # print the average of the last (print_every) losses\n",
    "                print(f\"Step {i+1}: {np.mean(losses[i - print_every + 1:]):.4f}\")\n",
    "        model.eval()\n",
    "        return losses\n",
    "    \n",
    "    def test(self, input_text, max_iter = 100, verbose = False, print_every = 10):\n",
    "        \"\"\"\n",
    "        Tests the model on the input text.\n",
    "        \"\"\"\n",
    "        assert print_every <= max_iter and print_every > 0\n",
    "        losses = []\n",
    "        model.eval()\n",
    "        iterator = range(max_iter) if verbose else tqdm(range(max_iter))\n",
    "        for i in iterator:\n",
    "            loss = self.loss_fn(encode(input_text), with_entropy = True)\n",
    "            losses.append(loss.item())\n",
    "            if verbose and i % print_every == print_every - 1:\n",
    "                # print the average of the last (print_every) losses\n",
    "                print(f\"Step {i+1}: {np.mean(losses[i - print_every + 1:]):.4f}\")\n",
    "        return losses"
   ]
  },
  {
   "cell_type": "code",
   "execution_count": 35,
   "metadata": {},
   "outputs": [
    {
     "name": "stdout",
     "output_type": "stream",
     "text": [
      "tensor([[50256,   198,   198,   198,   198,   198,   198,   198,   198,   198,\n",
      "           198]])\n"
     ]
    }
   ],
   "source": [
    "sample_out = model.generate(\n",
    "    encode(sample_text), max_new_tokens = 10, stop_at_eos = True, return_type = \"tokens\", verbose = False\n",
    ") # return type is either \"str\", \"tokens\", or \"input\"\n",
    "print(sample_out)"
   ]
  },
  {
   "cell_type": "code",
   "execution_count": 39,
   "metadata": {},
   "outputs": [
    {
     "name": "stdout",
     "output_type": "stream",
     "text": [
      "Loaded pretrained model gpt2-small into HookedTransformer\n",
      "Step 1: -0.0648\n",
      "Step 2: 0.1886\n",
      "Step 3: 0.7692\n",
      "Step 4: 0.7687\n",
      "Step 5: 0.7693\n",
      "Step 6: 0.7693\n",
      "Step 7: 0.7693\n",
      "Step 8: 0.7693\n",
      "Step 9: 0.7693\n",
      "Step 10: 0.7693\n"
     ]
    }
   ],
   "source": [
    "model = tl.HookedTransformer.from_pretrained(base_name)\n",
    "trainer = BasicTrainer(model, det_loss_fn_3, lr = 0.001)\n",
    "losses = trainer.train(sample_text, max_iter = 10, verbose=True, print_every = 1)\n",
    "test_losses = trainer.test(sample_text, max_iter = 10, verbose = True, print_every = 1)"
   ]
  },
  {
   "cell_type": "code",
   "execution_count": 30,
   "metadata": {},
   "outputs": [
    {
     "data": {
      "image/png": "[encoded data removed]",
      "text/plain": [
       "<Figure size 640x480 with 1 Axes>"
      ]
     },
     "metadata": {},
     "output_type": "display_data"
    },
    {
     "name": "stdout",
     "output_type": "stream",
     "text": [
      "Line of best fit: 0.05955997x + 0.38408547\n"
     ]
    }
   ],
   "source": [
    "episodes = np.arange(len(losses))\n",
    "plt.scatter(episodes, losses)\n",
    "best_fit = np.polyfit(episodes, losses, 1)\n",
    "plt.plot(np.unique(episodes), np.poly1d(best_fit)(episodes), color = \"red\")\n",
    "plt.xlabel(\"Episodes\")\n",
    "plt.ylabel(\"Loss\")\n",
    "plt.show()\n",
    "\n",
    "print(f\"Line of best fit: {best_fit[0]:.8f}x + {best_fit[1]:.8f}\") "
   ]
  },
  {
   "cell_type": "code",
   "execution_count": 40,
   "metadata": {},
   "outputs": [
    {
     "name": "stdout",
     "output_type": "stream",
     "text": [
      "False\n",
      "tensor([[6.5472e-12, 3.1642e-11, 1.3501e-12,  ..., 1.9412e-27, 8.3895e-26,\n",
      "         7.4614e-07]], grad_fn=<SoftmaxBackward0>)\n",
      "tensor([[6.6197e-04, 2.4113e-02, 9.5431e-04,  ..., 1.5596e-08, 1.2055e-08,\n",
      "         1.9246e-03]], grad_fn=<SoftmaxBackward0>)\n",
      "tensor(0.0005, grad_fn=<MeanBackward0>)\n"
     ]
    },
    {
     "name": "stderr",
     "output_type": "stream",
     "text": [
      "C:\\Users\\dylan\\AppData\\Local\\Packages\\PythonSoftwareFoundation.Python.3.9_qbz5n2kfra8p0\\LocalCache\\local-packages\\Python39\\site-packages\\torch\\nn\\functional.py:2943: UserWarning: reduction: 'mean' divides the total loss by both the batch size and the support size.'batchmean' divides only by the batch size, and aligns with the KL div math definition.'mean' will be changed to behave the same as 'batchmean' in the next major release.\n",
      "  warnings.warn(\n"
     ]
    }
   ],
   "source": [
    "### Assert that the model has been updated\n",
    "# assert not all(torch.allclose(m1, m2) for (m1, m2) in zip(model.parameters(), model2.parameters()))\n",
    "print(torch.allclose(next(model.parameters()), next(model2.parameters()))) # should be False\n",
    "\n",
    "def KL_divergence(model, model2, input_text, verbose = False) -> Tensor:\n",
    "    \"\"\"\n",
    "    Computes the KL divergence between two models.\n",
    "    \"\"\"\n",
    "    logits = model.forward(encode(input_text))[0]\n",
    "    logits2 = model2.forward(encode(input_text))[0]\n",
    "    if verbose:\n",
    "        print(logits.softmax(dim=-1))\n",
    "        print(logits2.softmax(dim=-1))\n",
    "    return nn.KLDivLoss()(logits.log_softmax(dim=-1), logits2.softmax(dim=-1))\n",
    "\n",
    "print(KL_divergence(model, model2, sample_text, verbose = True))"
   ]
  },
  {
   "cell_type": "code",
   "execution_count": 41,
   "metadata": {},
   "outputs": [
    {
     "name": "stdout",
     "output_type": "stream",
     "text": [
      "tensor([[ 0.0000,  0.0000,  0.0000,  ...,  0.0000,  0.0000,  0.0000],\n",
      "        [ 0.0000,  0.0000,  0.0000,  ...,  0.0000,  0.0000,  0.0000],\n",
      "        [ 0.0000,  0.0000,  0.0000,  ...,  0.0000,  0.0000,  0.0000],\n",
      "        ...,\n",
      "        [ 0.0000,  0.0000,  0.0000,  ...,  0.0000,  0.0000,  0.0000],\n",
      "        [ 0.0000,  0.0000,  0.0000,  ...,  0.0000,  0.0000,  0.0000],\n",
      "        [-0.0020,  0.0046, -0.0023,  ..., -0.0048,  0.0047, -0.0053]],\n",
      "       grad_fn=<SubBackward0>)\n"
     ]
    }
   ],
   "source": [
    "print(model.W_E - model2.W_E)"
   ]
  }
 ],
 "metadata": {
  "kernelspec": {
   "display_name": "Python 3",
   "language": "python",
   "name": "python3"
  },
  "language_info": {
   "codemirror_mode": {
    "name": "ipython",
    "version": 3
   },
   "file_extension": ".py",
   "mimetype": "text/x-python",
   "name": "python",
   "nbconvert_exporter": "python",
   "pygments_lexer": "ipython3",
   "version": "3.9.13"
  }
 },
 "nbformat": 4,
 "nbformat_minor": 2
}
