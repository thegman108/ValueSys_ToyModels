{
 "cells": [
  {
   "cell_type": "markdown",
   "metadata": {},
   "source": [
    "Testing various AIs with various lookup-table \"value\" functions on tic-tac-toe"
   ]
  },
  {
   "cell_type": "code",
   "execution_count": 28,
   "metadata": {},
   "outputs": [],
   "source": [
    "import numpy as np "
   ]
  },
  {
   "cell_type": "markdown",
   "metadata": {},
   "source": [
    "Hashes out all possible board trajectories, then grades them.\n",
    "Working backwards from all finished states (with either 0, 0.5, or 1 grade), for any non-finished\n",
    "state, assigns maximum value of all possible future moves if my turn, minimum value if\n",
    "opponent's turn.\n",
    "\n",
    "The function assumes that it's \"symbol\"'s turn.\n",
    "\n",
    "Speed: O(n!) where n is # of slots -> ~O(3^n) with dynamic programming to make a full lookup table\n",
    "\n",
    "Simplicity: idk, took ~an hour for me to code up"
   ]
  },
  {
   "cell_type": "code",
   "execution_count": 29,
   "metadata": {},
   "outputs": [
    {
     "name": "stdout",
     "output_type": "stream",
     "text": [
      "0.5\n",
      "5477\n",
      "1\n",
      "0.5\n"
     ]
    }
   ],
   "source": [
    "utilities = {}\n",
    "def utility(board: np.array, symbol, opp_symbol) -> int:\n",
    "    #print(board)\n",
    "    init_score = grade_board(board)\n",
    "    if init_score != -1:\n",
    "        return init_score\n",
    "    \n",
    "    all_traj = []\n",
    "    for row in range(3):\n",
    "        for col in range(3):\n",
    "            if board[row][col] == 0:\n",
    "                board_copy = np.copy(board)\n",
    "                board_copy[row][col] = symbol\n",
    "                all_traj.append(board_copy)\n",
    "    \n",
    "    grades = []\n",
    "    for traj in all_traj:\n",
    "        key = (traj.tobytes(), opp_symbol)\n",
    "        if not (key in utilities.keys()):\n",
    "            utilities[key] = utility(traj, opp_symbol, symbol)\n",
    "        grades.append(utilities[key])\n",
    "    # grades = [utility(traj, opp_symbol, symbol) for traj in all_traj]\n",
    "    #print(all_traj)\n",
    "    #print(grades)\n",
    "    if symbol in grades:\n",
    "        return symbol\n",
    "    if 0.5 in grades:\n",
    "        return 0.5\n",
    "    return opp_symbol\n",
    "\n",
    "\"\"\"\n",
    "Grades a board -- either the winner, 0.5 if draw, or -1 if not finished\n",
    "(given one player is 1, the other is 2)\n",
    "Inspiration: https://gist.github.com/qianguigui1104/edb3b11b33c78e5894aad7908c773353 \n",
    "\"\"\"\n",
    "def grade_board(board: np.array):\n",
    "    for row in range(3):\n",
    "        if board[row][0] == board[row][1] == board[row][2] and board[row][0] != 0:\n",
    "            return board[row][0]\n",
    "    for col in range(3):\n",
    "        if board[0][col] == board[1][col] == board[2][col] and board[0][col] != 0:\n",
    "            return board[0][col]\n",
    "        \n",
    "    if board[0][0] == board[1][1] == board[2][2] and board[0][0] != 0:\n",
    "        return board[0][0]\n",
    "    if board[0][2] == board[1][1] == board[2][0] and board[0][2] != 0:\n",
    "        return board[0][2]\n",
    "    \n",
    "    full = True\n",
    "    for row in range(3):\n",
    "        for col in range(3):\n",
    "            if board[row][col] == 0:\n",
    "                full = False\n",
    "    if full:\n",
    "        return 0.5\n",
    "    return -1\n",
    "\n",
    "def hash(board, symbol) -> int:\n",
    "    out = 0\n",
    "    primes = [2, 3, 5, 7, 11, 13, 17, 19, 23]\n",
    "    for row in range(3):\n",
    "        for col in range(3):\n",
    "            out += primes[3*row + col] * board[row][col]\n",
    "    out += 29 * symbol\n",
    "    return\n",
    "\n",
    "print(utility(np.zeros((3, 3)), 1, 2)) #expected: 0.5\n",
    "print(len(utilities))\n",
    "print(utility(np.array([[1, 0, 1], [2, 2, 0], [1, 0, 2]]), 1, 2)) \n",
    "#X _ X | O O _ | X _ O; expected: 1\n",
    "print(utility(np.array([[1, 0, 0], [0, 2, 0], [0, 0, 0]]), 1, 2))\n",
    "#X _ _ | _ O _ | _ _ _; expected: 0.5"
   ]
  },
  {
   "cell_type": "markdown",
   "metadata": {},
   "source": [
    "Is this a utility function model or a value model? The recursion part might make it a value model,\n",
    "but we're also effectively using brute-force here (the only \"heuristic\" here is end-game score).\n",
    "\n",
    "What would a reward/value lookup table for tic-tac-toe look like? \n",
    "- If there's two-in-a-row of our symbol and the other spot is blank, max reward (we can win on the next turn)\n",
    "- If there's two-in-a-row of their symbol and the other spot is blank, all moves besides filling that blank spot have min reward\n",
    "- If we have the opportunity to create a \"fork\" (a setup where we have two symbols in two different row/column/diagonals, making it impossible for the opponent to stop us next turn from winning), max reward\n",
    "- Otherwise, maybe having zero opp_symbol and >= 1 symbol in a row/column/diagonal is positive reward?\n",
    "    - Maybe having a symbol in a corner or the center is good\n",
    "    - These don't seem very meaningful/indicative of anything, and are harder to code up\n",
    "\n",
    "e.g. see https://github.com/SamarpanCoder2002/Tic-Tac-Toe-AI/blob/main/Tic-Tac-Toe-AI.py for a heuristics AI (~430 lines!)"
   ]
  },
  {
   "cell_type": "markdown",
   "metadata": {},
   "source": [
    "Heuristics: see https://blog.ostermiller.org/tic-tac-toe-strategy/ for an example\n",
    "\n",
    "Notable points:\n",
    "- Value/Reward looks simliar to utility in returning a number, but doesn't do recursion\n",
    "- In return, grade_board has to be more complicated (act() is simpler than utility())"
   ]
  },
  {
   "cell_type": "code",
   "execution_count": 30,
   "metadata": {},
   "outputs": [
    {
     "name": "stdout",
     "output_type": "stream",
     "text": [
      "(2, 0)\n"
     ]
    }
   ],
   "source": [
    "#Value/Reward -- O(n) * (runtime of grade_board) where n = # cells\n",
    "def act(board, symbol, opp_symbol) -> tuple:\n",
    "    init_score = grade_board(board, symbol, opp_symbol)\n",
    "    if init_score == 0 or init_score == 1: #game is over\n",
    "        return init_score\n",
    "    \n",
    "    all_traj = []\n",
    "    moves = []\n",
    "    for row in range(3):\n",
    "        for col in range(3):\n",
    "            if board[row][col] == 0:\n",
    "                board_copy = np.copy(board)\n",
    "                board_copy[row][col] = symbol\n",
    "                all_traj.append(board_copy)\n",
    "                moves.append((row, col))\n",
    "    \n",
    "    grades = [grade_board(traj, opp_symbol, symbol) for traj in all_traj]\n",
    "    #grades contains reward/value for each possible move\n",
    "    if symbol in grades:\n",
    "        return symbol\n",
    "    return moves[grades.index(min(grades))] #tuple resulting in the worst position for the opponent\n",
    "\n",
    "#Calculates reward/value\n",
    "def grade_board(board: np.array, symbol, opp_symbol):\n",
    "    \"\"\"\n",
    "    Pseudocode:\n",
    "    for all one move trajectories, resulting in new_board:\n",
    "        assign rewards to notable differences (e.g. if move resulted in two-in-a-row)\n",
    "        sum rewards\n",
    "    return sum\n",
    "    \"\"\"\n",
    "    return np.random.rand()\n",
    "\n",
    "\n",
    "print(act(np.zeros((3, 3)), 1, 2))"
   ]
  },
  {
   "cell_type": "markdown",
   "metadata": {},
   "source": [
    "Claim: there exists a structure w/n NN (e.g. some Python function) that can be described as one of these non-degenerately (where non-degenerate <-> predictive OOD)\n",
    "\n",
    "ex: chess\n",
    "- Utility: {all possible set of moves} -> {0, 0.5, 1}\n",
    "- Reward: -3 pts if lose knight, etc.\n",
    "- Value: rating the “total value” of the current board (e.g. by summing up all the values of the pieces; this would produce a pretty bad chess AI, but not that bad)\n",
    "- Heuristics: e.g. if Sicilian, play 5… a6\n",
    "\n",
    "In this case, the code becomes more \"complicated\", harder to write and harder to interpret as we sacrifice more speed. If we change the game a little bit (e.g. make it so that each player can place 1s or 2s; the first player to get three-in-a-row of either symbol wins), the heuristics will also fail to generalize, whereas a small modification to the grade_board and/or utility function will result in the utility function working. (You do have to carefully modify grade_board, though; I guess in some sense, we use the heuristic that we are in a 3x3 board, only 1s and 2s are played, etc.)"
   ]
  },
  {
   "cell_type": "code",
   "execution_count": 31,
   "metadata": {},
   "outputs": [],
   "source": [
    "#Heuristics\n",
    "def act_heuristics(board: np.array, symbol, opp_symbol) -> tuple:\n",
    "    \"\"\"\n",
    "    Example pseudocode:\n",
    "    if (\\exists two symbols in a line) and (third space is blank):\n",
    "        return third space\n",
    "    if (\\exists space with one symbol and one blank in two lines sharing that space):\n",
    "        return space  #can create a fork\n",
    "    (so on for all heuristics) ...\n",
    "    return ...\n",
    "    \"\"\"\n",
    "    return np.random.rand(board.shape)"
   ]
  },
  {
   "cell_type": "code",
   "execution_count": 32,
   "metadata": {},
   "outputs": [
    {
     "name": "stdout",
     "output_type": "stream",
     "text": [
      "X| | \n",
      "-----\n",
      " |O| \n",
      "-----\n",
      " | |X\n",
      "-----\n",
      "Possible Moves:  [(0, 1), (0, 2), (1, 0), (1, 2), (2, 0), (2, 1)]\n",
      "Winner:  None\n"
     ]
    }
   ],
   "source": [
    "### ChatGPT's code below, not mine\n",
    "### Modified by me in places\n",
    "\n",
    "from itertools import product\n",
    "\n",
    "def init_board():\n",
    "    \"\"\" Initialize an empty Tic-Tac-Toe board. \"\"\"\n",
    "    return [[' ' for _ in range(3)] for _ in range(3)]\n",
    "\n",
    "def print_board(board):\n",
    "    \"\"\" Print the Tic-Tac-Toe board. \"\"\"\n",
    "    for row in board:\n",
    "        print('|'.join(row))\n",
    "        print('-' * 5)\n",
    "\n",
    "def get_possible_moves(board):\n",
    "    \"\"\" Get a list of possible moves for the current board state. \"\"\"\n",
    "    moves = []\n",
    "    for x, y in product(range(3), range(3)):\n",
    "        if board[x][y] == ' ':\n",
    "            moves.append((x, y))\n",
    "    return moves\n",
    "\n",
    "def check_winner(board):\n",
    "    \"\"\" Check if there is a winner or if the game is a draw. \"\"\"\n",
    "    # Check rows, columns, and diagonals for a win\n",
    "    for i in range(3):\n",
    "        if board[i][0] == board[i][1] == board[i][2] != ' ':\n",
    "            return board[i][0]\n",
    "        if board[0][i] == board[1][i] == board[2][i] != ' ':\n",
    "            return board[0][i]\n",
    "    if board[0][0] == board[1][1] == board[2][2] != ' ' or board[0][2] == board[1][1] == board[2][0] != ' ':\n",
    "        return board[1][1]\n",
    "\n",
    "    # Check for draw\n",
    "    if all(board[x][y] != ' ' for x, y in product(range(3), range(3))):\n",
    "        return 'Draw'\n",
    "\n",
    "    return None\n",
    "\n",
    "# Test the functions\n",
    "board = init_board()\n",
    "board[0][0] = 'X'\n",
    "board[1][1] = 'O'\n",
    "board[2][2] = 'X'\n",
    "print_board(board)\n",
    "print(\"Possible Moves: \", get_possible_moves(board))\n",
    "print(\"Winner: \", check_winner(board))"
   ]
  },
  {
   "cell_type": "code",
   "execution_count": 33,
   "metadata": {},
   "outputs": [
    {
     "name": "stdout",
     "output_type": "stream",
     "text": [
      "X| | \n",
      "-----\n",
      " |O| \n",
      "-----\n",
      " | | \n",
      "-----\n",
      "Best Move for 'X': (0, 1)\n"
     ]
    }
   ],
   "source": [
    "def minimax(board, depth, is_maximizing, alpha, beta):\n",
    "    \"\"\" Minimax algorithm with Alpha-Beta Pruning. \"\"\"\n",
    "    winner = check_winner(board)\n",
    "    if winner == 'X':\n",
    "        return 10 - depth\n",
    "    elif winner == 'O':\n",
    "        return depth - 10\n",
    "    elif winner == 'Draw':\n",
    "        return 0\n",
    "\n",
    "    if is_maximizing:\n",
    "        best_score = -float('inf')\n",
    "        for move in get_possible_moves(board):\n",
    "            board[move[0]][move[1]] = 'X'\n",
    "            score = minimax(board, depth + 1, False, alpha, beta)\n",
    "            board[move[0]][move[1]] = ' '\n",
    "            best_score = max(best_score, score)\n",
    "            alpha = max(alpha, score)\n",
    "            if beta <= alpha:\n",
    "                break\n",
    "        return best_score\n",
    "    else:\n",
    "        best_score = float('inf')\n",
    "        for move in get_possible_moves(board):\n",
    "            board[move[0]][move[1]] = 'O'\n",
    "            score = minimax(board, depth + 1, True, alpha, beta)\n",
    "            board[move[0]][move[1]] = ' '\n",
    "            best_score = min(best_score, score)\n",
    "            beta = min(beta, score)\n",
    "            if beta <= alpha:\n",
    "                break\n",
    "        return best_score\n",
    "\n",
    "def find_best_move(board, player):\n",
    "    \"\"\" Find the best move for the current player. \"\"\"\n",
    "    best_move = None\n",
    "    if player == 'X':\n",
    "        best_score = -float('inf')\n",
    "        for move in get_possible_moves(board):\n",
    "            board[move[0]][move[1]] = 'X'\n",
    "            score = minimax(board, 0, False, -float('inf'), float('inf'))\n",
    "            board[move[0]][move[1]] = ' '\n",
    "            if score > best_score:\n",
    "                best_score = score\n",
    "                best_move = move\n",
    "    else:\n",
    "        best_score = float('inf')\n",
    "        for move in get_possible_moves(board):\n",
    "            board[move[0]][move[1]] = 'O'\n",
    "            score = minimax(board, 0, True, -float('inf'), float('inf'))\n",
    "            board[move[0]][move[1]] = ' '\n",
    "            if score < best_score:\n",
    "                best_score = score\n",
    "                best_move = move\n",
    "    return best_move\n",
    "\n",
    "# Test the Minimax algorithm\n",
    "board = init_board()\n",
    "board[0][0] = 'X'\n",
    "board[1][1] = 'O'\n",
    "print_board(board)\n",
    "best_move = find_best_move(board, 'X')\n",
    "print(\"Best Move for 'X':\", best_move)"
   ]
  },
  {
   "cell_type": "code",
   "execution_count": 34,
   "metadata": {},
   "outputs": [
    {
     "name": "stdout",
     "output_type": "stream",
     "text": [
      "Best Move for the board: X O   OX  is (1, 1)\n"
     ]
    }
   ],
   "source": [
    "from itertools import product\n",
    "\n",
    "def board_to_string(board):\n",
    "    \"\"\" Convert board to a string representation. \"\"\"\n",
    "    return ''.join(''.join(row) for row in board)\n",
    "\n",
    "def string_to_board(board_str):\n",
    "    \"\"\" Convert string representation back to board. \"\"\"\n",
    "    return [list(board_str[i:i+3]) for i in range(0, len(board_str), 3)]\n",
    "\n",
    "def generate_all_possible_boards():\n",
    "    \"\"\" Generate all possible boards (valid and invalid). \"\"\"\n",
    "    return [''.join(p) for p in product(' XO', repeat=9)]\n",
    "\n",
    "def is_valid_board(board_str):\n",
    "    \"\"\" Check if a board is valid. \"\"\"\n",
    "    x_count = board_str.count('X')\n",
    "    o_count = board_str.count('O')\n",
    "    return x_count == o_count or x_count == o_count + 1\n",
    "\n",
    "def generate_lookup_table(find_best_move_alg):\n",
    "    \"\"\" Generate the lookup table for all valid game states. \"\"\"\n",
    "    lookup_table = {}\n",
    "    for board_str in generate_all_possible_boards():\n",
    "        if is_valid_board(board_str):\n",
    "            board = string_to_board(board_str)\n",
    "            winner = check_winner(board)\n",
    "            if winner is None:  # Only calculate moves if the game is not already over\n",
    "                player = 'X' if board_str.count('X') == board_str.count('O') else 'O'\n",
    "                best_move = find_best_move_alg(board, player)\n",
    "                lookup_table[board_str] = best_move\n",
    "    return lookup_table\n",
    "\n",
    "# Generate the lookup table (this may take some time)\n",
    "lookup_table = generate_lookup_table(find_best_move)\n",
    "\n",
    "# Test the lookup table with an example board\n",
    "test_board = \"X O   OX \"\n",
    "print(\"Best Move for the board:\", test_board, \"is\", lookup_table.get(test_board))"
   ]
  },
  {
   "cell_type": "markdown",
   "metadata": {},
   "source": [
    "ChatGPT:\n",
    "\n",
    "\"To create a Tic-Tac-Toe AI that uses a reward function and heuristics to determine the best move without relying on the Minimax algorithm, we need to define a set of rules or heuristics that evaluate the desirability of each move based on the current board state. This approach will analyze each move individually and assign a reward or score based on its potential to lead to a win, block the opponent, or contribute to a strategic advantage.\n",
    "\n",
    "Here are some potential heuristics we can use:\n",
    "\n",
    "- Winning Move: If a move creates a line of three 'X's or 'O's, it gets the highest score.\n",
    "- Block Opponent's Win: If a move blocks the opponent from winning on their next turn, it gets a high score.\n",
    "- Create Opportunity: Moves that create two potential winning opportunities in the next turn (e.g., two lines of two 'X's or 'O's with a blank space) are scored favorably.\n",
    "- Center Control: Taking the center square, if available, is usually advantageous.\n",
    "- Corner Control: Occupying corners can be strategic as they are part of two potential winning lines.\n",
    "- Edge Control: Less preferable than corners or center, but still useful.\n",
    "- Randomness: In case of multiple moves having the same score, a random move can be selected to add unpredictability.\n",
    "\n",
    "Each possible move will be evaluated based on these heuristics, and the one with the highest score will be selected.\""
   ]
  },
  {
   "cell_type": "code",
   "execution_count": 81,
   "metadata": {},
   "outputs": [
    {
     "name": "stdout",
     "output_type": "stream",
     "text": [
      "Best Heuristic Move: (2, 1)\n",
      "X| | \n",
      "-----\n",
      " |O| \n",
      "-----\n",
      " | | \n",
      "-----\n",
      "Best Heuristic Move for 'X': (0, 2)\n"
     ]
    }
   ],
   "source": [
    "import random\n",
    "\n",
    "def check_for_fork(board, player):\n",
    "    \"\"\" Check for a fork opportunity for the player. \"\"\"\n",
    "    for x, y in get_possible_moves(board):\n",
    "        board[x][y] = player\n",
    "        winning_moves = 0\n",
    "        for mx, my in get_possible_moves(board):\n",
    "            board[mx][my] = player\n",
    "            if check_winner(board) == player:\n",
    "                winning_moves += 1\n",
    "            board[mx][my] = ' '\n",
    "        board[x][y] = ' '\n",
    "        if winning_moves >= 2:\n",
    "            return (x, y)\n",
    "    return None\n",
    "\n",
    "def heuristic_score(board, move, player):\n",
    "    \"\"\" Calculate the heuristic score for a given move, including fork strategies. \"\"\"\n",
    "    score = 0\n",
    "    x, y = move\n",
    "    opponent = 'O' if player == 'X' else 'X'\n",
    "\n",
    "    # Create a temporary board for scoring\n",
    "    temp_board = [row[:] for row in board]\n",
    "    temp_board[x][y] = player\n",
    "\n",
    "    # Winning move\n",
    "    if check_winner(temp_board) == player:\n",
    "        score += 100\n",
    "\n",
    "    # Block opponent's win\n",
    "    temp_board[x][y] = opponent\n",
    "    if check_winner(temp_board) == opponent:\n",
    "        score += 90\n",
    "    temp_board[x][y] = player\n",
    "\n",
    "    # Fork opportunity\n",
    "    if check_for_fork(board, player):\n",
    "        score += 80\n",
    "\n",
    "    # Block opponent's fork\n",
    "    if check_for_fork(board, opponent):\n",
    "        score -= 70\n",
    "\n",
    "    # Center control\n",
    "    if move == (1, 1):\n",
    "        score += 50\n",
    "\n",
    "    # Corner control\n",
    "    if move in [(0, 0), (0, 2), (2, 0), (2, 2)]:\n",
    "        score += 30\n",
    "\n",
    "    # Edge control\n",
    "    if move in [(0, 1), (1, 0), (1, 2), (2, 1)]:\n",
    "        score += 20\n",
    "\n",
    "    return score\n",
    "\n",
    "def find_best_move_value(board, player):\n",
    "    \"\"\" Find the best move based on the enhanced heuristic score. \"\"\"\n",
    "    best_score = -1000000\n",
    "    best_move = None\n",
    "    for move in get_possible_moves(board):\n",
    "        score = heuristic_score(board, move, player)\n",
    "        if score > best_score:\n",
    "            best_score = score\n",
    "            best_move = move\n",
    "    return best_move\n",
    "\n",
    "# Test the enhanced heuristic-based AI\n",
    "test_board = string_to_board(\"XOXXO O  \")\n",
    "print(\"Best Heuristic Move:\", find_best_move_value(test_board, 'O'))  # Should aim for a strategic move\n",
    "\n",
    "# Test the heuristic-based AI\n",
    "board = init_board()\n",
    "board[0][0] = 'X'\n",
    "board[1][1] = 'O'\n",
    "print_board(board)\n",
    "best_move = find_best_move_value(board, 'X')\n",
    "print(\"Best Heuristic Move for 'X':\", best_move)\n"
   ]
  },
  {
   "cell_type": "code",
   "execution_count": 69,
   "metadata": {},
   "outputs": [
    {
     "name": "stdout",
     "output_type": "stream",
     "text": [
      "X| |O\n",
      "-----\n",
      " |O| \n",
      "-----\n",
      " | |X\n",
      "-----\n",
      "(2, 0) (2, 0)\n",
      "X O O   X\n"
     ]
    }
   ],
   "source": [
    "# Can the bots spot forks?\n",
    "board = init_board()\n",
    "board[0][0] = 'X'\n",
    "board[1][1] = 'O'\n",
    "board[0][2] = 'O'\n",
    "board[2][2] = 'X' \n",
    "print_board(board)\n",
    "# Optimal move is (2, 0)\n",
    "best_move_util = find_best_move(board, 'X')\n",
    "best_move_heur = find_best_move_value(board, 'X')\n",
    "print(best_move_util, best_move_heur)\n",
    "print(board_to_string(board))"
   ]
  },
  {
   "cell_type": "code",
   "execution_count": 95,
   "metadata": {},
   "outputs": [
    {
     "name": "stdout",
     "output_type": "stream",
     "text": [
      "Lookup table: {'         ': (1, 1), '        X': (1, 1), '       X ': (1, 1), '       XO': (1, 1), '       OX': (1, 1), '      X  ': (1, 1), '      X O': (1, 1), '      XXO': (1, 1), '      XO ': (1, 1), '      XOX': (1, 1), '      O X': (1, 1), '      OX ': (1, 1), '      OXX': (1, 1), '     X   ': (1, 1), '     X  O': (1, 1), '     X XO': (1, 1), '     X O ': (1, 1), '     X OX': (0, 2), '     XX O': (1, 1), '     XXO ': (1, 1), '     XXOO': (1, 1), '     XO  ': (1, 1), '     XO X': (0, 2), '     XOX ': (1, 1), '     XOXO': (1, 1), '     XOOX': (0, 2), '     O  X': (1, 1), '     O X ': (1, 1), '     O XX': (2, 0), '     OX  ': (1, 1), '     OX X': (2, 1), '     OXX ': (2, 2), '     OXXO': (0, 2), '     OXOX': (1, 1), '     OOXX': (1, 1), '    X    ': (0, 0), '    X   O': (0, 0), '    X  XO': (0, 1), '    X  O ': (0, 0), '    X  OX': (0, 0), '    X X O': (0, 2), '    X XO ': (0, 2), '    X XOO': (0, 2), '    X O  ': (0, 0), '    X O X': (0, 0), '    X OX ': (0, 1), '    X OXO': (0, 1), '    X OOX': (0, 0), '    XX  O': (1, 0), '    XX O ': (1, 0), '    XX OO': (1, 0), '    XXXOO': (0, 2), '    XXO  ': (1, 0), '    XXO O': (1, 0), '    XXOXO': (0, 1), '    XXOO ': (1, 0), '    XXOOX': (0, 0), '    XO   ': (0, 0), '    XO  X': (0, 0), '    XO X ': (0, 1), '    XO XO': (0, 1), '    XO OX': (0, 0), '    XOX  ': (0, 2), '    XOX O': (0, 2), '    XOXXO': (0, 2), '    XOXO ': (0, 2), '    XOXOX': (0, 0), '    XOO X': (0, 0), '    XOOX ': (0, 1), '    XOOXX': (0, 0), '    O   X': (0, 0), '    O  X ': (0, 0), '    O  XX': (2, 0), '    O X  ': (0, 0), '    O X X': (2, 1), '    O XX ': (2, 2), '    O XXO': (0, 0), '    O XOX': (0, 1), '    O OXX': (0, 2), '    OX   ': (0, 0), '    OX  X': (0, 2), '    OX X ': (0, 0), '    OX XO': (0, 0), '    OX OX': (0, 2), '    OXX  ': (0, 0), '    OXX O': (0, 0), '    OXXXO': (0, 0), '    OXXO ': (0, 1), '    OXXOX': (0, 1), '    OXO X': (0, 2), '    OXOX ': (0, 2), '    OXOXX': (0, 2), '    OO XX': (2, 0), '    OOX X': (2, 1), '    OOXX ': (2, 2), '   X     ': (1, 1), '   X    O': (1, 1), '   X   XO': (1, 1), '   X   O ': (1, 1), '   X   OX': (1, 1), '   X  X O': (0, 0), '   X  XO ': (0, 0), '   X  XOO': (0, 0), '   X  O  ': (1, 1), '   X  O X': (1, 1), '   X  OX ': (1, 1), '   X  OXO': (1, 1), '   X  OOX': (1, 1), '   X X  O': (1, 1), '   X X O ': (1, 1), '   X X OO': (1, 1), '   X XXOO': (1, 1), '   X XO  ': (1, 1), '   X XO O': (1, 1), '   X XOXO': (1, 1), '   X XOO ': (1, 1), '   X XOOX': (1, 1), '   X O   ': (1, 1), '   X O  X': (1, 1), '   X O X ': (1, 1), '   X O XO': (0, 2), '   X O OX': (1, 1), '   X OX  ': (0, 0), '   X OX O': (0, 0), '   X OXXO': (0, 2), '   X OXO ': (0, 0), '   X OXOX': (0, 0), '   X OO X': (1, 1), '   X OOX ': (1, 1), '   X OOXX': (1, 1), '   XX   O': (1, 2), '   XX  O ': (1, 2), '   XX  OO': (1, 2), '   XX XOO': (0, 0), '   XX O  ': (1, 2), '   XX O O': (1, 2), '   XX OXO': (0, 1), '   XX OO ': (1, 2), '   XX OOX': (0, 0), '   XXO   ': (0, 0), '   XXO  O': (0, 2), '   XXO XO': (0, 2), '   XXO O ': (0, 0), '   XXO OX': (0, 0), '   XXOX O': (0, 2), '   XXOXO ': (0, 0), '   XXOXOO': (0, 2), '   XXOO  ': (0, 0), '   XXOO X': (0, 0), '   XXOOX ': (0, 1), '   XXOOXO': (0, 1), '   XXOOOX': (0, 0), '   XO    ': (0, 0), '   XO   X': (0, 0), '   XO  X ': (0, 0), '   XO  XO': (0, 0), '   XO  OX': (0, 1), '   XO X  ': (0, 0), '   XO X O': (0, 0), '   XO XXO': (0, 0), '   XO XO ': (0, 0), '   XO XOX': (0, 0), '   XO O X': (0, 2), '   XO OX ': (0, 2), '   XO OXX': (0, 2), '   XOX   ': (0, 0), '   XOX  O': (0, 0), '   XOX XO': (0, 0), '   XOX O ': (0, 1), '   XOX OX': (0, 1), '   XOXX O': (0, 0), '   XOXXO ': (0, 0), '   XOXXOO': (0, 0), '   XOXO  ': (0, 2), '   XOXO X': (0, 2), '   XOXOX ': (0, 2), '   XOXOXO': (0, 0), '   XOXOOX': (0, 2), '   XOO  X': (0, 0), '   XOO X ': (0, 0), '   XOO XX': (2, 0), '   XOOX  ': (0, 0), '   XOOX X': (0, 0), '   XOOXX ': (0, 0), '   XOOXXO': (0, 0), '   XOOXOX': (0, 0), '   XOOOXX': (0, 2), '   O    X': (1, 1), '   O   X ': (1, 1), '   O   XX': (2, 0), '   O  X  ': (1, 1), '   O  X X': (2, 1), '   O  XX ': (2, 2), '   O  XXO': (1, 1), '   O  XOX': (1, 1), '   O  OXX': (0, 0), '   O X   ': (1, 1), '   O X  X': (0, 2), '   O X X ': (1, 1), '   O X XO': (1, 1), '   O X OX': (0, 2), '   O XX  ': (1, 1), '   O XX O': (1, 1), '   O XXXO': (1, 1), '   O XXO ': (1, 1), '   O XXOX': (0, 2), '   O XO X': (0, 2), '   O XOX ': (0, 0), '   O XOXX': (0, 0), '   O O XX': (1, 1), '   O OX X': (1, 1), '   O OXX ': (1, 1), '   OX    ': (0, 0), '   OX   X': (0, 0), '   OX  X ': (0, 1), '   OX  XO': (0, 1), '   OX  OX': (0, 0), '   OX X  ': (0, 2), '   OX X O': (0, 2), '   OX XXO': (0, 2), '   OX XO ': (0, 2), '   OX XOX': (0, 0), '   OX O X': (0, 0), '   OX OX ': (0, 0), '   OX OXX': (0, 0), '   OXX   ': (0, 0), '   OXX  O': (0, 0), '   OXX XO': (0, 1), '   OXX O ': (0, 0), '   OXX OX': (0, 0), '   OXXX O': (0, 2), '   OXXXO ': (0, 2), '   OXXXOO': (0, 2), '   OXXO  ': (0, 0), '   OXXO X': (0, 0), '   OXXOX ': (0, 0), '   OXXOXO': (0, 0), '   OXXOOX': (0, 0), '   OXO  X': (0, 0), '   OXO X ': (0, 1), '   OXO XX': (0, 0), '   OXOX  ': (0, 2), '   OXOX X': (0, 0), '   OXOXX ': (0, 2), '   OXOXXO': (0, 2), '   OXOXOX': (0, 0), '   OXOOXX': (0, 0), '   OO  XX': (2, 0), '   OO X X': (2, 1), '   OO XX ': (2, 2), '   OOX  X': (0, 2), '   OOX X ': (0, 0), '   OOX XX': (0, 2), '   OOXX  ': (0, 0), '   OOXX X': (0, 2), '   OOXXX ': (2, 2), '   OOXXXO': (0, 0), '   OOXXOX': (0, 2), '   OOXOXX': (0, 2), '  X      ': (1, 1), '  X     O': (1, 1), '  X    XO': (1, 1), '  X    O ': (1, 1), '  X    OX': (1, 2), '  X   X O': (1, 1), '  X   XO ': (1, 1), '  X   XOO': (1, 1), '  X   O  ': (1, 1), '  X   O X': (1, 2), '  X   OX ': (1, 1), '  X   OXO': (1, 1), '  X   OOX': (1, 2), '  X  X  O': (1, 1), '  X  X O ': (2, 2), '  X  X OO': (2, 0), '  X  XXOO': (1, 1), '  X  XO  ': (2, 2), '  X  XO O': (2, 1), '  X  XOXO': (1, 1), '  X  XOO ': (2, 2), '  X  O   ': (1, 1), '  X  O  X': (1, 1), '  X  O X ': (1, 1), '  X  O XO': (1, 1), '  X  O OX': (1, 1), '  X  OX  ': (1, 1), '  X  OX O': (1, 1), '  X  OXXO': (1, 1), '  X  OXO ': (1, 1), '  X  OXOX': (1, 1), '  X  OO X': (1, 1), '  X  OOX ': (1, 1), '  X  OOXX': (1, 1), '  X X   O': (2, 0), '  X X  O ': (2, 0), '  X X  OO': (2, 0), '  X X O  ': (0, 0), '  X X O O': (2, 1), '  X X OXO': (0, 1), '  X X OO ': (2, 2), '  X X OOX': (0, 0), '  X XX OO': (2, 0), '  X XXO O': (2, 1), '  X XXOO ': (2, 2), '  X XO   ': (2, 0), '  X XO  O': (2, 0), '  X XO XO': (2, 0), '  X XO O ': (2, 0), '  X XO OX': (0, 0), '  X XOO  ': (0, 0), '  X XOO X': (0, 0), '  X XOOX ': (0, 1), '  X XOOXO': (0, 1), '  X XOOOX': (0, 0), '  X O    ': (0, 0), '  X O   X': (1, 2), '  X O  X ': (0, 0), '  X O  XO': (0, 0), '  X O  OX': (1, 2), '  X O X  ': (0, 0), '  X O X O': (0, 0), '  X O XXO': (0, 0), '  X O XO ': (0, 1), '  X O XOX': (0, 1), '  X O O X': (1, 2), '  X O OX ': (0, 0), '  X O OXX': (1, 2), '  X OX   ': (2, 2), '  X OX  O': (0, 0), '  X OX XO': (0, 0), '  X OX O ': (2, 2), '  X OXX O': (0, 0), '  X OXXO ': (0, 1), '  X OXXOO': (0, 0), '  X OXO  ': (2, 2), '  X OXOX ': (2, 2), '  X OXOXO': (0, 0), '  X OO  X': (1, 0), '  X OO X ': (1, 0), '  X OO XX': (1, 0), '  X OOX  ': (1, 0), '  X OOX X': (1, 0), '  X OOXX ': (1, 0), '  X OOXXO': (0, 0), '  X OOXOX': (0, 1), '  X OOOXX': (1, 0), '  XX    O': (1, 1), '  XX   O ': (1, 1), '  XX   OO': (2, 0), '  XX  XOO': (1, 1), '  XX  O  ': (1, 1), '  XX  O O': (2, 1), '  XX  OXO': (1, 1), '  XX  OO ': (2, 2), '  XX  OOX': (1, 2), '  XX X OO': (1, 1), '  XX XO O': (1, 1), '  XX XOO ': (2, 2), '  XX O   ': (1, 1), '  XX O  O': (1, 1), '  XX O XO': (1, 1), '  XX O O ': (1, 1), '  XX O OX': (1, 1), '  XX OX O': (1, 1), '  XX OXO ': (1, 1), '  XX OXOO': (1, 1), '  XX OO  ': (1, 1), '  XX OO X': (1, 1), '  XX OOX ': (1, 1), '  XX OOXO': (1, 1), '  XX OOOX': (1, 1), '  XXX  OO': (2, 0), '  XXX O O': (2, 1), '  XXX OO ': (2, 2), '  XXXO  O': (2, 0), '  XXXO O ': (2, 0), '  XXXO OO': (2, 0), '  XXXOO  ': (0, 0), '  XXXOO O': (2, 1), '  XXXOOXO': (0, 1), '  XXXOOO ': (2, 2), '  XXXOOOX': (0, 0), '  XXO    ': (0, 0), '  XXO   O': (0, 0), '  XXO  XO': (0, 0), '  XXO  O ': (0, 1), '  XXO  OX': (0, 1), '  XXO X O': (0, 0), '  XXO XO ': (0, 0), '  XXO XOO': (0, 0), '  XXO O  ': (0, 0), '  XXO O X': (1, 2), '  XXO OX ': (0, 0), '  XXO OXO': (0, 0), '  XXO OOX': (1, 2), '  XXOX  O': (0, 0), '  XXOX O ': (0, 1), '  XXOX OO': (0, 0), '  XXOXXOO': (0, 0), '  XXOXO  ': (2, 2), '  XXOXO O': (0, 0), '  XXOXOXO': (0, 0), '  XXOXOO ': (2, 2), '  XXOO   ': (0, 0), '  XXOO  X': (0, 0), '  XXOO X ': (0, 0), '  XXOO XO': (0, 0), '  XXOO OX': (0, 1), '  XXOOX  ': (0, 0), '  XXOOX O': (0, 0), '  XXOOXXO': (0, 0), '  XXOOXO ': (0, 0), '  XXOOXOX': (0, 0), '  XXOOO X': (0, 0), '  XXOOOX ': (0, 0), '  XXOOOXX': (0, 0), '  XO     ': (1, 1), '  XO    X': (1, 2), '  XO   X ': (1, 1), '  XO   XO': (1, 1), '  XO   OX': (1, 2), '  XO  X  ': (1, 1), '  XO  X O': (1, 1), '  XO  XXO': (1, 1), '  XO  XO ': (1, 1), '  XO  XOX': (1, 1), '  XO  O X': (0, 0), '  XO  OX ': (0, 0), '  XO  OXX': (0, 0), '  XO X   ': (2, 2), '  XO X  O': (1, 1), '  XO X XO': (1, 1), '  XO X O ': (2, 2), '  XO XX O': (1, 1), '  XO XXO ': (1, 1), '  XO XXOO': (1, 1), '  XO XO  ': (2, 2), '  XO XOX ': (0, 0), '  XO XOXO': (0, 0), '  XO O  X': (1, 1), '  XO O X ': (1, 1), '  XO O XX': (1, 1), '  XO OX  ': (1, 1), '  XO OX X': (1, 1), '  XO OXX ': (1, 1), '  XO OXXO': (1, 1), '  XO OXOX': (1, 1), '  XO OOXX': (1, 1), '  XOX    ': (2, 0), '  XOX   O': (2, 0), '  XOX  XO': (2, 0), '  XOX  O ': (2, 0), '  XOX  OX': (0, 0), '  XOX O  ': (0, 0), '  XOX O X': (0, 0), '  XOX OX ': (0, 0), '  XOX OXO': (0, 0), '  XOX OOX': (0, 0), '  XOXX  O': (2, 0), '  XOXX O ': (2, 0), '  XOXX OO': (2, 0), '  XOXXO  ': (0, 0), '  XOXXO O': (0, 0), '  XOXXOXO': (0, 0), '  XOXXOO ': (2, 2), '  XOXO   ': (2, 0), '  XOXO  X': (0, 0), '  XOXO X ': (2, 0), '  XOXO XO': (2, 0), '  XOXO OX': (0, 0), '  XOXOO X': (0, 0), '  XOXOOX ': (0, 0), '  XOXOOXX': (0, 0), '  XOO   X': (1, 2), '  XOO  X ': (1, 2), '  XOO  XX': (1, 2), '  XOO X  ': (1, 2), '  XOO X X': (1, 2), '  XOO XX ': (1, 2), '  XOO XXO': (0, 0), '  XOO XOX': (1, 2), '  XOO OXX': (1, 2), '  XOOX   ': (2, 2), '  XOOX X ': (2, 2), '  XOOX XO': (0, 0), '  XOOXX  ': (2, 2), '  XOOXX O': (0, 0), '  XOOXXXO': (0, 0), '  XOOXXO ': (2, 2), '  XOOXOX ': (2, 2), '  O     X': (1, 1), '  O    X ': (1, 1), '  O    XX': (2, 0), '  O   X  ': (1, 1), '  O   X X': (2, 1), '  O   XX ': (2, 2), '  O   XXO': (1, 2), '  O   XOX': (1, 1), '  O   OXX': (1, 1), '  O  X   ': (1, 1), '  O  X  X': (1, 1), '  O  X X ': (1, 1), '  O  X XO': (1, 1), '  O  X OX': (1, 1), '  O  XX  ': (1, 1), '  O  XX O': (1, 1), '  O  XXXO': (1, 1), '  O  XXO ': (1, 1), '  O  XXOX': (1, 1), '  O  XO X': (1, 1), '  O  XOX ': (1, 1), '  O  XOXX': (1, 1), '  O  O XX': (2, 0), '  O  OX X': (2, 1), '  O  OXX ': (2, 2), '  O X    ': (0, 0), '  O X   X': (0, 0), '  O X  X ': (0, 1), '  O X  XO': (0, 1), '  O X  OX': (0, 0), '  O X X  ': (0, 0), '  O X X O': (1, 2), '  O X XXO': (1, 2), '  O X XO ': (0, 0), '  O X XOX': (0, 0), '  O X O X': (0, 0), '  O X OX ': (0, 1), '  O X OXX': (0, 0), '  O XX   ': (1, 0), '  O XX  O': (1, 0), '  O XX XO': (0, 1), '  O XX O ': (1, 0), '  O XX OX': (0, 0), '  O XXX O': (1, 0), '  O XXXO ': (1, 0), '  O XXXOO': (1, 0), '  O XXO  ': (1, 0), '  O XXO X': (0, 0), '  O XXOX ': (0, 1), '  O XXOXO': (0, 1), '  O XXOOX': (0, 0), '  O XO  X': (0, 0), '  O XO X ': (0, 1), '  O XO XX': (0, 0), '  O XOX  ': (2, 2), '  O XOX X': (0, 0), '  O XOXX ': (2, 2), '  O XOXOX': (0, 0), '  O XOOXX': (0, 0), '  O O  XX': (2, 0), '  O O X X': (2, 1), '  O O XX ': (2, 2), '  O OX  X': (2, 0), '  O OX X ': (2, 0), '  O OX XX': (2, 0), '  O OXX  ': (0, 0), '  O OXX X': (2, 1), '  O OXXX ': (2, 2), '  O OXXXO': (0, 0), '  O OXXOX': (0, 1), '  OX     ': (1, 1), '  OX    X': (1, 1), '  OX   X ': (1, 1), '  OX   XO': (1, 2), '  OX   OX': (1, 1), '  OX  X  ': (0, 0), '  OX  X O': (0, 0), '  OX  XXO': (0, 0), '  OX  XO ': (0, 0), '  OX  XOX': (0, 0), '  OX  O X': (1, 1), '  OX  OX ': (1, 1), '  OX  OXX': (1, 1), '  OX X   ': (1, 1), '  OX X  O': (1, 1), '  OX X XO': (1, 1), '  OX X O ': (1, 1), '  OX X OX': (1, 1), '  OX XX O': (1, 1), '  OX XXO ': (1, 1), '  OX XXOO': (1, 1), '  OX XO  ': (1, 1), '  OX XO X': (1, 1), '  OX XOX ': (1, 1), '  OX XOXO': (1, 1), '  OX XOOX': (1, 1), '  OX O  X': (1, 1), '  OX O X ': (2, 2), '  OX O XX': (2, 0), '  OX OX  ': (0, 0), '  OX OX X': (0, 0), '  OX OXX ': (2, 2), '  OX OXOX': (0, 0), '  OX OOXX': (1, 1), '  OXX    ': (1, 2), '  OXX   O': (1, 2), '  OXX  XO': (1, 2), '  OXX  O ': (1, 2), '  OXX  OX': (0, 0), '  OXX X O': (1, 2), '  OXX XO ': (0, 0), '  OXX XOO': (1, 2), '  OXX O  ': (1, 2), '  OXX O X': (0, 0), '  OXX OX ': (0, 1), '  OXX OXO': (1, 2), '  OXX OOX': (0, 0), '  OXXO   ': (2, 2), '  OXXO  X': (0, 0), '  OXXO X ': (2, 2), '  OXXO OX': (0, 0), '  OXXOX  ': (2, 2), '  OXXOXO ': (0, 0), '  OXXOXOX': (0, 0), '  OXXOO X': (0, 0), '  OXXOOX ': (0, 1), '  OXXOOXX': (0, 0), '  OXO   X': (2, 0), '  OXO  X ': (2, 0), '  OXO  XX': (2, 0), '  OXO X  ': (0, 0), '  OXO X X': (0, 0), '  OXO XX ': (0, 0), '  OXO XXO': (0, 0), '  OXO XOX': (0, 0), '  OXOX   ': (2, 0), '  OXOX  X': (2, 0), '  OXOX X ': (2, 0), '  OXOX XO': (0, 0), '  OXOX OX': (2, 0), '  OXOXX  ': (0, 0), '  OXOXX O': (0, 0), '  OXOXXXO': (0, 0), '  OXOXXO ': (0, 0), '  OXOXXOX': (0, 0), '  OXOO XX': (2, 0), '  OXOOX X': (0, 0), '  OXOOXX ': (2, 2), '  OO   XX': (2, 0), '  OO  X X': (2, 1), '  OO  XX ': (2, 2), '  OO X  X': (1, 1), '  OO X X ': (1, 1), '  OO X XX': (2, 0), '  OO XX  ': (1, 1), '  OO XX X': (2, 1), '  OO XXX ': (2, 2), '  OO XXXO': (1, 1), '  OO XXOX': (1, 1), '  OO XOXX': (1, 1), '  OOX   X': (0, 0), '  OOX  X ': (0, 1), '  OOX  XX': (0, 0), '  OOX X  ': (0, 0), '  OOX X X': (0, 0), '  OOX XX ': (2, 2), '  OOX XXO': (0, 1), '  OOX XOX': (0, 0), '  OOX OXX': (0, 0), '  OOXX   ': (0, 0), '  OOXX  X': (0, 0), '  OOXX X ': (0, 1), '  OOXX XO': (0, 1), '  OOXX OX': (0, 0), '  OOXXX  ': (0, 0), '  OOXXX O': (0, 0), '  OOXXXXO': (0, 1), '  OOXXXO ': (0, 0), '  OOXXXOX': (0, 0), '  OOXXO X': (0, 0), '  OOXXOX ': (0, 0), '  OOXXOXX': (0, 0), '  OOXO XX': (0, 0), '  OOXOX X': (0, 0), '  OOXOXX ': (2, 2), '  OOOX XX': (2, 0), '  OOOXX X': (2, 1), '  OOOXXX ': (2, 2), ' X       ': (1, 1), ' X      O': (1, 1), ' X     XO': (1, 1), ' X     O ': (1, 1), ' X     OX': (1, 1), ' X    X O': (1, 1), ' X    XO ': (1, 1), ' X    XOO': (1, 1), ' X    O  ': (1, 1), ' X    O X': (1, 1), ' X    OX ': (1, 1), ' X    OXO': (1, 1), ' X    OOX': (1, 1), ' X   X  O': (1, 1), ' X   X O ': (1, 1), ' X   X OO': (2, 0), ' X   XXOO': (1, 1), ' X   XO  ': (1, 1), ' X   XO O': (2, 1), ' X   XOXO': (1, 1), ' X   XOO ': (2, 2), ' X   XOOX': (0, 2), ' X   O   ': (1, 1), ' X   O  X': (1, 1), ' X   O X ': (1, 1), ' X   O XO': (1, 1), ' X   O OX': (1, 1), ' X   OX  ': (1, 1), ' X   OX O': (0, 2), ' X   OXXO': (1, 1), ' X   OXO ': (1, 1), ' X   OXOX': (1, 1), ' X   OO X': (1, 1), ' X   OOX ': (1, 1), ' X   OOXX': (1, 1), ' X  X   O': (2, 1), ' X  X  O ': (0, 0), ' X  X  OO': (2, 0), ' X  X XOO': (0, 2), ' X  X O  ': (2, 1), ' X  X O O': (2, 1), ' X  X OO ': (2, 2), ' X  X OOX': (0, 0), ' X  XX OO': (2, 0), ' X  XXO O': (2, 1), ' X  XXOO ': (2, 2), ' X  XO   ': (2, 1), ' X  XO  O': (0, 2), ' X  XO O ': (0, 0), ' X  XO OX': (0, 0), ' X  XOX O': (0, 2), ' X  XOXO ': (0, 2), ' X  XOXOO': (0, 2), ' X  XOO  ': (2, 1), ' X  XOO X': (0, 0), ' X  XOOOX': (0, 0), ' X  O    ': (0, 0), ' X  O   X': (0, 0), ' X  O  X ': (0, 0), ' X  O  XO': (0, 0), ' X  O  OX': (0, 0), ' X  O X  ': (0, 0), ' X  O X O': (0, 0), ' X  O XXO': (0, 0), ' X  O XO ': (0, 0), ' X  O XOX': (0, 0), ' X  O O X': (0, 2), ' X  O OX ': (0, 2), ' X  O OXX': (0, 2), ' X  OX   ': (0, 0), ' X  OX  O': (0, 0), ' X  OX XO': (0, 0), ' X  OX O ': (0, 0), ' X  OX OX': (0, 2), ' X  OXX O': (0, 0), ' X  OXXO ': (0, 0), ' X  OXXOO': (0, 0), ' X  OXO  ': (0, 2), ' X  OXO X': (0, 2), ' X  OXOX ': (0, 2), ' X  OXOXO': (0, 0), ' X  OXOOX': (0, 2), ' X  OO  X': (1, 0), ' X  OO X ': (1, 0), ' X  OO XX': (1, 0), ' X  OOX  ': (1, 0), ' X  OOX X': (1, 0), ' X  OOXX ': (1, 0), ' X  OOXXO': (0, 0), ' X  OOXOX': (1, 0), ' X  OOOXX': (0, 2), ' X X    O': (1, 1), ' X X   O ': (1, 1), ' X X   OO': (2, 0), ' X X  XOO': (0, 0), ' X X  O  ': (1, 1), ' X X  O O': (2, 1), ' X X  OXO': (1, 1), ' X X  OO ': (2, 2), ' X X  OOX': (1, 1), ' X X X OO': (1, 1), ' X X XO O': (1, 1), ' X X XOO ': (1, 1), ' X X O   ': (1, 1), ' X X O  O': (0, 2), ' X X O XO': (1, 1), ' X X O O ': (1, 1), ' X X O OX': (1, 1), ' X X OX O': (0, 2), ' X X OXO ': (0, 0), ' X X OXOO': (0, 0), ' X X OO  ': (1, 1), ' X X OO X': (1, 1), ' X X OOX ': (1, 1), ' X X OOXO': (1, 1), ' X X OOOX': (1, 1), ' X XX  OO': (2, 0), ' X XX O O': (2, 1), ' X XX OO ': (2, 2), ' X XXO  O': (0, 2), ' X XXO O ': (0, 0), ' X XXO OO': (0, 2), ' X XXOXOO': (0, 2), ' X XXOO  ': (2, 1), ' X XXOO O': (2, 1), ' X XXOOO ': (2, 2), ' X XXOOOX': (0, 0), ' X XO    ': (0, 0), ' X XO   O': (0, 0), ' X XO  XO': (0, 0), ' X XO  O ': (0, 0), ' X XO  OX': (0, 0), ' X XO X O': (0, 0), ' X XO XO ': (0, 0), ' X XO XOO': (0, 0), ' X XO O  ': (0, 2), ' X XO O X': (0, 2), ' X XO OX ': (0, 2), ' X XO OXO': (0, 0), ' X XO OOX': (0, 2), ' X XOX  O': (0, 0), ' X XOX O ': (0, 0), ' X XOX OO': (0, 0), ' X XOXXOO': (0, 0), ' X XOXO  ': (0, 2), ' X XOXO O': (0, 0), ' X XOXOXO': (0, 0), ' X XOXOO ': (0, 2), ' X XOXOOX': (0, 2), ' X XOO   ': (0, 0), ' X XOO  X': (0, 0), ' X XOO X ': (0, 0), ' X XOO XO': (0, 0), ' X XOO OX': (0, 0), ' X XOOX  ': (0, 0), ' X XOOX O': (0, 0), ' X XOOXXO': (0, 0), ' X XOOXO ': (0, 0), ' X XOOXOX': (0, 0), ' X XOOO X': (0, 2), ' X XOOOX ': (0, 2), ' X XOOOXX': (0, 2), ' X O     ': (1, 1), ' X O    X': (1, 1), ' X O   X ': (1, 1), ' X O   XO': (1, 1), ' X O   OX': (1, 1), ' X O  X  ': (1, 1), ' X O  X O': (1, 1), ' X O  XXO': (1, 1), ' X O  XO ': (1, 1), ' X O  XOX': (1, 1), ' X O  O X': (0, 0), ' X O  OX ': (1, 1), ' X O  OXX': (1, 1), ' X O X   ': (1, 1), ' X O X  O': (1, 1), ' X O X XO': (1, 1), ' X O X O ': (1, 1), ' X O X OX': (0, 2), ' X O XX O': (1, 1), ' X O XXO ': (1, 1), ' X O XXOO': (1, 1), ' X O XO  ': (0, 0), ' X O XO X': (0, 0), ' X O XOX ': (1, 1), ' X O XOXO': (1, 1), ' X O XOOX': (0, 2), ' X O O  X': (1, 1), ' X O O X ': (1, 1), ' X O O XX': (1, 1), ' X O OX  ': (1, 1), ' X O OX X': (1, 1), ' X O OXX ': (1, 1), ' X O OXXO': (1, 1), ' X O OXOX': (1, 1), ' X O OOXX': (1, 1), ' X OX    ': (2, 1), ' X OX   O': (2, 1), ' X OX  O ': (0, 0), ' X OX  OX': (0, 0), ' X OX X O': (0, 2), ' X OX XO ': (0, 2), ' X OX XOO': (0, 2), ' X OX O  ': (0, 0), ' X OX O X': (0, 0), ' X OX OOX': (0, 0), ' X OXX  O': (2, 1), ' X OXX O ': (0, 0), ' X OXX OO': (2, 0), ' X OXXXOO': (0, 2), ' X OXXO  ': (0, 0), ' X OXXO O': (2, 1), ' X OXXOO ': (0, 0), ' X OXXOOX': (0, 0), ' X OXO   ': (2, 1), ' X OXO  X': (0, 0), ' X OXO OX': (0, 0), ' X OXOX  ': (0, 2), ' X OXOX O': (0, 2), ' X OXOXO ': (0, 2), ' X OXOXOX': (0, 0), ' X OXOO X': (0, 0), ' X OO   X': (1, 2), ' X OO  X ': (1, 2), ' X OO  XX': (1, 2), ' X OO X  ': (1, 2), ' X OO X X': (1, 2), ' X OO XX ': (1, 2), ' X OO XXO': (0, 0), ' X OO XOX': (1, 2), ' X OO OXX': (0, 0), ' X OOX   ': (0, 0), ' X OOX  X': (0, 2), ' X OOX X ': (0, 0), ' X OOX XO': (0, 0), ' X OOX OX': (0, 2), ' X OOXX  ': (0, 0), ' X OOXX O': (0, 0), ' X OOXXXO': (0, 0), ' X OOXXO ': (0, 0), ' X OOXXOX': (0, 2), ' X OOXO X': (0, 2), ' X OOXOX ': (0, 0), ' X OOXOXX': (0, 2), ' XX     O': (0, 0), ' XX    O ': (0, 0), ' XX    OO': (0, 0), ' XX   XOO': (1, 1), ' XX   O  ': (0, 0), ' XX   O O': (0, 0), ' XX   OXO': (1, 1), ' XX   OO ': (0, 0), ' XX   OOX': (0, 0), ' XX  X OO': (2, 0), ' XX  XO O': (0, 0), ' XX  XOO ': (2, 2), ' XX  O   ': (0, 0), ' XX  O  O': (0, 0), ' XX  O XO': (1, 1), ' XX  O O ': (0, 0), ' XX  O OX': (0, 0), ' XX  OX O': (1, 1), ' XX  OXO ': (1, 1), ' XX  OXOO': (1, 1), ' XX  OO  ': (0, 0), ' XX  OO X': (0, 0), ' XX  OOX ': (1, 1), ' XX  OOXO': (1, 1), ' XX  OOOX': (0, 0), ' XX X  OO': (2, 0), ' XX X O O': (2, 1), ' XX X OO ': (2, 2), ' XX XO  O': (0, 0), ' XX XO O ': (0, 0), ' XX XO OO': (2, 0), ' XX XOO  ': (0, 0), ' XX XOO O': (2, 1), ' XX XOOO ': (0, 0), ' XX XOOOX': (0, 0), ' XX O    ': (0, 0), ' XX O   O': (0, 0), ' XX O  XO': (0, 0), ' XX O  O ': (0, 0), ' XX O  OX': (0, 0), ' XX O X O': (0, 0), ' XX O XO ': (0, 0), ' XX O XOO': (0, 0), ' XX O O  ': (0, 0), ' XX O O X': (0, 0), ' XX O OX ': (0, 0), ' XX O OXO': (0, 0), ' XX O OOX': (0, 0), ' XX OX  O': (0, 0), ' XX OX O ': (0, 0), ' XX OX OO': (0, 0), ' XX OXXOO': (0, 0), ' XX OXO  ': (0, 0), ' XX OXO O': (0, 0), ' XX OXOXO': (0, 0), ' XX OXOO ': (2, 2), ' XX OO   ': (0, 0), ' XX OO  X': (0, 0), ' XX OO X ': (0, 0), ' XX OO XO': (0, 0), ' XX OO OX': (0, 0), ' XX OOX  ': (0, 0), ' XX OOX O': (0, 0), ' XX OOXXO': (0, 0), ' XX OOXO ': (0, 0), ' XX OOXOX': (0, 0), ' XX OOO X': (0, 0), ' XX OOOX ': (0, 0), ' XX OOOXX': (0, 0), ' XXX   OO': (2, 0), ' XXX  O O': (0, 0), ' XXX  OO ': (2, 2), ' XXX O  O': (0, 0), ' XXX O O ': (0, 0), ' XXX O OO': (0, 0), ' XXX OXOO': (1, 1), ' XXX OO  ': (0, 0), ' XXX OO O': (0, 0), ' XXX OOXO': (1, 1), ' XXX OOO ': (0, 0), ' XXX OOOX': (0, 0), ' XXXXO OO': (2, 0), ' XXXXOO O': (2, 1), ' XXXXOOO ': (2, 2), ' XXXO   O': (0, 0), ' XXXO  O ': (0, 0), ' XXXO  OO': (0, 0), ' XXXO XOO': (0, 0), ' XXXO O  ': (0, 0), ' XXXO O O': (0, 0), ' XXXO OXO': (0, 0), ' XXXO OO ': (0, 0), ' XXXO OOX': (0, 0), ' XXXOX OO': (0, 0), ' XXXOXO O': (0, 0), ' XXXOXOO ': (2, 2), ' XXXOO   ': (0, 0), ' XXXOO  O': (0, 0), ' XXXOO XO': (0, 0), ' XXXOO O ': (0, 0), ' XXXOO OX': (0, 0), ' XXXOOX O': (0, 0), ' XXXOOXO ': (0, 0), ' XXXOOXOO': (0, 0), ' XXXOOO  ': (0, 0), ' XXXOOO X': (0, 0), ' XXXOOOX ': (0, 0), ' XXXOOOXO': (0, 0), ' XXXOOOOX': (0, 0), ' XXO     ': (0, 0), ' XXO    O': (0, 0), ' XXO   XO': (1, 1), ' XXO   O ': (0, 0), ' XXO   OX': (0, 0), ' XXO  X O': (1, 1), ' XXO  XO ': (1, 1), ' XXO  XOO': (1, 1), ' XXO  O  ': (0, 0), ' XXO  O X': (0, 0), ' XXO  OX ': (0, 0), ' XXO  OXO': (0, 0), ' XXO  OOX': (0, 0), ' XXO X  O': (0, 0), ' XXO X O ': (0, 0), ' XXO X OO': (0, 0), ' XXO XXOO': (1, 1), ' XXO XO  ': (0, 0), ' XXO XO O': (0, 0), ' XXO XOXO': (0, 0), ' XXO XOO ': (0, 0), ' XXO O   ': (1, 1), ' XXO O  X': (1, 1), ' XXO O X ': (1, 1), ' XXO O XO': (1, 1), ' XXO O OX': (1, 1), ' XXO OX  ': (1, 1), ' XXO OX O': (1, 1), ' XXO OXXO': (1, 1), ' XXO OXO ': (1, 1), ' XXO OXOX': (1, 1), ' XXO OO X': (0, 0), ' XXO OOX ': (1, 1), ' XXO OOXX': (1, 1), ' XXOX   O': (0, 0), ' XXOX  O ': (0, 0), ' XXOX  OO': (2, 0), ' XXOX O  ': (0, 0), ' XXOX O O': (0, 0), ' XXOX OO ': (0, 0), ' XXOX OOX': (0, 0), ' XXOXX OO': (2, 0), ' XXOXXO O': (0, 0), ' XXOXXOO ': (0, 0), ' XXOXO   ': (0, 0), ' XXOXO  O': (0, 0), ' XXOXO O ': (0, 0), ' XXOXO OX': (0, 0), ' XXOXOO  ': (0, 0), ' XXOXOO X': (0, 0), ' XXOXOOOX': (0, 0), ' XXOO    ': (0, 0), ' XXOO   X': (1, 2), ' XXOO  X ': (0, 0), ' XXOO  XO': (0, 0), ' XXOO  OX': (1, 2), ' XXOO X  ': (0, 0), ' XXOO X O': (0, 0), ' XXOO XXO': (0, 0), ' XXOO XO ': (0, 0), ' XXOO XOX': (1, 2), ' XXOO O X': (0, 0), ' XXOO OX ': (0, 0), ' XXOO OXX': (0, 0), ' XXOOX   ': (0, 0), ' XXOOX  O': (0, 0), ' XXOOX XO': (0, 0), ' XXOOX O ': (0, 0), ' XXOOXX O': (0, 0), ' XXOOXXO ': (0, 0), ' XXOOXXOO': (0, 0), ' XXOOXO  ': (0, 0), ' XXOOXOX ': (0, 0), ' XXOOXOXO': (0, 0), ' XO      ': (1, 1), ' XO     X': (1, 1), ' XO    X ': (1, 1), ' XO    XO': (1, 1), ' XO    OX': (1, 1), ' XO   X  ': (1, 1), ' XO   X O': (1, 2), ' XO   XXO': (1, 1), ' XO   XO ': (1, 1), ' XO   XOX': (1, 1), ' XO   O X': (1, 1), ' XO   OX ': (1, 1), ' XO   OXX': (1, 1), ' XO  X   ': (1, 1), ' XO  X  O': (1, 1), ' XO  X XO': (1, 1), ' XO  X O ': (1, 1), ' XO  X OX': (1, 1), ' XO  XX O': (1, 1), ' XO  XXO ': (1, 1), ' XO  XXOO': (1, 1), ' XO  XO  ': (1, 1), ' XO  XO X': (1, 1), ' XO  XOX ': (1, 1), ' XO  XOXO': (1, 1), ' XO  XOOX': (1, 1), ' XO  O  X': (1, 1), ' XO  O X ': (1, 1), ' XO  O XX': (1, 1), ' XO  OX  ': (2, 2), ' XO  OX X': (2, 1), ' XO  OXX ': (2, 2), ' XO  OXOX': (1, 1), ' XO  OOXX': (1, 1), ' XO X    ': (2, 1), ' XO X   O': (2, 1), ' XO X  O ': (0, 0), ' XO X  OX': (0, 0), ' XO X X O': (1, 2), ' XO X XO ': (0, 0), ' XO X XOO': (1, 2), ' XO X O  ': (2, 1), ' XO X O X': (0, 0), ' XO X OOX': (0, 0), ' XO XX  O': (1, 0), ' XO XX O ': (1, 0), ' XO XX OO': (1, 0), ' XO XXXOO': (1, 0), ' XO XXO  ': (1, 0), ' XO XXO O': (2, 1), ' XO XXOO ': (1, 0), ' XO XXOOX': (0, 0), ' XO XO   ': (2, 1), ' XO XO  X': (0, 0), ' XO XO OX': (0, 0), ' XO XOX  ': (2, 2), ' XO XOXO ': (2, 2), ' XO XOXOX': (0, 0), ' XO XOO X': (0, 0), ' XO O   X': (2, 0), ' XO O  X ': (2, 0), ' XO O  XX': (2, 0), ' XO O X  ': (0, 0), ' XO O X X': (2, 1), ' XO O XX ': (2, 2), ' XO O XXO': (0, 0), ' XO O XOX': (0, 0), ' XO OX   ': (2, 0), ' XO OX  X': (2, 0), ' XO OX X ': (2, 0), ' XO OX XO': (0, 0), ' XO OX OX': (2, 0), ' XO OXX  ': (0, 0), ' XO OXX O': (0, 0), ' XO OXXXO': (0, 0), ' XO OXXO ': (0, 0), ' XO OXXOX': (0, 0), ' XO OO XX': (2, 0), ' XO OOX X': (2, 1), ' XO OOXX ': (2, 2), ' XOX     ': (1, 1), ' XOX    O': (1, 2), ' XOX   XO': (1, 1), ' XOX   O ': (1, 1), ' XOX   OX': (1, 1), ' XOX  X O': (0, 0), ' XOX  XO ': (0, 0), ' XOX  XOO': (0, 0), ' XOX  O  ': (1, 1), ' XOX  O X': (1, 1), ' XOX  OX ': (1, 1), ' XOX  OXO': (1, 1), ' XOX  OOX': (1, 1), ' XOX X  O': (1, 1), ' XOX X O ': (1, 1), ' XOX X OO': (1, 1), ' XOX XXOO': (1, 1), ' XOX XO  ': (1, 1), ' XOX XO O': (1, 1), ' XOX XOXO': (1, 1), ' XOX XOO ': (1, 1), ' XOX XOOX': (1, 1), ' XOX O   ': (2, 2), ' XOX O  X': (1, 1), ' XOX O X ': (1, 1), ' XOX O OX': (1, 1), ' XOX OX  ': (2, 2), ' XOX OXO ': (0, 0), ' XOX OXOX': (0, 0), ' XOX OO X': (1, 1), ' XOX OOX ': (1, 1), ' XOX OOXX': (1, 1), ' XOXX   O': (1, 2), ' XOXX  O ': (1, 2), ' XOXX  OO': (1, 2), ' XOXX XOO': (1, 2), ' XOXX O  ': (1, 2), ' XOXX O O': (1, 2), ' XOXX OO ': (1, 2), ' XOXX OOX': (0, 0), ' XOXXO   ': (2, 2), ' XOXXO O ': (2, 2), ' XOXXO OX': (0, 0), ' XOXXOXO ': (2, 2), ' XOXXOO  ': (2, 1), ' XOXXOO X': (0, 0), ' XOXXOOOX': (0, 0), ' XOXO    ': (2, 0), ' XOXO   X': (2, 0), ' XOXO  X ': (2, 0), ' XOXO  XO': (0, 0), ' XOXO  OX': (2, 0), ' XOXO X  ': (0, 0), ' XOXO X O': (0, 0), ' XOXO XXO': (0, 0), ' XOXO XO ': (0, 0), ' XOXO XOX': (0, 0), ' XOXOX   ': (2, 0), ' XOXOX  O': (0, 0), ' XOXOX XO': (0, 0), ' XOXOX O ': (2, 0), ' XOXOX OX': (2, 0), ' XOXOXX O': (0, 0), ' XOXOXXO ': (0, 0), ' XOXOXXOO': (0, 0), ' XOXOO  X': (2, 0), ' XOXOO X ': (2, 0), ' XOXOO XX': (2, 0), ' XOXOOX  ': (0, 0), ' XOXOOX X': (0, 0), ' XOXOOXX ': (2, 2), ' XOXOOXOX': (0, 0), ' XOO    X': (1, 1), ' XOO   X ': (1, 1), ' XOO   XX': (1, 1), ' XOO  X  ': (1, 1), ' XOO  X X': (2, 1), ' XOO  XX ': (1, 1), ' XOO  XXO': (1, 1), ' XOO  XOX': (1, 1), ' XOO  OXX': (1, 1), ' XOO X   ': (1, 1), ' XOO X  X': (1, 1), ' XOO X X ': (1, 1), ' XOO X XO': (1, 1), ' XOO X OX': (1, 1), ' XOO XX  ': (1, 1), ' XOO XX O': (1, 1), ' XOO XXXO': (1, 1), ' XOO XXO ': (1, 1), ' XOO XXOX': (1, 1), ' XOO XO X': (1, 1), ' XOO XOX ': (1, 1), ' XOO XOXX': (1, 1), ' XOO O XX': (1, 1), ' XOO OX X': (1, 1), ' XOO OXX ': (1, 1), ' XOOX    ': (2, 1), ' XOOX   X': (0, 0), ' XOOX  OX': (0, 0), ' XOOX X  ': (2, 1), ' XOOX X O': (2, 1), ' XOOX XO ': (0, 0), ' XOOX XOX': (0, 0), ' XOOX O X': (0, 0), ' XOOXX   ': (2, 1), ' XOOXX  O': (2, 1), ' XOOXX O ': (0, 0), ' XOOXX OX': (0, 0), ' XOOXXX O': (2, 1), ' XOOXXXO ': (0, 0), ' XOOXXXOO': (0, 0), ' XOOXXO  ': (0, 0), ' XOOXXO X': (0, 0), ' XOOXXOOX': (0, 0), ' XOOXO  X': (0, 0), ' XOOXOX  ': (2, 1), ' XOOXOX X': (0, 0), ' XOOXOXOX': (0, 0), ' XOOO  XX': (2, 0), ' XOOO X X': (2, 1), ' XOOO XX ': (2, 2), ' XOOOX  X': (2, 0), ' XOOOX X ': (2, 0), ' XOOOX XX': (2, 0), ' XOOOXX  ': (0, 0), ' XOOOXX X': (2, 1), ' XOOOXXX ': (2, 2), ' XOOOXXXO': (0, 0), ' XOOOXXOX': (0, 0), ' O      X': (1, 1), ' O     X ': (1, 1), ' O     XX': (2, 0), ' O    X  ': (1, 1), ' O    X X': (2, 1), ' O    XX ': (2, 2), ' O    XXO': (1, 1), ' O    XOX': (1, 1), ' O    OXX': (1, 1), ' O   X   ': (1, 1), ' O   X  X': (0, 2), ' O   X X ': (1, 1), ' O   X XO': (1, 1), ' O   X OX': (1, 1), ' O   XX  ': (1, 1), ' O   XX O': (1, 1), ' O   XXXO': (1, 1), ' O   XXO ': (1, 1), ' O   XXOX': (1, 1), ' O   XO X': (0, 2), ' O   XOX ': (1, 1), ' O   XOXX': (0, 2), ' O   O XX': (2, 0), ' O   OX X': (2, 1), ' O   OXX ': (2, 2), ' O  X    ': (0, 0), ' O  X   X': (0, 0), ' O  X  X ': (0, 0), ' O  X  XO': (0, 0), ' O  X  OX': (0, 0), ' O  X X  ': (0, 2), ' O  X X O': (0, 2), ' O  X XXO': (0, 2), ' O  X XO ': (0, 2), ' O  X XOX': (0, 0), ' O  X O X': (0, 0), ' O  X OX ': (0, 0), ' O  X OXX': (0, 0), ' O  XX   ': (1, 0), ' O  XX  O': (1, 0), ' O  XX XO': (1, 0), ' O  XX O ': (1, 0), ' O  XX OX': (0, 0), ' O  XXX O': (0, 2), ' O  XXXO ': (0, 2), ' O  XXXOO': (0, 2), ' O  XXO  ': (1, 0), ' O  XXO X': (0, 0), ' O  XXOX ': (1, 0), ' O  XXOXO': (1, 0), ' O  XXOOX': (0, 0), ' O  XO  X': (0, 0), ' O  XO X ': (0, 0), ' O  XO XX': (0, 0), ' O  XOX  ': (0, 2), ' O  XOX X': (0, 0), ' O  XOXX ': (0, 2), ' O  XOXXO': (0, 2), ' O  XOXOX': (0, 0), ' O  XOOXX': (0, 0), ' O  O  XX': (2, 0), ' O  O X X': (2, 1), ' O  O XX ': (2, 2), ' O  OX  X': (0, 2), ' O  OX X ': (0, 0), ' O  OX XX': (0, 2), ' O  OXX  ': (2, 1), ' O  OXX X': (2, 1), ' O  OXXX ': (2, 2), ' O  OXXXO': (0, 0), ' O  OXOXX': (0, 2), ' O X     ': (1, 1), ' O X    X': (1, 1), ' O X   X ': (1, 1), ' O X   XO': (1, 1), ' O X   OX': (1, 1), ' O X  X  ': (0, 0), ' O X  X O': (0, 0), ' O X  XXO': (0, 0), ' O X  XO ': (1, 1), ' O X  XOX': (1, 1), ' O X  O X': (1, 1), ' O X  OX ': (1, 1), ' O X  OXX': (1, 1), ' O X X   ': (1, 1), ' O X X  O': (1, 1), ' O X X XO': (1, 1), ' O X X O ': (1, 1), ' O X X OX': (1, 1), ' O X XX O': (1, 1), ' O X XXO ': (1, 1), ' O X XXOO': (1, 1), ' O X XO  ': (1, 1), ' O X XO X': (1, 1), ' O X XOX ': (1, 1), ' O X XOXO': (1, 1), ' O X XOOX': (1, 1), ' O X O  X': (1, 1), ' O X O X ': (1, 1), ' O X O XX': (2, 0), ' O X OX  ': (0, 0), ' O X OX X': (0, 0), ' O X OXX ': (0, 0), ' O X OXXO': (0, 0), ' O X OXOX': (1, 1), ' O X OOXX': (1, 1), ' O XX    ': (1, 2), ' O XX   O': (1, 2), ' O XX  XO': (1, 2), ' O XX  O ': (1, 2), ' O XX  OX': (0, 0), ' O XX X O': (0, 0), ' O XX XO ': (0, 0), ' O XX XOO': (0, 0), ' O XX O  ': (1, 2), ' O XX O X': (0, 0), ' O XX OX ': (1, 2), ' O XX OXO': (1, 2), ' O XX OOX': (0, 0), ' O XXO   ': (0, 0), ' O XXO  X': (0, 0), ' O XXO X ': (0, 0), ' O XXO XO': (0, 2), ' O XXO OX': (0, 0), ' O XXOX  ': (0, 0), ' O XXOX O': (0, 2), ' O XXOXXO': (0, 2), ' O XXOXO ': (0, 0), ' O XXOXOX': (0, 0), ' O XXOO X': (0, 0), ' O XXOOX ': (0, 0), ' O XXOOXX': (0, 0), ' O XO   X': (2, 1), ' O XO  X ': (0, 0), ' O XO  XX': (2, 0), ' O XO X  ': (0, 0), ' O XO X X': (2, 1), ' O XO XX ': (0, 0), ' O XO XXO': (0, 0), ' O XO OXX': (0, 2), ' O XOX   ': (2, 1), ' O XOX  X': (0, 2), ' O XOX X ': (0, 0), ' O XOX XO': (0, 0), ' O XOXX  ': (0, 0), ' O XOXX O': (0, 0), ' O XOXXXO': (0, 0), ' O XOXO X': (0, 2), ' O XOXOX ': (0, 2), ' O XOXOXX': (0, 2), ' O XOO XX': (2, 0), ' O XOOX X': (2, 1), ' O XOOXX ': (0, 0), ' O O   XX': (2, 0), ' O O  X X': (2, 1), ' O O  XX ': (2, 2), ' O O X  X': (0, 2), ' O O X X ': (1, 1), ' O O X XX': (0, 2), ' O O XX  ': (1, 1), ' O O XX X': (0, 2), ' O O XXX ': (2, 2), ' O O XXXO': (1, 1), ' O O XXOX': (1, 1), ' O O XOXX': (0, 2), ' O OX   X': (0, 0), ' O OX  X ': (0, 0), ' O OX  XX': (0, 0), ' O OX X  ': (0, 2), ' O OX X X': (0, 0), ' O OX XX ': (0, 2), ' O OX XXO': (0, 2), ' O OX XOX': (0, 0), ' O OX OXX': (0, 0), ' O OXX   ': (0, 0), ' O OXX  X': (0, 0), ' O OXX X ': (0, 0), ' O OXX XO': (0, 0), ' O OXX OX': (0, 0), ' O OXXX  ': (0, 2), ' O OXXX O': (0, 2), ' O OXXXXO': (0, 2), ' O OXXXO ': (0, 2), ' O OXXXOX': (0, 0), ' O OXXO X': (0, 0), ' O OXXOX ': (0, 0), ' O OXXOXX': (0, 0), ' O OXO XX': (0, 0), ' O OXOX X': (0, 0), ' O OXOXX ': (0, 2), ' O OOX XX': (0, 2), ' O OOXX X': (2, 1), ' O OOXXX ': (2, 2), ' OX      ': (1, 1), ' OX     X': (1, 2), ' OX    X ': (1, 1), ' OX    XO': (1, 1), ' OX    OX': (1, 1), ' OX   X  ': (1, 1), ' OX   X O': (1, 1), ' OX   XXO': (1, 1), ' OX   XO ': (1, 1), ' OX   XOX': (1, 1), ' OX   O X': (1, 2), ' OX   OX ': (1, 1), ' OX   OXX': (1, 2), ' OX  X   ': (2, 2), ' OX  X  O': (1, 1), ' OX  X XO': (1, 1), ' OX  X O ': (1, 1), ' OX  XX O': (1, 1), ' OX  XXO ': (1, 1), ' OX  XXOO': (1, 1), ' OX  XO  ': (2, 2), ' OX  XOX ': (2, 2), ' OX  XOXO': (1, 1), ' OX  O  X': (1, 1), ' OX  O X ': (1, 1), ' OX  O XX': (2, 0), ' OX  OX  ': (1, 1), ' OX  OX X': (1, 1), ' OX  OXX ': (1, 1), ' OX  OXXO': (1, 1), ' OX  OXOX': (1, 1), ' OX  OOXX': (1, 1), ' OX X    ': (2, 0), ' OX X   O': (2, 0), ' OX X  XO': (2, 0), ' OX X  O ': (2, 0), ' OX X  OX': (0, 0), ' OX X O  ': (0, 0), ' OX X O X': (0, 0), ' OX X OX ': (0, 0), ' OX X OXO': (0, 0), ' OX X OOX': (0, 0), ' OX XX  O': (2, 0), ' OX XX O ': (2, 0), ' OX XX OO': (2, 0), ' OX XXO  ': (2, 2), ' OX XXO O': (1, 0), ' OX XXOXO': (1, 0), ' OX XXOO ': (2, 2), ' OX XO   ': (2, 0), ' OX XO  X': (0, 0), ' OX XO X ': (2, 0), ' OX XO XO': (2, 0), ' OX XO OX': (0, 0), ' OX XOO X': (0, 0), ' OX XOOX ': (0, 0), ' OX XOOXX': (0, 0), ' OX O   X': (1, 2), ' OX O  X ': (0, 0), ' OX O  XX': (2, 0), ' OX O X  ': (2, 1), ' OX O X X': (2, 1), ' OX O XX ': (2, 2), ' OX O XXO': (0, 0), ' OX O OXX': (1, 2), ' OX OX   ': (2, 2), ' OX OX X ': (2, 2), ' OX OX XO': (0, 0), ' OX OXX  ': (2, 1), ' OX OXX O': (0, 0), ' OX OXXXO': (0, 0), ' OX OXOX ': (2, 2), ' OX OO XX': (2, 0), ' OX OOX X': (2, 1), ' OX OOXX ': (2, 2), ' OXX     ': (1, 1), ' OXX    O': (1, 1), ' OXX   XO': (1, 1), ' OXX   O ': (1, 1), ' OXX   OX': (1, 1), ' OXX  X O': (1, 1), ' OXX  XO ': (1, 1), ' OXX  XOO': (1, 1), ' OXX  O  ': (1, 1), ' OXX  O X': (1, 2), ' OXX  OX ': (1, 1), ' OXX  OXO': (1, 1), ' OXX  OOX': (1, 1), ' OXX X  O': (1, 1), ' OXX X O ': (1, 1), ' OXX X OO': (1, 1), ' OXX XXOO': (1, 1), ' OXX XO  ': (1, 1), ' OXX XO O': (1, 1), ' OXX XOXO': (1, 1), ' OXX XOO ': (1, 1), ' OXX O   ': (1, 1), ' OXX O  X': (1, 1), ' OXX O X ': (1, 1), ' OXX O XO': (1, 1), ' OXX O OX': (1, 1), ' OXX OX  ': (1, 1), ' OXX OX O': (1, 1), ' OXX OXXO': (1, 1), ' OXX OXO ': (1, 1), ' OXX OXOX': (1, 1), ' OXX OO X': (1, 1), ' OXX OOX ': (1, 1), ' OXX OOXX': (1, 1), ' OXXX   O': (2, 0), ' OXXX  O ': (2, 0), ' OXXX  OO': (2, 0), ' OXXX O  ': (1, 2), ' OXXX O O': (1, 2), ' OXXX OXO': (1, 2), ' OXXX OO ': (1, 2), ' OXXX OOX': (0, 0), ' OXXXO   ': (2, 0), ' OXXXO  O': (2, 0), ' OXXXO XO': (2, 0), ' OXXXO O ': (2, 0), ' OXXXO OX': (0, 0), ' OXXXOO  ': (0, 0), ' OXXXOO X': (0, 0), ' OXXXOOX ': (0, 0), ' OXXXOOXO': (0, 0), ' OXXXOOOX': (0, 0), ' OXXO    ': (2, 1), ' OXXO   X': (2, 1), ' OXXO  X ': (0, 0), ' OXXO  XO': (0, 0), ' OXXO X  ': (0, 0), ' OXXO X O': (0, 0), ' OXXO XXO': (0, 0), ' OXXO O X': (1, 2), ' OXXO OX ': (0, 0), ' OXXO OXX': (1, 2), ' OXXOX   ': (2, 1), ' OXXOX  O': (0, 0), ' OXXOX XO': (0, 0), ' OXXOXX O': (0, 0), ' OXXOXO  ': (2, 2), ' OXXOXOX ': (2, 2), ' OXXOXOXO': (0, 0), ' OXXOO  X': (2, 1), ' OXXOO X ': (0, 0), ' OXXOO XX': (2, 0), ' OXXOOX  ': (0, 0), ' OXXOOX X': (2, 1), ' OXXOOXX ': (0, 0), ' OXXOOXXO': (0, 0), ' OXXOOOXX': (0, 0), ' OXO    X': (1, 2), ' OXO   X ': (1, 1), ' OXO   XX': (2, 0), ' OXO  X  ': (1, 1), ' OXO  X X': (1, 1), ' OXO  XX ': (1, 1), ' OXO  XXO': (1, 1), ' OXO  XOX': (1, 1), ' OXO  OXX': (0, 0), ' OXO X   ': (2, 2), ' OXO X X ': (2, 2), ' OXO X XO': (1, 1), ' OXO XX  ': (1, 1), ' OXO XX O': (1, 1), ' OXO XXXO': (1, 1), ' OXO XXO ': (1, 1), ' OXO XOX ': (2, 2), ' OXO O XX': (1, 1), ' OXO OX X': (1, 1), ' OXO OXX ': (1, 1), ' OXOX    ': (2, 0), ' OXOX   X': (0, 0), ' OXOX  X ': (2, 0), ' OXOX  XO': (2, 0), ' OXOX  OX': (0, 0), ' OXOX O X': (0, 0), ' OXOX OX ': (0, 0), ' OXOX OXX': (0, 0), ' OXOXX   ': (2, 0), ' OXOXX  O': (2, 0), ' OXOXX XO': (2, 0), ' OXOXX O ': (2, 0), ' OXOXXO  ': (2, 2), ' OXOXXOX ': (0, 0), ' OXOXXOXO': (0, 0), ' OXOXO  X': (0, 0), ' OXOXO X ': (2, 0), ' OXOXO XX': (0, 0), ' OXOXOOXX': (0, 0), ' OXOO  XX': (1, 2), ' OXOO X X': (1, 2), ' OXOO XX ': (2, 2), ' OXOOX X ': (2, 2), ' OXOOXX  ': (2, 2), ' OXOOXXX ': (2, 2), ' OXOOXXXO': (0, 0), ' OO    XX': (2, 0), ' OO   X X': (0, 0), ' OO   XX ': (2, 2), ' OO  X  X': (0, 0), ' OO  X X ': (0, 0), ' OO  X XX': (0, 0), ' OO  XX  ': (0, 0), ' OO  XX X': (0, 0), ' OO  XXX ': (0, 0), ' OO  XXXO': (0, 0), ' OO  XXOX': (1, 1), ' OO  XOXX': (1, 1), ' OO X   X': (0, 0), ' OO X  X ': (0, 0), ' OO X  XX': (0, 0), ' OO X X  ': (0, 0), ' OO X X X': (0, 0), ' OO X XX ': (0, 0), ' OO X XXO': (0, 0), ' OO X XOX': (0, 0), ' OO X OXX': (0, 0), ' OO XX   ': (0, 0), ' OO XX  X': (0, 0), ' OO XX X ': (0, 0), ' OO XX XO': (0, 0), ' OO XX OX': (0, 0), ' OO XXX  ': (0, 0), ' OO XXX O': (0, 0), ' OO XXXXO': (0, 0), ' OO XXXO ': (0, 0), ' OO XXXOX': (0, 0), ' OO XXO X': (0, 0), ' OO XXOX ': (0, 0), ' OO XXOXX': (0, 0), ' OO XO XX': (0, 0), ' OO XOX X': (0, 0), ' OO XOXX ': (2, 2), ' OO OX XX': (2, 0), ' OO OXX X': (2, 1), ' OO OXXX ': (2, 2), ' OOX    X': (0, 0), ' OOX   X ': (0, 0), ' OOX   XX': (0, 0), ' OOX  X  ': (0, 0), ' OOX  X X': (0, 0), ' OOX  XX ': (0, 0), ' OOX  XXO': (0, 0), ' OOX  XOX': (0, 0), ' OOX  OXX': (1, 1), ' OOX X   ': (1, 1), ' OOX X  X': (1, 1), ' OOX X X ': (1, 1), ' OOX X XO': (1, 1), ' OOX X OX': (1, 1), ' OOX XX  ': (0, 0), ' OOX XX O': (0, 0), ' OOX XXXO': (0, 0), ' OOX XXO ': (1, 1), ' OOX XXOX': (1, 1), ' OOX XO X': (1, 1), ' OOX XOX ': (1, 1), ' OOX XOXX': (1, 1), ' OOX O XX': (2, 0), ' OOX OX X': (0, 0), ' OOX OXX ': (0, 0), ' OOXX    ': (0, 0), ' OOXX   X': (0, 0), ' OOXX  X ': (0, 0), ' OOXX  XO': (1, 2), ' OOXX  OX': (0, 0), ' OOXX X  ': (0, 0), ' OOXX X O': (0, 0), ' OOXX XXO': (0, 0), ' OOXX XO ': (0, 0), ' OOXX XOX': (0, 0), ' OOXX O X': (0, 0), ' OOXX OX ': (0, 0), ' OOXX OXX': (0, 0), ' OOXXO  X': (0, 0), ' OOXXO X ': (0, 0), ' OOXXO XX': (0, 0), ' OOXXOX  ': (0, 0), ' OOXXOX X': (0, 0), ' OOXXOXX ': (0, 0), ' OOXXOXOX': (0, 0), ' OOXXOOXX': (0, 0), ' OOXO  XX': (2, 0), ' OOXO X X': (0, 0), ' OOXO XX ': (0, 0), ' OOXOX  X': (0, 0), ' OOXOX X ': (0, 0), ' OOXOX XX': (2, 0), ' OOXOXX  ': (0, 0), ' OOXOXX X': (0, 0), ' OOXOXXX ': (0, 0), ' OOXOXXXO': (0, 0), ' OOO X XX': (2, 0), ' OOO XX X': (0, 0), ' OOO XXX ': (2, 2), ' OOOX  XX': (0, 0), ' OOOX X X': (0, 0), ' OOOX XX ': (2, 2), ' OOOXX  X': (0, 0), ' OOOXX X ': (0, 0), ' OOOXX XX': (0, 0), ' OOOXXX  ': (0, 0), ' OOOXXX X': (0, 0), ' OOOXXXX ': (0, 0), ' OOOXXXXO': (0, 0), ' OOOXXXOX': (0, 0), ' OOOXXOXX': (0, 0), 'X        ': (1, 1), 'X       O': (1, 1), 'X      XO': (1, 1), 'X      O ': (1, 1), 'X      OX': (1, 1), 'X     X O': (1, 0), 'X     XO ': (1, 0), 'X     XOO': (1, 0), 'X     O  ': (1, 1), 'X     O X': (1, 1), 'X     OX ': (1, 1), 'X     OXO': (1, 1), 'X     OOX': (1, 1), 'X    X  O': (1, 1), 'X    X O ': (1, 1), 'X    X OO': (2, 0), 'X    XXOO': (1, 0), 'X    XO  ': (1, 1), 'X    XO O': (2, 1), 'X    XOXO': (1, 1), 'X    XOO ': (2, 2), 'X    XOOX': (1, 1), 'X    O   ': (1, 1), 'X    O  X': (1, 1), 'X    O X ': (1, 1), 'X    O XO': (0, 2), 'X    O OX': (1, 1), 'X    OX  ': (1, 0), 'X    OX O': (0, 2), 'X    OXXO': (0, 2), 'X    OXO ': (1, 0), 'X    OXOX': (1, 1), 'X    OO X': (1, 1), 'X    OOX ': (1, 1), 'X    OOXX': (1, 1), 'X   X   O': (0, 2), 'X   X  O ': (2, 2), 'X   X  OO': (2, 0), 'X   X XOO': (0, 2), 'X   X O  ': (2, 2), 'X   X O O': (2, 1), 'X   X OXO': (0, 1), 'X   X OO ': (2, 2), 'X   XX OO': (2, 0), 'X   XXO O': (2, 1), 'X   XXOO ': (2, 2), 'X   XO   ': (2, 2), 'X   XO  O': (0, 2), 'X   XO XO': (0, 2), 'X   XO O ': (2, 2), 'X   XOX O': (0, 2), 'X   XOXO ': (0, 2), 'X   XOXOO': (0, 2), 'X   XOO  ': (2, 2), 'X   XOOX ': (2, 2), 'X   XOOXO': (0, 1), 'X   O    ': (0, 2), 'X   O   X': (0, 2), 'X   O  X ': (0, 2), 'X   O  XO': (0, 2), 'X   O  OX': (0, 1), 'X   O X  ': (1, 0), 'X   O X O': (1, 0), 'X   O XXO': (1, 0), 'X   O XO ': (1, 0), 'X   O XOX': (0, 1), 'X   O O X': (0, 2), 'X   O OX ': (0, 2), 'X   O OXX': (0, 2), 'X   OX   ': (0, 2), 'X   OX  O': (0, 2), 'X   OX XO': (0, 2), 'X   OX O ': (0, 1), 'X   OX OX': (0, 1), 'X   OXX O': (1, 0), 'X   OXXO ': (0, 1), 'X   OXXOO': (1, 0), 'X   OXO  ': (0, 2), 'X   OXO X': (0, 2), 'X   OXOX ': (0, 2), 'X   OXOXO': (0, 2), 'X   OXOOX': (0, 2), 'X   OO  X': (1, 0), 'X   OO X ': (1, 0), 'X   OO XX': (1, 0), 'X   OOX  ': (1, 0), 'X   OOX X': (1, 0), 'X   OOXX ': (1, 0), 'X   OOXXO': (1, 0), 'X   OOXOX': (1, 0), 'X   OOOXX': (0, 2), 'X  X    O': (2, 0), 'X  X   O ': (2, 0), 'X  X   OO': (2, 0), 'X  X  O  ': (1, 1), 'X  X  O O': (2, 1), 'X  X  OXO': (1, 1), 'X  X  OO ': (2, 2), 'X  X  OOX': (1, 1), 'X  X X OO': (2, 0), 'X  X XO O': (1, 1), 'X  X XOO ': (1, 1), 'X  X O   ': (2, 0), 'X  X O  O': (2, 0), 'X  X O XO': (0, 2), 'X  X O O ': (2, 0), 'X  X O OX': (1, 1), 'X  X OO  ': (1, 1), 'X  X OO X': (1, 1), 'X  X OOX ': (1, 1), 'X  X OOXO': (0, 2), 'X  X OOOX': (1, 1), 'X  XX  OO': (2, 0), 'X  XX O O': (2, 1), 'X  XX OO ': (2, 2), 'X  XXO  O': (0, 2), 'X  XXO O ': (2, 0), 'X  XXO OO': (2, 0), 'X  XXOO  ': (2, 2), 'X  XXOO O': (0, 2), 'X  XXOOXO': (0, 2), 'X  XXOOO ': (2, 2), 'X  XO    ': (2, 0), 'X  XO   O': (2, 0), 'X  XO  XO': (2, 0), 'X  XO  O ': (2, 0), 'X  XO  OX': (0, 1), 'X  XO O  ': (0, 2), 'X  XO O X': (0, 2), 'X  XO OX ': (0, 2), 'X  XO OXO': (0, 2), 'X  XO OOX': (0, 2), 'X  XOX  O': (2, 0), 'X  XOX O ': (0, 1), 'X  XOX OO': (2, 0), 'X  XOXO  ': (0, 2), 'X  XOXO O': (0, 2), 'X  XOXOXO': (0, 2), 'X  XOXOO ': (0, 2), 'X  XOXOOX': (0, 2), 'X  XOO   ': (2, 0), 'X  XOO  X': (2, 0), 'X  XOO X ': (2, 0), 'X  XOO XO': (2, 0), 'X  XOO OX': (2, 0), 'X  XOOO X': (0, 2), 'X  XOOOX ': (0, 2), 'X  XOOOXX': (0, 2), 'X  O     ': (1, 1), 'X  O    X': (1, 1), 'X  O   X ': (1, 1), 'X  O   XO': (1, 1), 'X  O   OX': (1, 1), 'X  O  X  ': (1, 1), 'X  O  X O': (1, 1), 'X  O  XXO': (1, 1), 'X  O  XO ': (1, 1), 'X  O  XOX': (1, 1), 'X  O  O X': (1, 1), 'X  O  OX ': (1, 1), 'X  O  OXX': (1, 1), 'X  O X   ': (1, 1), 'X  O X  O': (1, 1), 'X  O X XO': (1, 1), 'X  O X O ': (1, 1), 'X  O X OX': (1, 1), 'X  O XX O': (1, 1), 'X  O XXO ': (1, 1), 'X  O XXOO': (1, 1), 'X  O XO  ': (1, 1), 'X  O XO X': (1, 1), 'X  O XOX ': (1, 1), 'X  O XOXO': (1, 1), 'X  O XOOX': (1, 1), 'X  O O  X': (1, 1), 'X  O O X ': (1, 1), 'X  O O XX': (1, 1), 'X  O OX  ': (1, 1), 'X  O OX X': (1, 1), 'X  O OXX ': (1, 1), 'X  O OXXO': (1, 1), 'X  O OXOX': (1, 1), 'X  O OOXX': (1, 1), 'X  OX    ': (2, 2), 'X  OX   O': (0, 2), 'X  OX  XO': (0, 1), 'X  OX  O ': (2, 2), 'X  OX X O': (0, 2), 'X  OX XO ': (0, 2), 'X  OX XOO': (0, 2), 'X  OX O  ': (2, 2), 'X  OX OX ': (2, 2), 'X  OX OXO': (0, 1), 'X  OXX  O': (0, 2), 'X  OXX O ': (2, 2), 'X  OXX OO': (2, 0), 'X  OXXXOO': (0, 2), 'X  OXXO  ': (2, 2), 'X  OXXO O': (2, 1), 'X  OXXOXO': (0, 1), 'X  OXXOO ': (2, 2), 'X  OXO   ': (2, 2), 'X  OXO X ': (2, 2), 'X  OXO XO': (0, 1), 'X  OXOX  ': (0, 2), 'X  OXOX O': (0, 2), 'X  OXOXXO': (0, 2), 'X  OXOXO ': (0, 2), 'X  OXOOX ': (2, 2), 'X  OO   X': (1, 2), 'X  OO  X ': (1, 2), 'X  OO  XX': (1, 2), 'X  OO X  ': (1, 2), 'X  OO X X': (1, 2), 'X  OO XX ': (1, 2), 'X  OO XXO': (1, 2), 'X  OO XOX': (0, 1), 'X  OO OXX': (0, 2), 'X  OOX   ': (0, 2), 'X  OOX  X': (0, 2), 'X  OOX X ': (0, 2), 'X  OOX XO': (0, 2), 'X  OOX OX': (0, 2), 'X  OOXX  ': (0, 2), 'X  OOXX O': (0, 2), 'X  OOXXXO': (0, 2), 'X  OOXXO ': (0, 1), 'X  OOXXOX': (0, 1), 'X  OOXO X': (0, 2), 'X  OOXOX ': (0, 2), 'X  OOXOXX': (0, 2), 'X X     O': (0, 1), 'X X    O ': (0, 1), 'X X    OO': (0, 1), 'X X   XOO': (1, 1), 'X X   O  ': (0, 1), 'X X   O O': (0, 1), 'X X   OXO': (0, 1), 'X X   OO ': (0, 1), 'X X   OOX': (1, 1), 'X X  X OO': (2, 0), 'X X  XO O': (2, 1), 'X X  XOO ': (2, 2), 'X X  O   ': (0, 1), 'X X  O  O': (0, 1), 'X X  O XO': (0, 1), 'X X  O O ': (0, 1), 'X X  O OX': (1, 1), 'X X  OX O': (1, 1), 'X X  OXO ': (1, 1), 'X X  OXOO': (1, 1), 'X X  OO  ': (0, 1), 'X X  OO X': (1, 1), 'X X  OOX ': (0, 1), 'X X  OOXO': (0, 1), 'X X  OOOX': (1, 1), 'X X X  OO': (2, 0), 'X X X O O': (2, 1), 'X X X OO ': (2, 2), 'X X XO  O': (2, 0), 'X X XO O ': (2, 0), 'X X XO OO': (2, 0), 'X X XOO  ': (2, 2), 'X X XOO O': (0, 1), 'X X XOOXO': (0, 1), 'X X XOOO ': (2, 2), 'X X O    ': (0, 1), 'X X O   O': (0, 1), 'X X O  XO': (0, 1), 'X X O  O ': (0, 1), 'X X O  OX': (0, 1), 'X X O X O': (0, 1), 'X X O XO ': (0, 1), 'X X O XOO': (0, 1), 'X X O O  ': (0, 1), 'X X O O X': (0, 1), 'X X O OX ': (0, 1), 'X X O OXO': (0, 1), 'X X O OOX': (0, 1), 'X X OX  O': (0, 1), 'X X OX O ': (0, 1), 'X X OX OO': (0, 1), 'X X OXXOO': (0, 1), 'X X OXO  ': (2, 2), 'X X OXO O': (0, 1), 'X X OXOXO': (0, 1), 'X X OXOO ': (2, 2), 'X X OO   ': (0, 1), 'X X OO  X': (1, 0), 'X X OO X ': (1, 0), 'X X OO XO': (0, 1), 'X X OO OX': (0, 1), 'X X OOX  ': (1, 0), 'X X OOX O': (1, 0), 'X X OOXXO': (1, 0), 'X X OOXO ': (0, 1), 'X X OOXOX': (0, 1), 'X X OOO X': (0, 1), 'X X OOOX ': (0, 1), 'X X OOOXX': (1, 0), 'X XX   OO': (2, 0), 'X XX  O O': (2, 1), 'X XX  OO ': (2, 2), 'X XX O  O': (2, 0), 'X XX O O ': (2, 0), 'X XX O OO': (2, 0), 'X XX OO  ': (0, 1), 'X XX OO O': (0, 1), 'X XX OOXO': (0, 1), 'X XX OOO ': (0, 1), 'X XX OOOX': (1, 1), 'X XXXO OO': (2, 0), 'X XXXOO O': (2, 1), 'X XXXOOO ': (2, 2), 'X XXO   O': (2, 0), 'X XXO  O ': (0, 1), 'X XXO  OO': (2, 0), 'X XXO O  ': (0, 1), 'X XXO O O': (0, 1), 'X XXO OXO': (0, 1), 'X XXO OO ': (0, 1), 'X XXO OOX': (0, 1), 'X XXOX OO': (2, 0), 'X XXOXO O': (2, 1), 'X XXOXOO ': (2, 2), 'X XXOO   ': (2, 0), 'X XXOO  O': (2, 0), 'X XXOO XO': (2, 0), 'X XXOO O ': (0, 1), 'X XXOO OX': (0, 1), 'X XXOOO  ': (0, 1), 'X XXOOO X': (0, 1), 'X XXOOOX ': (0, 1), 'X XXOOOXO': (0, 1), 'X XXOOOOX': (0, 1), 'X XO     ': (0, 1), 'X XO    O': (0, 1), 'X XO   XO': (0, 1), 'X XO   O ': (0, 1), 'X XO   OX': (1, 1), 'X XO  X O': (1, 1), 'X XO  XO ': (1, 1), 'X XO  XOO': (1, 1), 'X XO  O  ': (0, 1), 'X XO  O X': (1, 1), 'X XO  OX ': (0, 1), 'X XO  OXO': (0, 1), 'X XO  OOX': (1, 1), 'X XO X  O': (0, 1), 'X XO X O ': (2, 2), 'X XO X OO': (0, 1), 'X XO XXOO': (1, 1), 'X XO XO  ': (2, 2), 'X XO XO O': (0, 1), 'X XO XOXO': (0, 1), 'X XO XOO ': (2, 2), 'X XO O   ': (1, 1), 'X XO O  X': (1, 1), 'X XO O X ': (1, 1), 'X XO O XO': (1, 1), 'X XO O OX': (1, 1), 'X XO OX  ': (1, 1), 'X XO OX O': (1, 1), 'X XO OXXO': (1, 1), 'X XO OXO ': (1, 1), 'X XO OXOX': (1, 1), 'X XO OO X': (1, 1), 'X XO OOX ': (1, 1), 'X XO OOXX': (1, 1), 'X XOX   O': (2, 0), 'X XOX  O ': (2, 0), 'X XOX  OO': (2, 0), 'X XOX O  ': (2, 2), 'X XOX O O': (0, 1), 'X XOX OXO': (0, 1), 'X XOX OO ': (2, 2), 'X XOXX OO': (2, 0), 'X XOXXO O': (2, 1), 'X XOXXOO ': (2, 2), 'X XOXO   ': (2, 0), 'X XOXO  O': (2, 0), 'X XOXO XO': (2, 0), 'X XOXO O ': (2, 0), 'X XOXOO  ': (2, 2), 'X XOXOOX ': (2, 2), 'X XOXOOXO': (0, 1), 'X XOO    ': (0, 1), 'X XOO   X': (1, 2), 'X XOO  X ': (1, 2), 'X XOO  XO': (0, 1), 'X XOO  OX': (0, 1), 'X XOO X  ': (1, 2), 'X XOO X O': (0, 1), 'X XOO XXO': (1, 2), 'X XOO XO ': (0, 1), 'X XOO XOX': (0, 1), 'X XOO O X': (1, 2), 'X XOO OX ': (0, 1), 'X XOO OXX': (1, 2), 'X XOOX   ': (2, 2), 'X XOOX  O': (0, 1), 'X XOOX XO': (0, 1), 'X XOOX O ': (0, 1), 'X XOOXX O': (0, 1), 'X XOOXXO ': (0, 1), 'X XOOXXOO': (0, 1), 'X XOOXO  ': (2, 2), 'X XOOXOX ': (2, 2), 'X XOOXOXO': (0, 1), 'X O      ': (1, 1), 'X O     X': (1, 1), 'X O    X ': (1, 1), 'X O    XO': (1, 2), 'X O    OX': (1, 1), 'X O   X  ': (1, 0), 'X O   X O': (1, 0), 'X O   XXO': (1, 2), 'X O   XO ': (1, 0), 'X O   XOX': (1, 1), 'X O   O X': (1, 1), 'X O   OX ': (1, 1), 'X O   OXX': (1, 1), 'X O  X   ': (1, 1), 'X O  X  O': (1, 1), 'X O  X XO': (1, 1), 'X O  X O ': (1, 1), 'X O  X OX': (1, 1), 'X O  XX O': (1, 0), 'X O  XXO ': (1, 0), 'X O  XXOO': (1, 0), 'X O  XO  ': (1, 1), 'X O  XO X': (1, 1), 'X O  XOX ': (1, 1), 'X O  XOXO': (1, 1), 'X O  XOOX': (1, 1), 'X O  O  X': (1, 1), 'X O  O X ': (2, 2), 'X O  O XX': (1, 1), 'X O  OX  ': (1, 0), 'X O  OX X': (1, 1), 'X O  OXX ': (2, 2), 'X O  OXOX': (1, 1), 'X O  OOXX': (1, 1), 'X O X    ': (2, 2), 'X O X   O': (1, 2), 'X O X  XO': (1, 2), 'X O X  O ': (2, 2), 'X O X X O': (1, 2), 'X O X XO ': (2, 2), 'X O X XOO': (1, 0), 'X O X O  ': (2, 2), 'X O X OX ': (2, 2), 'X O X OXO': (0, 1), 'X O XX  O': (1, 0), 'X O XX O ': (2, 2), 'X O XX OO': (1, 0), 'X O XXXOO': (1, 0), 'X O XXO  ': (2, 2), 'X O XXO O': (1, 0), 'X O XXOXO': (0, 1), 'X O XXOO ': (2, 2), 'X O XO   ': (2, 2), 'X O XO X ': (2, 2), 'X O XOX  ': (2, 2), 'X O XOXO ': (2, 2), 'X O XOOX ': (2, 2), 'X O O   X': (2, 0), 'X O O  X ': (2, 0), 'X O O  XX': (2, 0), 'X O O X  ': (1, 0), 'X O O X X': (1, 0), 'X O O XX ': (2, 2), 'X O O XXO': (1, 0), 'X O O XOX': (1, 0), 'X O OX   ': (2, 0), 'X O OX  X': (2, 0), 'X O OX X ': (2, 0), 'X O OX XO': (2, 0), 'X O OX OX': (2, 0), 'X O OXX  ': (1, 0), 'X O OXX O': (1, 0), 'X O OXXXO': (1, 0), 'X O OXXO ': (1, 0), 'X O OXXOX': (0, 1), 'X O OO XX': (2, 0), 'X O OOX X': (1, 0), 'X O OOXX ': (2, 2), 'X OX     ': (2, 0), 'X OX    O': (2, 0), 'X OX   XO': (1, 2), 'X OX   O ': (2, 0), 'X OX   OX': (1, 1), 'X OX  O  ': (1, 1), 'X OX  O X': (1, 1), 'X OX  OX ': (1, 1), 'X OX  OXO': (1, 1), 'X OX  OOX': (1, 1), 'X OX X  O': (1, 1), 'X OX X O ': (1, 1), 'X OX X OO': (2, 0), 'X OX XO  ': (1, 1), 'X OX XO O': (1, 1), 'X OX XOXO': (1, 1), 'X OX XOO ': (1, 1), 'X OX XOOX': (1, 1), 'X OX O   ': (2, 0), 'X OX O  X': (1, 1), 'X OX O X ': (2, 2), 'X OX O OX': (1, 1), 'X OX OO X': (1, 1), 'X OX OOX ': (1, 1), 'X OX OOXX': (1, 1), 'X OXX   O': (1, 2), 'X OXX  O ': (2, 0), 'X OXX  OO': (2, 0), 'X OXX O  ': (2, 2), 'X OXX O O': (1, 2), 'X OXX OXO': (1, 2), 'X OXX OO ': (2, 2), 'X OXXO   ': (2, 2), 'X OXXO O ': (2, 2), 'X OXXOO  ': (2, 2), 'X OXXOOX ': (2, 2), 'X OXO    ': (2, 0), 'X OXO   X': (2, 0), 'X OXO  X ': (2, 0), 'X OXO  XO': (2, 0), 'X OXO  OX': (2, 0), 'X OXOX   ': (2, 0), 'X OXOX  O': (2, 0), 'X OXOX XO': (2, 0), 'X OXOX O ': (2, 0), 'X OXOX OX': (2, 0), 'X OXOO  X': (2, 0), 'X OXOO X ': (2, 0), 'X OXOO XX': (2, 0), 'X OO    X': (1, 1), 'X OO   X ': (1, 1), 'X OO   XX': (1, 1), 'X OO  X  ': (1, 1), 'X OO  X X': (1, 1), 'X OO  XX ': (2, 2), 'X OO  XXO': (1, 2), 'X OO  XOX': (1, 1), 'X OO  OXX': (1, 1), 'X OO X   ': (1, 1), 'X OO X  X': (1, 1), 'X OO X X ': (1, 1), 'X OO X XO': (1, 1), 'X OO X OX': (1, 1), 'X OO XX  ': (1, 1), 'X OO XX O': (1, 1), 'X OO XXXO': (1, 1), 'X OO XXO ': (1, 1), 'X OO XXOX': (1, 1), 'X OO XO X': (1, 1), 'X OO XOX ': (1, 1), 'X OO XOXX': (1, 1), 'X OO O XX': (1, 1), 'X OO OX X': (1, 1), 'X OO OXX ': (2, 2), 'X OOX    ': (2, 2), 'X OOX  X ': (2, 2), 'X OOX  XO': (0, 1), 'X OOX X  ': (2, 2), 'X OOX X O': (1, 2), 'X OOX XXO': (1, 2), 'X OOX XO ': (2, 2), 'X OOX OX ': (2, 2), 'X OOXX   ': (2, 2), 'X OOXX  O': (2, 0), 'X OOXX XO': (0, 1), 'X OOXX O ': (2, 2), 'X OOXXX O': (0, 1), 'X OOXXXO ': (2, 2), 'X OOXXXOO': (0, 1), 'X OOXXO  ': (2, 2), 'X OOXXOX ': (2, 2), 'X OOXXOXO': (0, 1), 'X OOXO X ': (2, 2), 'X OOXOX  ': (2, 2), 'X OOXOXX ': (2, 2), 'X OOO  XX': (2, 0), 'X OOO X X': (2, 1), 'X OOO XX ': (2, 2), 'X OOOX  X': (2, 0), 'X OOOX X ': (2, 0), 'X OOOX XX': (2, 0), 'X OOOXX  ': (2, 2), 'X OOOXX X': (2, 1), 'X OOOXXX ': (2, 2), 'X OOOXXXO': (0, 1), 'X OOOXXOX': (0, 1), 'XX      O': (0, 2), 'XX     O ': (0, 2), 'XX     OO': (0, 2), 'XX    XOO': (0, 2), 'XX    O  ': (0, 2), 'XX    O O': (0, 2), 'XX    OXO': (1, 1), 'XX    OO ': (0, 2), 'XX    OOX': (1, 1), 'XX   X OO': (2, 0), 'XX   XO O': (0, 2), 'XX   XOO ': (2, 2), 'XX   O   ': (0, 2), 'XX   O  O': (0, 2), 'XX   O XO': (0, 2), 'XX   O O ': (0, 2), 'XX   O OX': (1, 1), 'XX   OX O': (0, 2), 'XX   OXO ': (0, 2), 'XX   OXOO': (0, 2), 'XX   OO  ': (0, 2), 'XX   OO X': (1, 1), 'XX   OOX ': (1, 1), 'XX   OOXO': (0, 2), 'XX   OOOX': (1, 1), 'XX  X  OO': (2, 0), 'XX  X O O': (2, 1), 'XX  X OO ': (2, 2), 'XX  XO  O': (0, 2), 'XX  XO O ': (0, 2), 'XX  XO OO': (0, 2), 'XX  XOXOO': (0, 2), 'XX  XOO  ': (0, 2), 'XX  XOO O': (0, 2), 'XX  XOOO ': (2, 2), 'XX  O    ': (0, 2), 'XX  O   O': (0, 2), 'XX  O  XO': (0, 2), 'XX  O  O ': (0, 2), 'XX  O  OX': (0, 2), 'XX  O X O': (0, 2), 'XX  O XO ': (0, 2), 'XX  O XOO': (0, 2), 'XX  O O  ': (0, 2), 'XX  O O X': (0, 2), 'XX  O OX ': (0, 2), 'XX  O OXO': (0, 2), 'XX  O OOX': (0, 2), 'XX  OX  O': (0, 2), 'XX  OX O ': (0, 2), 'XX  OX OO': (0, 2), 'XX  OXXOO': (0, 2), 'XX  OXO  ': (0, 2), 'XX  OXO O': (0, 2), 'XX  OXOXO': (0, 2), 'XX  OXOO ': (0, 2), 'XX  OXOOX': (0, 2), 'XX  OO   ': (0, 2), 'XX  OO  X': (0, 2), 'XX  OO X ': (0, 2), 'XX  OO XO': (0, 2), 'XX  OO OX': (0, 2), 'XX  OOX  ': (1, 0), 'XX  OOX O': (0, 2), 'XX  OOXXO': (0, 2), 'XX  OOXO ': (1, 0), 'XX  OOXOX': (1, 0), 'XX  OOO X': (0, 2), 'XX  OOOX ': (0, 2), 'XX  OOOXX': (0, 2), 'XX X   OO': (2, 0), 'XX X  O O': (0, 2), 'XX X  OO ': (2, 2), 'XX X O  O': (0, 2), 'XX X O O ': (0, 2), 'XX X O OO': (0, 2), 'XX X OO  ': (0, 2), 'XX X OO O': (0, 2), 'XX X OOXO': (0, 2), 'XX X OOO ': (0, 2), 'XX X OOOX': (1, 1), 'XX XXO OO': (0, 2), 'XX XXOO O': (0, 2), 'XX XXOOO ': (2, 2), 'XX XO   O': (0, 2), 'XX XO  O ': (0, 2), 'XX XO  OO': (2, 0), 'XX XO O  ': (0, 2), 'XX XO O O': (0, 2), 'XX XO OXO': (0, 2), 'XX XO OO ': (0, 2), 'XX XO OOX': (0, 2), 'XX XOX OO': (2, 0), 'XX XOXO O': (0, 2), 'XX XOXOO ': (0, 2), 'XX XOO   ': (0, 2), 'XX XOO  O': (0, 2), 'XX XOO XO': (0, 2), 'XX XOO O ': (0, 2), 'XX XOO OX': (0, 2), 'XX XOOO  ': (0, 2), 'XX XOOO X': (0, 2), 'XX XOOOX ': (0, 2), 'XX XOOOXO': (0, 2), 'XX XOOOOX': (0, 2), 'XX O     ': (0, 2), 'XX O    O': (0, 2), 'XX O   XO': (1, 1), 'XX O   O ': (0, 2), 'XX O   OX': (1, 1), 'XX O  X O': (0, 2), 'XX O  XO ': (0, 2), 'XX O  XOO': (0, 2), 'XX O  O  ': (0, 2), 'XX O  O X': (1, 1), 'XX O  OX ': (1, 1), 'XX O  OXO': (1, 1), 'XX O  OOX': (1, 1), 'XX O X  O': (0, 2), 'XX O X O ': (0, 2), 'XX O X OO': (0, 2), 'XX O XXOO': (0, 2), 'XX O XO  ': (0, 2), 'XX O XO O': (0, 2), 'XX O XOXO': (1, 1), 'XX O XOO ': (0, 2), 'XX O XOOX': (1, 1), 'XX O O   ': (1, 1), 'XX O O  X': (1, 1), 'XX O O X ': (1, 1), 'XX O O XO': (1, 1), 'XX O O OX': (1, 1), 'XX O OX  ': (1, 1), 'XX O OX O': (0, 2), 'XX O OXXO': (1, 1), 'XX O OXO ': (1, 1), 'XX O OXOX': (1, 1), 'XX O OO X': (1, 1), 'XX O OOX ': (1, 1), 'XX O OOXX': (1, 1), 'XX OX   O': (0, 2), 'XX OX  O ': (0, 2), 'XX OX  OO': (0, 2), 'XX OX XOO': (0, 2), 'XX OX O  ': (0, 2), 'XX OX O O': (2, 1), 'XX OX OO ': (2, 2), 'XX OXX OO': (2, 0), 'XX OXXO O': (2, 1), 'XX OXXOO ': (2, 2), 'XX OXO   ': (0, 2), 'XX OXO  O': (0, 2), 'XX OXO O ': (0, 2), 'XX OXOX O': (0, 2), 'XX OXOXO ': (0, 2), 'XX OXOXOO': (0, 2), 'XX OXOO  ': (0, 2), 'XX OO    ': (0, 2), 'XX OO   X': (0, 2), 'XX OO  X ': (0, 2), 'XX OO  XO': (0, 2), 'XX OO  OX': (0, 2), 'XX OO X  ': (0, 2), 'XX OO X O': (0, 2), 'XX OO XXO': (0, 2), 'XX OO XO ': (0, 2), 'XX OO XOX': (0, 2), 'XX OO O X': (0, 2), 'XX OO OX ': (0, 2), 'XX OO OXX': (0, 2), 'XX OOX   ': (0, 2), 'XX OOX  O': (0, 2), 'XX OOX XO': (0, 2), 'XX OOX O ': (0, 2), 'XX OOX OX': (0, 2), 'XX OOXX O': (0, 2), 'XX OOXXO ': (0, 2), 'XX OOXXOO': (0, 2), 'XX OOXO  ': (0, 2), 'XX OOXO X': (0, 2), 'XX OOXOX ': (0, 2), 'XX OOXOXO': (0, 2), 'XX OOXOOX': (0, 2), 'XXO      ': (1, 1), 'XXO     O': (1, 2), 'XXO    XO': (1, 1), 'XXO    O ': (1, 1), 'XXO    OX': (1, 1), 'XXO   X O': (1, 2), 'XXO   XO ': (1, 0), 'XXO   XOO': (1, 0), 'XXO   O  ': (1, 1), 'XXO   O X': (1, 1), 'XXO   OX ': (1, 1), 'XXO   OXO': (1, 1), 'XXO   OOX': (1, 1), 'XXO  X  O': (1, 1), 'XXO  X O ': (1, 1), 'XXO  X OO': (2, 0), 'XXO  XXOO': (1, 0), 'XXO  XO  ': (1, 1), 'XXO  XO O': (1, 1), 'XXO  XOXO': (1, 1), 'XXO  XOO ': (1, 1), 'XXO  XOOX': (1, 1), 'XXO  O   ': (2, 2), 'XXO  O  X': (1, 1), 'XXO  O X ': (1, 1), 'XXO  O OX': (1, 1), 'XXO  OX  ': (2, 2), 'XXO  OXO ': (1, 0), 'XXO  OXOX': (1, 1), 'XXO  OO X': (1, 1), 'XXO  OOX ': (1, 1), 'XXO  OOXX': (1, 1), 'XXO X   O': (1, 2), 'XXO X  O ': (2, 2), 'XXO X  OO': (2, 0), 'XXO X XOO': (1, 2), 'XXO X O  ': (2, 2), 'XXO X O O': (2, 1), 'XXO X OO ': (2, 2), 'XXO XX OO': (2, 0), 'XXO XXO O': (2, 1), 'XXO XXOO ': (2, 2), 'XXO XO   ': (2, 2), 'XXO XO O ': (2, 2), 'XXO XOXO ': (2, 2), 'XXO XOO  ': (2, 2), 'XXO O    ': (2, 0), 'XXO O   X': (2, 0), 'XXO O  X ': (2, 0), 'XXO O  XO': (2, 0), 'XXO O  OX': (2, 0), 'XXO O X  ': (1, 0), 'XXO O X O': (1, 0), 'XXO O XXO': (1, 2), 'XXO O XO ': (1, 0), 'XXO O XOX': (1, 0), 'XXO OX   ': (2, 0), 'XXO OX  O': (2, 0), 'XXO OX XO': (2, 0), 'XXO OX O ': (2, 0), 'XXO OX OX': (2, 0), 'XXO OXX O': (1, 0), 'XXO OXXO ': (1, 0), 'XXO OXXOO': (1, 0), 'XXO OO  X': (2, 0), 'XXO OO X ': (2, 0), 'XXO OO XX': (2, 0), 'XXO OOX  ': (1, 0), 'XXO OOX X': (1, 0), 'XXO OOXX ': (2, 2), 'XXO OOXOX': (1, 0), 'XXOX    O': (1, 2), 'XXOX   O ': (2, 0), 'XXOX   OO': (2, 0), 'XXOX  O  ': (1, 1), 'XXOX  O O': (1, 1), 'XXOX  OXO': (1, 1), 'XXOX  OO ': (1, 1), 'XXOX  OOX': (1, 1), 'XXOX X OO': (2, 0), 'XXOX XO O': (1, 1), 'XXOX XOO ': (1, 1), 'XXOX O   ': (2, 2), 'XXOX O O ': (2, 0), 'XXOX O OX': (1, 1), 'XXOX OO  ': (1, 1), 'XXOX OO X': (1, 1), 'XXOX OOX ': (1, 1), 'XXOX OOOX': (1, 1), 'XXOXX  OO': (2, 0), 'XXOXX O O': (1, 2), 'XXOXX OO ': (2, 2), 'XXOXXO O ': (2, 2), 'XXOXXOO  ': (2, 2), 'XXOXXOOO ': (2, 2), 'XXOXO    ': (2, 0), 'XXOXO   O': (2, 0), 'XXOXO  XO': (2, 0), 'XXOXO  O ': (2, 0), 'XXOXO  OX': (2, 0), 'XXOXOX  O': (2, 0), 'XXOXOX O ': (2, 0), 'XXOXOX OO': (2, 0), 'XXOXOO   ': (2, 0), 'XXOXOO  X': (2, 0), 'XXOXOO X ': (2, 0), 'XXOXOO OX': (2, 0), 'XXOO     ': (1, 1), 'XXOO    X': (1, 1), 'XXOO   X ': (1, 1), 'XXOO   XO': (1, 1), 'XXOO   OX': (1, 1), 'XXOO  X  ': (1, 1), 'XXOO  X O': (1, 2), 'XXOO  XXO': (1, 1), 'XXOO  XO ': (1, 1), 'XXOO  XOX': (1, 1), 'XXOO  O X': (1, 1), 'XXOO  OX ': (1, 1), 'XXOO  OXX': (1, 1), 'XXOO X   ': (1, 1), 'XXOO X  O': (1, 1), 'XXOO X XO': (1, 1), 'XXOO X O ': (1, 1), 'XXOO X OX': (1, 1), 'XXOO XX O': (1, 1), 'XXOO XXO ': (1, 1), 'XXOO XXOO': (1, 1), 'XXOO XO  ': (1, 1), 'XXOO XO X': (1, 1), 'XXOO XOX ': (1, 1), 'XXOO XOXO': (1, 1), 'XXOO XOOX': (1, 1), 'XXOO O  X': (1, 1), 'XXOO O X ': (1, 1), 'XXOO O XX': (1, 1), 'XXOO OX  ': (1, 1), 'XXOO OX X': (1, 1), 'XXOO OXX ': (1, 1), 'XXOO OXOX': (1, 1), 'XXOO OOXX': (1, 1), 'XXOOX    ': (2, 2), 'XXOOX   O': (2, 1), 'XXOOX  O ': (2, 2), 'XXOOX X O': (1, 2), 'XXOOX XO ': (2, 2), 'XXOOX XOO': (1, 2), 'XXOOX O  ': (2, 2), 'XXOOXX  O': (2, 1), 'XXOOXX O ': (2, 2), 'XXOOXX OO': (2, 0), 'XXOOXXO  ': (2, 2), 'XXOOXXO O': (2, 1), 'XXOOXXOO ': (2, 2), 'XXOOXO   ': (2, 2), 'XXOOXOX  ': (2, 2), 'XXOOXOXO ': (2, 2), 'XXOOO   X': (2, 0), 'XXOOO  X ': (2, 0), 'XXOOO  XX': (2, 0), 'XXOOO X  ': (1, 2), 'XXOOO X X': (1, 2), 'XXOOO XX ': (1, 2), 'XXOOO XXO': (1, 2), 'XXOOO XOX': (1, 2), 'XXOOOX   ': (2, 0), 'XXOOOX  X': (2, 0), 'XXOOOX X ': (2, 0), 'XXOOOX XO': (2, 0), 'XXOOOX OX': (2, 0), 'XXOOOXX  ': (2, 2), 'XXOOOXX O': (2, 1), 'XXOOOXXO ': (2, 2), 'XO       ': (1, 1), 'XO      X': (1, 1), 'XO     X ': (1, 1), 'XO     XO': (1, 1), 'XO     OX': (1, 1), 'XO    X  ': (1, 0), 'XO    X O': (1, 0), 'XO    XXO': (1, 0), 'XO    XO ': (1, 1), 'XO    XOX': (1, 1), 'XO    O X': (1, 1), 'XO    OX ': (1, 1), 'XO    OXX': (1, 1), 'XO   X   ': (1, 1), 'XO   X  O': (1, 1), 'XO   X XO': (1, 1), 'XO   X O ': (1, 1), 'XO   X OX': (1, 1), 'XO   XX O': (1, 0), 'XO   XXO ': (1, 1), 'XO   XXOO': (1, 1), 'XO   XO  ': (1, 1), 'XO   XO X': (1, 1), 'XO   XOX ': (1, 1), 'XO   XOXO': (1, 1), 'XO   XOOX': (1, 1), 'XO   O  X': (1, 1), 'XO   O X ': (1, 1), 'XO   O XX': (1, 1), 'XO   OX  ': (1, 0), 'XO   OX X': (1, 1), 'XO   OXX ': (2, 2), 'XO   OXXO': (0, 2), 'XO   OXOX': (1, 1), 'XO   OOXX': (1, 1), 'XO  X    ': (2, 2), 'XO  X   O': (0, 2), 'XO  X  XO': (0, 2), 'XO  X  O ': (2, 2), 'XO  X X O': (0, 2), 'XO  X XO ': (0, 2), 'XO  X XOO': (0, 2), 'XO  X O  ': (2, 2), 'XO  X OX ': (2, 2), 'XO  X OXO': (0, 2), 'XO  XX  O': (1, 0), 'XO  XX O ': (2, 2), 'XO  XX OO': (1, 0), 'XO  XXXOO': (0, 2), 'XO  XXO  ': (2, 2), 'XO  XXO O': (1, 0), 'XO  XXOXO': (1, 0), 'XO  XXOO ': (2, 2), 'XO  XO   ': (2, 2), 'XO  XO X ': (2, 2), 'XO  XO XO': (0, 2), 'XO  XOX  ': (0, 2), 'XO  XOX O': (0, 2), 'XO  XOXXO': (0, 2), 'XO  XOXO ': (0, 2), 'XO  XOOX ': (2, 2), 'XO  O   X': (2, 1), 'XO  O  X ': (0, 2), 'XO  O  XX': (2, 0), 'XO  O X  ': (1, 0), 'XO  O X X': (2, 1), 'XO  O XX ': (2, 2), 'XO  O XXO': (1, 0), 'XO  O OXX': (0, 2), 'XO  OX   ': (2, 1), 'XO  OX  X': (0, 2), 'XO  OX X ': (0, 2), 'XO  OX XO': (0, 2), 'XO  OXX  ': (2, 1), 'XO  OXX O': (1, 0), 'XO  OXXXO': (1, 0), 'XO  OXO X': (0, 2), 'XO  OXOX ': (0, 2), 'XO  OXOXX': (0, 2), 'XO  OO XX': (2, 0), 'XO  OOX X': (1, 0), 'XO  OOXX ': (1, 0), 'XO X     ': (2, 0), 'XO X    O': (2, 0), 'XO X   XO': (2, 0), 'XO X   O ': (1, 1), 'XO X   OX': (1, 1), 'XO X  O  ': (1, 1), 'XO X  O X': (1, 1), 'XO X  OX ': (1, 1), 'XO X  OXO': (1, 1), 'XO X  OOX': (1, 1), 'XO X X  O': (1, 1), 'XO X X O ': (1, 1), 'XO X X OO': (1, 1), 'XO X XO  ': (1, 1), 'XO X XO O': (1, 1), 'XO X XOXO': (1, 1), 'XO X XOO ': (1, 1), 'XO X XOOX': (1, 1), 'XO X O   ': (2, 0), 'XO X O  X': (1, 1), 'XO X O X ': (2, 0), 'XO X O XO': (2, 0), 'XO X O OX': (1, 1), 'XO X OO X': (1, 1), 'XO X OOX ': (1, 1), 'XO X OOXX': (1, 1), 'XO XX   O': (2, 0), 'XO XX  O ': (2, 0), 'XO XX  OO': (2, 0), 'XO XX O  ': (2, 2), 'XO XX O O': (1, 2), 'XO XX OXO': (1, 2), 'XO XX OO ': (2, 2), 'XO XXO   ': (2, 0), 'XO XXO  O': (2, 0), 'XO XXO XO': (0, 2), 'XO XXO O ': (2, 0), 'XO XXOO  ': (2, 2), 'XO XXOOX ': (2, 2), 'XO XXOOXO': (0, 2), 'XO XO    ': (2, 0), 'XO XO   X': (2, 0), 'XO XO  X ': (2, 0), 'XO XO  XO': (2, 0), 'XO XO O X': (0, 2), 'XO XO OX ': (0, 2), 'XO XO OXX': (0, 2), 'XO XOX   ': (2, 0), 'XO XOX  O': (2, 0), 'XO XOX XO': (2, 0), 'XO XOXO  ': (0, 2), 'XO XOXO X': (0, 2), 'XO XOXOX ': (0, 2), 'XO XOXOXO': (0, 2), 'XO XOO  X': (2, 0), 'XO XOO X ': (2, 0), 'XO XOO XX': (2, 0), 'XO XOOOXX': (0, 2), 'XO O    X': (1, 1), 'XO O   X ': (1, 1), 'XO O   XX': (1, 1), 'XO O  X  ': (1, 1), 'XO O  X X': (1, 1), 'XO O  XX ': (2, 2), 'XO O  XXO': (1, 1), 'XO O  XOX': (1, 1), 'XO O  OXX': (1, 1), 'XO O X   ': (1, 1), 'XO O X  X': (1, 1), 'XO O X X ': (1, 1), 'XO O X XO': (1, 1), 'XO O X OX': (1, 1), 'XO O XX  ': (1, 1), 'XO O XX O': (1, 1), 'XO O XXXO': (1, 1), 'XO O XXO ': (1, 1), 'XO O XXOX': (1, 1), 'XO O XO X': (1, 1), 'XO O XOX ': (1, 1), 'XO O XOXX': (1, 1), 'XO O O XX': (1, 1), 'XO O OX X': (1, 1), 'XO O OXX ': (1, 1), 'XO OX    ': (2, 2), 'XO OX  X ': (2, 2), 'XO OX  XO': (0, 2), 'XO OX X  ': (0, 2), 'XO OX X O': (0, 2), 'XO OX XXO': (0, 2), 'XO OX XO ': (0, 2), 'XO OX OX ': (2, 2), 'XO OXX   ': (2, 2), 'XO OXX  O': (0, 2), 'XO OXX XO': (0, 2), 'XO OXX O ': (2, 2), 'XO OXXX O': (0, 2), 'XO OXXXO ': (0, 2), 'XO OXXXOO': (0, 2), 'XO OXXO  ': (2, 2), 'XO OXXOX ': (2, 2), 'XO OXXOXO': (0, 2), 'XO OXO X ': (2, 2), 'XO OXOX  ': (0, 2), 'XO OXOXX ': (0, 2), 'XO OXOXXO': (0, 2), 'XO OO  XX': (2, 0), 'XO OO X X': (2, 1), 'XO OO XX ': (2, 2), 'XO OOX  X': (0, 2), 'XO OOX X ': (0, 2), 'XO OOX XX': (0, 2), 'XO OOXX  ': (2, 1), 'XO OOXX X': (2, 1), 'XO OOXXX ': (2, 2), 'XO OOXXXO': (0, 2), 'XO OOXOXX': (0, 2), 'XOX      ': (1, 1), 'XOX     O': (1, 1), 'XOX    XO': (1, 1), 'XOX    O ': (1, 1), 'XOX    OX': (1, 1), 'XOX   X O': (1, 1), 'XOX   XO ': (1, 1), 'XOX   XOO': (1, 1), 'XOX   O  ': (1, 1), 'XOX   O X': (1, 1), 'XOX   OX ': (1, 1), 'XOX   OXO': (1, 1), 'XOX   OOX': (1, 1), 'XOX  X  O': (1, 1), 'XOX  X O ': (1, 1), 'XOX  X OO': (1, 1), 'XOX  XXOO': (1, 1), 'XOX  XO  ': (2, 2), 'XOX  XO O': (2, 1), 'XOX  XOXO': (1, 1), 'XOX  XOO ': (2, 2), 'XOX  O   ': (1, 1), 'XOX  O  X': (1, 1), 'XOX  O X ': (1, 1), 'XOX  O XO': (1, 1), 'XOX  O OX': (1, 1), 'XOX  OX  ': (1, 1), 'XOX  OX O': (1, 1), 'XOX  OXXO': (1, 1), 'XOX  OXO ': (1, 1), 'XOX  OXOX': (1, 1), 'XOX  OO X': (1, 1), 'XOX  OOX ': (1, 1), 'XOX  OOXX': (1, 1), 'XOX X   O': (2, 0), 'XOX X  O ': (2, 0), 'XOX X  OO': (2, 0), 'XOX X O  ': (2, 2), 'XOX X O O': (2, 1), 'XOX X OXO': (1, 0), 'XOX X OO ': (2, 2), 'XOX XX OO': (2, 0), 'XOX XXO O': (2, 1), 'XOX XXOO ': (2, 2), 'XOX XO   ': (2, 0), 'XOX XO  O': (2, 0), 'XOX XO XO': (2, 0), 'XOX XO O ': (2, 0), 'XOX XOO  ': (2, 2), 'XOX XOOX ': (2, 2), 'XOX XOOXO': (1, 0), 'XOX O    ': (2, 1), 'XOX O   X': (2, 1), 'XOX O  X ': (2, 0), 'XOX O  XO': (2, 0), 'XOX O X  ': (2, 1), 'XOX O X O': (1, 0), 'XOX O XXO': (1, 0), 'XOX O O X': (1, 2), 'XOX O OX ': (2, 2), 'XOX O OXX': (1, 2), 'XOX OX   ': (2, 1), 'XOX OX  O': (2, 1), 'XOX OX XO': (2, 0), 'XOX OXX O': (2, 1), 'XOX OXO  ': (2, 2), 'XOX OXOX ': (2, 2), 'XOX OXOXO': (1, 0), 'XOX OO  X': (1, 0), 'XOX OO X ': (1, 0), 'XOX OO XX': (1, 0), 'XOX OOX  ': (1, 0), 'XOX OOX X': (1, 0), 'XOX OOXX ': (1, 0), 'XOX OOXXO': (1, 0), 'XOX OOOXX': (1, 0), 'XOXX    O': (2, 0), 'XOXX   O ': (1, 1), 'XOXX   OO': (2, 0), 'XOXX  O  ': (1, 1), 'XOXX  O O': (2, 1), 'XOXX  OXO': (1, 1), 'XOXX  OO ': (1, 1), 'XOXX  OOX': (1, 1), 'XOXX X OO': (1, 1), 'XOXX XO O': (1, 1), 'XOXX XOO ': (1, 1), 'XOXX O   ': (2, 0), 'XOXX O  O': (2, 0), 'XOXX O XO': (2, 0), 'XOXX O O ': (1, 1), 'XOXX O OX': (1, 1), 'XOXX OO  ': (1, 1), 'XOXX OO X': (1, 1), 'XOXX OOX ': (1, 1), 'XOXX OOXO': (1, 1), 'XOXX OOOX': (1, 1), 'XOXXX  OO': (2, 0), 'XOXXX O O': (2, 1), 'XOXXX OO ': (2, 2), 'XOXXXO  O': (2, 0), 'XOXXXO O ': (2, 0), 'XOXXXO OO': (2, 0), 'XOXXXOO  ': (2, 2), 'XOXXXOO O': (2, 1), 'XOXXXOOO ': (2, 2), 'XOXXO    ': (2, 0), 'XOXXO   O': (2, 0), 'XOXXO  XO': (2, 0), 'XOXXO O  ': (2, 1), 'XOXXO O X': (2, 1), 'XOXXO OX ': (2, 2), 'XOXXO OXO': (1, 2), 'XOXXOX  O': (2, 0), 'XOXXOXO  ': (2, 1), 'XOXXOXO O': (2, 1), 'XOXXOO   ': (2, 0), 'XOXXOO  X': (2, 0), 'XOXXOO X ': (2, 0), 'XOXXOO XO': (2, 0), 'XOXXOOO X': (2, 1), 'XOXXOOOX ': (2, 2), 'XOXO     ': (1, 1), 'XOXO    X': (1, 1), 'XOXO   X ': (1, 1), 'XOXO   XO': (1, 1), 'XOXO   OX': (1, 1), 'XOXO  X  ': (1, 1), 'XOXO  X O': (1, 1), 'XOXO  XXO': (1, 1), 'XOXO  XO ': (1, 1), 'XOXO  XOX': (1, 1), 'XOXO  O X': (1, 1), 'XOXO  OX ': (1, 1), 'XOXO  OXX': (1, 1), 'XOXO X   ': (2, 2), 'XOXO X  O': (1, 1), 'XOXO X XO': (1, 1), 'XOXO X O ': (1, 1), 'XOXO XX O': (1, 1), 'XOXO XXO ': (1, 1), 'XOXO XXOO': (1, 1), 'XOXO XO  ': (2, 2), 'XOXO XOX ': (2, 2), 'XOXO XOXO': (1, 1), 'XOXO O  X': (1, 1), 'XOXO O X ': (1, 1), 'XOXO O XX': (1, 1), 'XOXO OX  ': (1, 1), 'XOXO OX X': (1, 1), 'XOXO OXX ': (1, 1), 'XOXO OXXO': (1, 1), 'XOXO OXOX': (1, 1), 'XOXO OOXX': (1, 1), 'XOXOX    ': (2, 0), 'XOXOX   O': (2, 0), 'XOXOX  XO': (2, 0), 'XOXOX  O ': (2, 0), 'XOXOX O  ': (2, 2), 'XOXOX OX ': (2, 2), 'XOXOX OXO': (1, 2), 'XOXOXX  O': (2, 0), 'XOXOXX O ': (2, 0), 'XOXOXX OO': (2, 0), 'XOXOXXO  ': (2, 2), 'XOXOXXO O': (2, 1), 'XOXOXXOO ': (2, 2), 'XOXOXO   ': (2, 0), 'XOXOXO X ': (2, 0), 'XOXOXO XO': (2, 0), 'XOXOXOOX ': (2, 2), 'XOXOO   X': (1, 2), 'XOXOO  X ': (1, 2), 'XOXOO  XX': (1, 2), 'XOXOO X  ': (1, 2), 'XOXOO X X': (1, 2), 'XOXOO XX ': (1, 2), 'XOXOO XXO': (1, 2), 'XOXOO OXX': (1, 2), 'XOXOOX   ': (2, 2), 'XOXOOX X ': (2, 2), 'XOXOOX XO': (2, 0), 'XOXOOXX  ': (2, 1), 'XOXOOXX O': (2, 1), 'XOXOOXOX ': (2, 2), 'XOO     X': (1, 1), 'XOO    X ': (1, 1), 'XOO    XX': (1, 1), 'XOO   X  ': (1, 0), 'XOO   X X': (1, 1), 'XOO   XX ': (2, 2), 'XOO   XXO': (1, 0), 'XOO   XOX': (1, 1), 'XOO   OXX': (1, 1), 'XOO  X   ': (1, 1), 'XOO  X  X': (1, 1), 'XOO  X X ': (1, 1), 'XOO  X XO': (1, 1), 'XOO  X OX': (1, 1), 'XOO  XX  ': (1, 0), 'XOO  XX O': (1, 0), 'XOO  XXXO': (1, 0), 'XOO  XXO ': (1, 1), 'XOO  XXOX': (1, 1), 'XOO  XO X': (1, 1), 'XOO  XOX ': (1, 1), 'XOO  XOXX': (1, 1), 'XOO  O XX': (1, 1), 'XOO  OX X': (1, 1), 'XOO  OXX ': (2, 2), 'XOO X    ': (2, 2), 'XOO X  X ': (2, 2), 'XOO X  XO': (1, 2), 'XOO X X  ': (2, 2), 'XOO X X O': (1, 0), 'XOO X XXO': (1, 2), 'XOO X XO ': (2, 2), 'XOO X OX ': (2, 2), 'XOO XX   ': (2, 2), 'XOO XX  O': (1, 0), 'XOO XX XO': (1, 0), 'XOO XX O ': (2, 2), 'XOO XXX O': (1, 0), 'XOO XXXO ': (2, 2), 'XOO XXXOO': (1, 0), 'XOO XXO  ': (2, 2), 'XOO XXOX ': (2, 2), 'XOO XXOXO': (1, 0), 'XOO XO X ': (2, 2), 'XOO XOX  ': (2, 2), 'XOO XOXX ': (2, 2), 'XOO O  XX': (2, 0), 'XOO O X X': (2, 1), 'XOO O XX ': (2, 2), 'XOO OX  X': (2, 0), 'XOO OX X ': (2, 0), 'XOO OX XX': (2, 0), 'XOO OXX  ': (1, 0), 'XOO OXX X': (2, 1), 'XOO OXXX ': (2, 2), 'XOO OXXXO': (1, 0), 'XOOX     ': (2, 0), 'XOOX    X': (1, 1), 'XOOX   X ': (2, 0), 'XOOX   XO': (2, 0), 'XOOX   OX': (1, 1), 'XOOX  O X': (1, 1), 'XOOX  OX ': (1, 1), 'XOOX  OXX': (1, 1), 'XOOX X   ': (1, 1), 'XOOX X  O': (1, 1), 'XOOX X XO': (1, 1), 'XOOX X O ': (1, 1), 'XOOX X OX': (1, 1), 'XOOX XO  ': (1, 1), 'XOOX XO X': (1, 1), 'XOOX XOX ': (1, 1), 'XOOX XOXO': (1, 1), 'XOOX XOOX': (1, 1), 'XOOX O  X': (1, 1), 'XOOX O X ': (2, 0), 'XOOX O XX': (1, 1), 'XOOX OOXX': (1, 1), 'XOOXX    ': (2, 0), 'XOOXX   O': (1, 2), 'XOOXX  XO': (1, 2), 'XOOXX  O ': (2, 0), 'XOOXX O  ': (2, 2), 'XOOXX OX ': (2, 2), 'XOOXX OXO': (1, 2), 'XOOXXO   ': (2, 2), 'XOOXXO X ': (2, 2), 'XOOXXOOX ': (2, 2), 'XOOXO   X': (2, 0), 'XOOXO  X ': (2, 0), 'XOOXO  XX': (2, 0), 'XOOXOX   ': (2, 0), 'XOOXOX  X': (2, 0), 'XOOXOX X ': (2, 0), 'XOOXOX XO': (2, 0), 'XOOXOO XX': (2, 0), 'XOOO   XX': (1, 1), 'XOOO  X X': (1, 1), 'XOOO  XX ': (2, 2), 'XOOO X  X': (1, 1), 'XOOO X X ': (1, 1), 'XOOO X XX': (1, 1), 'XOOO XX  ': (1, 1), 'XOOO XX X': (1, 1), 'XOOO XXX ': (2, 2), 'XOOO XXXO': (1, 1), 'XOOO XXOX': (1, 1), 'XOOO XOXX': (1, 1), 'XOOOX  X ': (2, 2), 'XOOOX X  ': (2, 2), 'XOOOX XX ': (2, 2), 'XOOOX XXO': (1, 2), 'XOOOXX   ': (2, 2), 'XOOOXX X ': (2, 2), 'XOOOXX XO': (2, 0), 'XOOOXXX  ': (2, 2), 'XOOOXXX O': (2, 1), 'XOOOXXXO ': (2, 2), 'XOOOXXOX ': (2, 2), 'XOOOXOXX ': (2, 2), 'XOOOOX XX': (2, 0), 'XOOOOXX X': (2, 1), 'XOOOOXXX ': (2, 2), 'O       X': (1, 1), 'O      X ': (1, 1), 'O      XX': (2, 0), 'O     X  ': (1, 1), 'O     X X': (2, 1), 'O     XX ': (2, 2), 'O     XXO': (1, 1), 'O     XOX': (1, 1), 'O     OXX': (1, 0), 'O    X   ': (1, 1), 'O    X  X': (0, 2), 'O    X X ': (1, 1), 'O    X XO': (1, 1), 'O    X OX': (0, 2), 'O    XX  ': (1, 1), 'O    XX O': (1, 1), 'O    XXXO': (1, 1), 'O    XXO ': (1, 1), 'O    XXOX': (0, 2), 'O    XO X': (0, 2), 'O    XOX ': (1, 0), 'O    XOXX': (0, 2), 'O    O XX': (2, 0), 'O    OX X': (2, 1), 'O    OXX ': (2, 2), 'O   X    ': (0, 2), 'O   X   X': (0, 2), 'O   X  X ': (0, 1), 'O   X  XO': (0, 1), 'O   X  OX': (0, 2), 'O   X X  ': (0, 2), 'O   X X O': (0, 2), 'O   X XXO': (0, 2), 'O   X XO ': (0, 2), 'O   X XOX': (0, 2), 'O   X O X': (1, 0), 'O   X OX ': (0, 1), 'O   X OXX': (1, 0), 'O   XX   ': (1, 0), 'O   XX  O': (1, 0), 'O   XX XO': (0, 1), 'O   XX O ': (1, 0), 'O   XX OX': (0, 2), 'O   XXX O': (0, 2), 'O   XXXO ': (0, 2), 'O   XXXOO': (0, 2), 'O   XXO  ': (1, 0), 'O   XXO X': (1, 0), 'O   XXOX ': (1, 0), 'O   XXOXO': (1, 0), 'O   XXOOX': (1, 0), 'O   XO  X': (0, 2), 'O   XO X ': (0, 1), 'O   XO XX': (2, 0), 'O   XOX  ': (0, 2), 'O   XOX X': (0, 2), 'O   XOXX ': (0, 2), 'O   XOXXO': (0, 2), 'O   XOXOX': (0, 2), 'O   XOOXX': (0, 1), 'O   O  XX': (2, 0), 'O   O X X': (2, 1), 'O   O XX ': (2, 2), 'O   OX  X': (0, 2), 'O   OX X ': (2, 2), 'O   OX XX': (0, 2), 'O   OXX  ': (2, 2), 'O   OXX X': (0, 2), 'O   OXXX ': (2, 2), 'O   OXXOX': (0, 2), 'O   OXOXX': (0, 2), 'O  X     ': (1, 1), 'O  X    X': (1, 1), 'O  X   X ': (1, 1), 'O  X   XO': (1, 1), 'O  X   OX': (1, 1), 'O  X  X  ': (1, 1), 'O  X  X O': (1, 1), 'O  X  XXO': (1, 1), 'O  X  XO ': (1, 1), 'O  X  XOX': (1, 1), 'O  X  O X': (1, 1), 'O  X  OX ': (1, 1), 'O  X  OXX': (1, 1), 'O  X X   ': (1, 1), 'O  X X  O': (1, 1), 'O  X X XO': (1, 1), 'O  X X O ': (1, 1), 'O  X X OX': (1, 1), 'O  X XX O': (1, 1), 'O  X XXO ': (1, 1), 'O  X XXOO': (1, 1), 'O  X XO  ': (1, 1), 'O  X XO X': (1, 1), 'O  X XOX ': (1, 1), 'O  X XOXO': (1, 1), 'O  X XOOX': (1, 1), 'O  X O  X': (1, 1), 'O  X O X ': (1, 1), 'O  X O XX': (2, 0), 'O  X OX  ': (1, 1), 'O  X OX X': (2, 1), 'O  X OXX ': (2, 2), 'O  X OXXO': (1, 1), 'O  X OXOX': (1, 1), 'O  X OOXX': (1, 1), 'O  XX    ': (1, 2), 'O  XX   O': (1, 2), 'O  XX  XO': (0, 1), 'O  XX  O ': (1, 2), 'O  XX  OX': (1, 2), 'O  XX X O': (0, 2), 'O  XX XO ': (0, 2), 'O  XX XOO': (0, 2), 'O  XX O  ': (1, 2), 'O  XX O X': (1, 2), 'O  XX OX ': (0, 1), 'O  XX OXO': (0, 1), 'O  XX OOX': (1, 2), 'O  XXO   ': (0, 2), 'O  XXO  X': (0, 2), 'O  XXO X ': (0, 1), 'O  XXO XO': (0, 1), 'O  XXO OX': (0, 2), 'O  XXOX  ': (0, 2), 'O  XXOX O': (0, 2), 'O  XXOXXO': (0, 2), 'O  XXOXO ': (0, 2), 'O  XXOXOX': (0, 2), 'O  XXOO X': (0, 2), 'O  XXOOX ': (0, 1), 'O  XXOOXX': (0, 1), 'O  XO   X': (0, 2), 'O  XO  X ': (2, 2), 'O  XO  XX': (2, 0), 'O  XO X  ': (2, 2), 'O  XO X X': (2, 1), 'O  XO XX ': (2, 2), 'O  XO XOX': (0, 1), 'O  XO OXX': (0, 2), 'O  XOX   ': (2, 2), 'O  XOX  X': (0, 2), 'O  XOX X ': (2, 2), 'O  XOX OX': (0, 2), 'O  XOXX  ': (2, 2), 'O  XOXXO ': (2, 2), 'O  XOXXOX': (0, 1), 'O  XOXO X': (0, 2), 'O  XOXOX ': (0, 2), 'O  XOXOXX': (0, 2), 'O  XOO XX': (2, 0), 'O  XOOX X': (2, 1), 'O  XOOXX ': (2, 2), 'O  O   XX': (2, 0), 'O  O  X X': (2, 1), 'O  O  XX ': (2, 2), 'O  O X  X': (0, 2), 'O  O X X ': (2, 0), 'O  O X XX': (2, 0), 'O  O XX  ': (1, 1), 'O  O XX X': (0, 2), 'O  O XXX ': (2, 2), 'O  O XXXO': (1, 1), 'O  O XXOX': (0, 2), 'O  OX   X': (2, 0), 'O  OX  X ': (0, 1), 'O  OX  XX': (2, 0), 'O  OX X  ': (0, 2), 'O  OX X X': (0, 2), 'O  OX XX ': (0, 2), 'O  OX XXO': (0, 2), 'O  OX XOX': (0, 2), 'O  OXX   ': (2, 0), 'O  OXX  X': (2, 0), 'O  OXX X ': (2, 0), 'O  OXX XO': (0, 1), 'O  OXX OX': (0, 2), 'O  OXXX  ': (0, 2), 'O  OXXX O': (0, 2), 'O  OXXXXO': (0, 2), 'O  OXXXO ': (0, 2), 'O  OXXXOX': (0, 2), 'O  OXO XX': (2, 0), 'O  OXOX X': (0, 2), 'O  OXOXX ': (0, 2), 'O  OOX XX': (2, 0), 'O  OOXX X': (0, 2), 'O  OOXXX ': (2, 2), 'O X      ': (1, 1), 'O X     X': (1, 2), 'O X    X ': (1, 1), 'O X    XO': (1, 1), 'O X    OX': (1, 2), 'O X   X  ': (1, 1), 'O X   X O': (1, 1), 'O X   XXO': (1, 1), 'O X   XO ': (1, 1), 'O X   XOX': (1, 1), 'O X   O X': (1, 2), 'O X   OX ': (1, 0), 'O X   OXX': (1, 0), 'O X  X   ': (2, 2), 'O X  X  O': (1, 1), 'O X  X XO': (1, 1), 'O X  X O ': (2, 2), 'O X  XX O': (1, 1), 'O X  XXO ': (1, 1), 'O X  XXOO': (1, 1), 'O X  XO  ': (2, 2), 'O X  XOX ': (1, 0), 'O X  XOXO': (1, 1), 'O X  O  X': (1, 1), 'O X  O X ': (1, 1), 'O X  O XX': (2, 0), 'O X  OX  ': (1, 1), 'O X  OX X': (1, 1), 'O X  OXX ': (1, 1), 'O X  OXXO': (1, 1), 'O X  OXOX': (1, 1), 'O X  OOXX': (1, 0), 'O X X    ': (2, 0), 'O X X   O': (2, 0), 'O X X  XO': (2, 0), 'O X X  O ': (2, 0), 'O X X  OX': (2, 0), 'O X X O  ': (1, 0), 'O X X O X': (1, 0), 'O X X OX ': (1, 0), 'O X X OXO': (0, 1), 'O X X OOX': (1, 2), 'O X XX  O': (2, 0), 'O X XX O ': (2, 0), 'O X XX OO': (2, 0), 'O X XXO  ': (1, 0), 'O X XXO O': (1, 0), 'O X XXOXO': (1, 0), 'O X XXOO ': (2, 2), 'O X XO   ': (2, 0), 'O X XO  X': (2, 0), 'O X XO X ': (2, 0), 'O X XO XO': (2, 0), 'O X XO OX': (2, 0), 'O X XOO X': (1, 0), 'O X XOOX ': (0, 1), 'O X XOOXX': (1, 0), 'O X O   X': (1, 2), 'O X O  X ': (2, 2), 'O X O  XX': (2, 0), 'O X O X  ': (2, 2), 'O X O X X': (1, 2), 'O X O XX ': (2, 2), 'O X O XOX': (1, 2), 'O X O OXX': (1, 2), 'O X OX   ': (2, 2), 'O X OX X ': (2, 2), 'O X OXX  ': (2, 2), 'O X OXXO ': (2, 2), 'O X OXOX ': (2, 2), 'O X OO XX': (2, 0), 'O X OOX X': (2, 1), 'O X OOXX ': (2, 2), 'O XX     ': (1, 1), 'O XX    O': (1, 1), 'O XX   XO': (1, 1), 'O XX   O ': (1, 1), 'O XX   OX': (1, 2), 'O XX  X O': (1, 1), 'O XX  XO ': (1, 1), 'O XX  XOO': (1, 1), 'O XX  O  ': (1, 1), 'O XX  O X': (1, 2), 'O XX  OX ': (1, 1), 'O XX  OXO': (1, 1), 'O XX  OOX': (1, 2), 'O XX X  O': (1, 1), 'O XX X O ': (1, 1), 'O XX X OO': (1, 1), 'O XX XXOO': (1, 1), 'O XX XO  ': (1, 1), 'O XX XO O': (1, 1), 'O XX XOXO': (1, 1), 'O XX XOO ': (2, 2), 'O XX O   ': (1, 1), 'O XX O  X': (1, 1), 'O XX O X ': (1, 1), 'O XX O XO': (1, 1), 'O XX O OX': (1, 1), 'O XX OX  ': (1, 1), 'O XX OX O': (1, 1), 'O XX OXXO': (1, 1), 'O XX OXO ': (1, 1), 'O XX OXOX': (1, 1), 'O XX OO X': (1, 1), 'O XX OOX ': (1, 1), 'O XX OOXX': (1, 1), 'O XXX   O': (2, 0), 'O XXX  O ': (2, 0), 'O XXX  OO': (2, 0), 'O XXX O  ': (1, 2), 'O XXX O O': (1, 2), 'O XXX OXO': (0, 1), 'O XXX OO ': (1, 2), 'O XXX OOX': (1, 2), 'O XXXO   ': (2, 0), 'O XXXO  O': (2, 0), 'O XXXO XO': (2, 0), 'O XXXO O ': (2, 0), 'O XXXO OX': (2, 0), 'O XXXOO  ': (2, 2), 'O XXXOO X': (0, 1), 'O XXXOOX ': (0, 1), 'O XXXOOXO': (0, 1), 'O XXXOOOX': (0, 1), 'O XXO    ': (2, 2), 'O XXO   X': (1, 2), 'O XXO  X ': (2, 2), 'O XXO  OX': (1, 2), 'O XXO X  ': (2, 2), 'O XXO XO ': (2, 2), 'O XXO XOX': (0, 1), 'O XXO O X': (1, 2), 'O XXO OX ': (2, 2), 'O XXO OXX': (1, 2), 'O XXOX   ': (2, 2), 'O XXOX O ': (2, 2), 'O XXOXXO ': (2, 2), 'O XXOXO  ': (2, 2), 'O XXOXOX ': (2, 2), 'O XXOO  X': (2, 0), 'O XXOO X ': (2, 2), 'O XXOO XX': (2, 0), 'O XXOOX  ': (2, 2), 'O XXOOX X': (2, 1), 'O XXOOXX ': (2, 2), 'O XXOOXOX': (0, 1), 'O XXOOOXX': (0, 1), 'O XO    X': (1, 2), 'O XO   X ': (2, 0), 'O XO   XX': (2, 0), 'O XO  X  ': (1, 1), 'O XO  X X': (1, 1), 'O XO  XX ': (1, 1), 'O XO  XXO': (1, 1), 'O XO  XOX': (1, 1), 'O XO X   ': (2, 2), 'O XO X X ': (2, 0), 'O XO X XO': (1, 1), 'O XO XX  ': (1, 1), 'O XO XX O': (1, 1), 'O XO XXXO': (1, 1), 'O XO XXO ': (1, 1), 'O XO O XX': (2, 0), 'O XO OX X': (1, 1), 'O XO OXX ': (1, 1), 'O XOX    ': (2, 0), 'O XOX   X': (2, 0), 'O XOX  X ': (2, 0), 'O XOX  XO': (2, 0), 'O XOX  OX': (2, 0), 'O XOXX   ': (2, 0), 'O XOXX  O': (2, 0), 'O XOXX XO': (2, 0), 'O XOXX O ': (2, 0), 'O XOXO  X': (2, 0), 'O XOXO X ': (2, 0), 'O XOXO XX': (2, 0), 'O XOO  XX': (2, 0), 'O XOO X X': (1, 2), 'O XOO XX ': (2, 2), 'O XOOX X ': (2, 2), 'O XOOXX  ': (2, 2), 'O XOOXXX ': (2, 2), 'O O    XX': (2, 0), 'O O   X X': (2, 1), 'O O   XX ': (2, 2), 'O O  X  X': (0, 1), 'O O  X X ': (0, 1), 'O O  X XX': (0, 1), 'O O  XX  ': (0, 1), 'O O  XX X': (0, 1), 'O O  XXX ': (0, 1), 'O O  XXXO': (1, 1), 'O O  XXOX': (0, 1), 'O O  XOXX': (1, 1), 'O O X   X': (0, 1), 'O O X  X ': (0, 1), 'O O X  XX': (0, 1), 'O O X X  ': (0, 1), 'O O X X X': (0, 1), 'O O X XX ': (0, 1), 'O O X XXO': (0, 1), 'O O X XOX': (0, 1), 'O O X OXX': (0, 1), 'O O XX   ': (1, 0), 'O O XX  X': (0, 1), 'O O XX X ': (0, 1), 'O O XX XO': (0, 1), 'O O XX OX': (1, 0), 'O O XXX  ': (0, 1), 'O O XXX O': (1, 0), 'O O XXXXO': (0, 1), 'O O XXXO ': (1, 0), 'O O XXXOX': (0, 1), 'O O XXO X': (1, 0), 'O O XXOX ': (0, 1), 'O O XXOXX': (0, 1), 'O O XO XX': (0, 1), 'O O XOX X': (2, 1), 'O O XOXX ': (2, 2), 'O O OX XX': (2, 0), 'O O OXX X': (2, 1), 'O O OXXX ': (2, 2), 'O OX    X': (0, 1), 'O OX   X ': (0, 1), 'O OX   XX': (0, 1), 'O OX  X  ': (0, 1), 'O OX  X X': (0, 1), 'O OX  XX ': (0, 1), 'O OX  XXO': (1, 1), 'O OX  XOX': (0, 1), 'O OX  OXX': (1, 1), 'O OX X   ': (1, 1), 'O OX X  X': (1, 1), 'O OX X X ': (1, 1), 'O OX X XO': (1, 1), 'O OX X OX': (1, 1), 'O OX XX  ': (1, 1), 'O OX XX O': (1, 1), 'O OX XXXO': (1, 1), 'O OX XXO ': (1, 1), 'O OX XXOX': (1, 1), 'O OX XO X': (1, 1), 'O OX XOX ': (1, 1), 'O OX XOXX': (1, 1), 'O OX O XX': (2, 0), 'O OX OX X': (2, 1), 'O OX OXX ': (2, 2), 'O OXX    ': (1, 2), 'O OXX   X': (0, 1), 'O OXX  X ': (0, 1), 'O OXX  XO': (0, 1), 'O OXX  OX': (1, 2), 'O OXX X  ': (0, 1), 'O OXX X O': (1, 2), 'O OXX XXO': (0, 1), 'O OXX XO ': (1, 2), 'O OXX XOX': (0, 1), 'O OXX O X': (1, 2), 'O OXX OX ': (0, 1), 'O OXX OXX': (0, 1), 'O OXXO  X': (0, 1), 'O OXXO X ': (0, 1), 'O OXXO XX': (0, 1), 'O OXXOX  ': (2, 2), 'O OXXOX X': (0, 1), 'O OXXOXX ': (2, 2), 'O OXXOXOX': (0, 1), 'O OXXOOXX': (0, 1), 'O OXO  XX': (2, 0), 'O OXO X X': (2, 1), 'O OXO XX ': (2, 2), 'O OXOX  X': (2, 0), 'O OXOX X ': (2, 0), 'O OXOX XX': (2, 0), 'O OXOXX  ': (2, 2), 'O OXOXX X': (0, 1), 'O OXOXXX ': (2, 2), 'O OXOXXOX': (0, 1), 'O OO X XX': (2, 0), 'O OO XX X': (2, 1), 'O OO XXX ': (2, 2), 'O OOX  XX': (2, 0), 'O OOX X X': (2, 1), 'O OOX XX ': (0, 1), 'O OOXX  X': (2, 0), 'O OOXX X ': (0, 1), 'O OOXX XX': (2, 0), 'O OOXXX  ': (0, 1), 'O OOXXX X': (0, 1), 'O OOXXXX ': (0, 1), 'O OOXXXXO': (0, 1), 'O OOXXXOX': (0, 1), 'OX       ': (1, 1), 'OX      X': (1, 1), 'OX     X ': (1, 1), 'OX     XO': (1, 1), 'OX     OX': (1, 1), 'OX    X  ': (1, 1), 'OX    X O': (1, 1), 'OX    XXO': (1, 1), 'OX    XO ': (1, 1), 'OX    XOX': (1, 1), 'OX    O X': (1, 0), 'OX    OX ': (1, 1), 'OX    OXX': (1, 1), 'OX   X   ': (1, 1), 'OX   X  O': (1, 1), 'OX   X XO': (1, 1), 'OX   X O ': (1, 1), 'OX   X OX': (0, 2), 'OX   XX O': (1, 1), 'OX   XXO ': (1, 1), 'OX   XXOO': (1, 1), 'OX   XO  ': (1, 0), 'OX   XO X': (0, 2), 'OX   XOX ': (1, 1), 'OX   XOXO': (1, 1), 'OX   XOOX': (0, 2), 'OX   O  X': (1, 1), 'OX   O X ': (1, 1), 'OX   O XX': (1, 1), 'OX   OX  ': (1, 1), 'OX   OX X': (2, 1), 'OX   OXX ': (1, 1), 'OX   OXXO': (1, 1), 'OX   OXOX': (1, 1), 'OX   OOXX': (1, 1), 'OX  X    ': (2, 1), 'OX  X   O': (2, 1), 'OX  X  O ': (0, 2), 'OX  X  OX': (0, 2), 'OX  X X O': (0, 2), 'OX  X XO ': (0, 2), 'OX  X XOO': (0, 2), 'OX  X O  ': (2, 1), 'OX  X O X': (1, 0), 'OX  X OOX': (1, 0), 'OX  XX  O': (1, 0), 'OX  XX O ': (1, 0), 'OX  XX OO': (1, 0), 'OX  XXXOO': (0, 2), 'OX  XXO  ': (1, 0), 'OX  XXO O': (1, 0), 'OX  XXOO ': (1, 0), 'OX  XXOOX': (1, 0), 'OX  XO   ': (2, 1), 'OX  XO  X': (2, 1), 'OX  XO OX': (0, 2), 'OX  XOX  ': (0, 2), 'OX  XOX O': (0, 2), 'OX  XOXO ': (0, 2), 'OX  XOXOX': (0, 2), 'OX  XOO X': (2, 1), 'OX  O   X': (0, 2), 'OX  O  X ': (2, 2), 'OX  O  XX': (2, 0), 'OX  O X  ': (2, 2), 'OX  O X X': (2, 1), 'OX  O XX ': (2, 2), 'OX  O XOX': (0, 2), 'OX  O OXX': (0, 2), 'OX  OX   ': (2, 2), 'OX  OX  X': (0, 2), 'OX  OX X ': (2, 2), 'OX  OX OX': (0, 2), 'OX  OXX  ': (2, 2), 'OX  OXXO ': (2, 2), 'OX  OXXOX': (0, 2), 'OX  OXO X': (0, 2), 'OX  OXOX ': (0, 2), 'OX  OXOXX': (0, 2), 'OX  OO XX': (2, 0), 'OX  OOX X': (2, 1), 'OX  OOXX ': (2, 2), 'OX X     ': (1, 1), 'OX X    O': (1, 1), 'OX X   XO': (1, 1), 'OX X   O ': (1, 1), 'OX X   OX': (1, 1), 'OX X  X O': (1, 1), 'OX X  XO ': (1, 1), 'OX X  XOO': (1, 1), 'OX X  O  ': (1, 1), 'OX X  O X': (1, 1), 'OX X  OX ': (1, 1), 'OX X  OXO': (1, 1), 'OX X  OOX': (1, 1), 'OX X X  O': (1, 1), 'OX X X O ': (1, 1), 'OX X X OO': (1, 1), 'OX X XXOO': (1, 1), 'OX X XO  ': (1, 1), 'OX X XO O': (1, 1), 'OX X XOXO': (1, 1), 'OX X XOO ': (1, 1), 'OX X XOOX': (1, 1), 'OX X O   ': (1, 1), 'OX X O  X': (1, 1), 'OX X O X ': (1, 1), 'OX X O XO': (1, 1), 'OX X O OX': (1, 1), 'OX X OX  ': (1, 1), 'OX X OX O': (1, 1), 'OX X OXXO': (1, 1), 'OX X OXO ': (1, 1), 'OX X OXOX': (1, 1), 'OX X OO X': (1, 1), 'OX X OOX ': (1, 1), 'OX X OOXX': (1, 1), 'OX XX   O': (1, 2), 'OX XX  O ': (1, 2), 'OX XX  OO': (1, 2), 'OX XX XOO': (0, 2), 'OX XX O  ': (1, 2), 'OX XX O O': (2, 1), 'OX XX OO ': (1, 2), 'OX XX OOX': (1, 2), 'OX XXO   ': (2, 1), 'OX XXO  O': (0, 2), 'OX XXO O ': (0, 2), 'OX XXO OX': (0, 2), 'OX XXOX O': (0, 2), 'OX XXOXO ': (0, 2), 'OX XXOXOO': (0, 2), 'OX XXOO  ': (2, 1), 'OX XXOO X': (2, 1), 'OX XXOOOX': (0, 2), 'OX XO    ': (2, 2), 'OX XO   X': (0, 2), 'OX XO  X ': (2, 2), 'OX XO  OX': (0, 2), 'OX XO X  ': (2, 2), 'OX XO XO ': (2, 2), 'OX XO XOX': (0, 2), 'OX XO O X': (0, 2), 'OX XO OX ': (0, 2), 'OX XO OXX': (0, 2), 'OX XOX   ': (2, 2), 'OX XOX O ': (2, 2), 'OX XOX OX': (0, 2), 'OX XOXXO ': (2, 2), 'OX XOXO  ': (0, 2), 'OX XOXO X': (0, 2), 'OX XOXOX ': (0, 2), 'OX XOXOOX': (0, 2), 'OX XOO  X': (0, 2), 'OX XOO X ': (2, 2), 'OX XOO XX': (2, 0), 'OX XOOX  ': (2, 2), 'OX XOOX X': (2, 1), 'OX XOOXX ': (2, 2), 'OX XOOXOX': (0, 2), 'OX XOOOXX': (0, 2), 'OX O    X': (2, 0), 'OX O   X ': (1, 1), 'OX O   XX': (2, 0), 'OX O  X  ': (1, 1), 'OX O  X X': (2, 1), 'OX O  XX ': (1, 1), 'OX O  XXO': (1, 1), 'OX O  XOX': (1, 1), 'OX O X   ': (2, 0), 'OX O X  X': (2, 0), 'OX O X X ': (1, 1), 'OX O X XO': (1, 1), 'OX O X OX': (0, 2), 'OX O XX  ': (1, 1), 'OX O XX O': (1, 1), 'OX O XXXO': (1, 1), 'OX O XXO ': (1, 1), 'OX O XXOX': (0, 2), 'OX O O XX': (1, 1), 'OX O OX X': (1, 1), 'OX O OXX ': (1, 1), 'OX OX    ': (2, 0), 'OX OX   X': (2, 0), 'OX OX  OX': (2, 0), 'OX OX X  ': (0, 2), 'OX OX X O': (0, 2), 'OX OX XO ': (0, 2), 'OX OX XOX': (0, 2), 'OX OXX   ': (2, 0), 'OX OXX  O': (2, 0), 'OX OXX O ': (2, 0), 'OX OXX OX': (2, 0), 'OX OXXX O': (0, 2), 'OX OXXXO ': (0, 2), 'OX OXXXOO': (0, 2), 'OX OXO  X': (2, 0), 'OX OXOX  ': (0, 2), 'OX OXOX X': (0, 2), 'OX OXOXOX': (0, 2), 'OX OO  XX': (2, 0), 'OX OO X X': (2, 1), 'OX OO XX ': (2, 2), 'OX OOX  X': (0, 2), 'OX OOX X ': (2, 0), 'OX OOX XX': (2, 0), 'OX OOXX  ': (2, 2), 'OX OOXX X': (0, 2), 'OX OOXXX ': (2, 2), 'OX OOXXOX': (0, 2), 'OXX      ': (1, 1), 'OXX     O': (1, 1), 'OXX    XO': (1, 1), 'OXX    O ': (1, 1), 'OXX    OX': (1, 2), 'OXX   X O': (1, 1), 'OXX   XO ': (1, 1), 'OXX   XOO': (1, 1), 'OXX   O  ': (1, 0), 'OXX   O X': (1, 0), 'OXX   OX ': (1, 1), 'OXX   OXO': (1, 1), 'OXX   OOX': (1, 2), 'OXX  X  O': (1, 1), 'OXX  X O ': (2, 2), 'OXX  X OO': (1, 1), 'OXX  XXOO': (1, 1), 'OXX  XO  ': (1, 0), 'OXX  XO O': (1, 1), 'OXX  XOXO': (1, 1), 'OXX  XOO ': (2, 2), 'OXX  O   ': (1, 1), 'OXX  O  X': (1, 1), 'OXX  O X ': (1, 1), 'OXX  O XO': (1, 1), 'OXX  O OX': (1, 1), 'OXX  OX  ': (1, 1), 'OXX  OX O': (1, 1), 'OXX  OXXO': (1, 1), 'OXX  OXO ': (1, 1), 'OXX  OXOX': (1, 1), 'OXX  OO X': (1, 0), 'OXX  OOX ': (1, 1), 'OXX  OOXX': (1, 1), 'OXX X   O': (2, 0), 'OXX X  O ': (2, 0), 'OXX X  OO': (2, 0), 'OXX X O  ': (1, 0), 'OXX X O O': (2, 1), 'OXX X OO ': (2, 2), 'OXX X OOX': (1, 0), 'OXX XX OO': (2, 0), 'OXX XXO O': (1, 0), 'OXX XXOO ': (2, 2), 'OXX XO   ': (2, 0), 'OXX XO  O': (2, 0), 'OXX XO O ': (2, 0), 'OXX XO OX': (2, 0), 'OXX XOO  ': (2, 1), 'OXX XOO X': (1, 0), 'OXX XOOOX': (1, 0), 'OXX O    ': (2, 2), 'OXX O   X': (1, 2), 'OXX O  X ': (2, 2), 'OXX O  OX': (1, 2), 'OXX O X  ': (2, 2), 'OXX O XO ': (2, 2), 'OXX O XOX': (1, 2), 'OXX O O X': (1, 2), 'OXX O OX ': (2, 2), 'OXX O OXX': (1, 0), 'OXX OX   ': (2, 2), 'OXX OX O ': (2, 2), 'OXX OXXO ': (2, 2), 'OXX OXO  ': (2, 2), 'OXX OXOX ': (2, 2), 'OXX OO  X': (1, 0), 'OXX OO X ': (2, 2), 'OXX OO XX': (1, 0), 'OXX OOX  ': (2, 2), 'OXX OOX X': (1, 0), 'OXX OOXX ': (2, 2), 'OXX OOXOX': (1, 0), 'OXX OOOXX': (1, 0), 'OXXX    O': (1, 1), 'OXXX   O ': (1, 1), 'OXXX   OO': (1, 1), 'OXXX  XOO': (1, 1), 'OXXX  O  ': (1, 1), 'OXXX  O O': (1, 1), 'OXXX  OXO': (1, 1), 'OXXX  OO ': (2, 2), 'OXXX  OOX': (1, 2), 'OXXX X OO': (1, 1), 'OXXX XO O': (1, 1), 'OXXX XOO ': (2, 2), 'OXXX O   ': (1, 1), 'OXXX O  O': (1, 1), 'OXXX O XO': (1, 1), 'OXXX O O ': (1, 1), 'OXXX O OX': (1, 1), 'OXXX OX O': (1, 1), 'OXXX OXO ': (1, 1), 'OXXX OXOO': (1, 1), 'OXXX OO  ': (1, 1), 'OXXX OO X': (1, 1), 'OXXX OOX ': (1, 1), 'OXXX OOXO': (1, 1), 'OXXX OOOX': (1, 1), 'OXXXX  OO': (2, 0), 'OXXXX O O': (2, 1), 'OXXXX OO ': (2, 2), 'OXXXXO  O': (2, 0), 'OXXXXO O ': (2, 0), 'OXXXXO OO': (2, 0), 'OXXXXOO  ': (2, 1), 'OXXXXOO O': (2, 1), 'OXXXXOOO ': (2, 2), 'OXXXO    ': (2, 2), 'OXXXO  O ': (2, 2), 'OXXXO  OX': (1, 2), 'OXXXO XO ': (2, 2), 'OXXXO O  ': (2, 2), 'OXXXO O X': (1, 2), 'OXXXO OX ': (2, 2), 'OXXXO OOX': (1, 2), 'OXXXOX O ': (2, 2), 'OXXXOXO  ': (2, 2), 'OXXXOXOO ': (2, 2), 'OXXXOO   ': (2, 2), 'OXXXOO  X': (2, 0), 'OXXXOO X ': (2, 2), 'OXXXOO OX': (2, 0), 'OXXXOOX  ': (2, 2), 'OXXXOOXO ': (2, 2), 'OXXXOOO X': (2, 1), 'OXXXOOOX ': (2, 2), 'OXXO     ': (2, 0), 'OXXO    X': (2, 0), 'OXXO   X ': (1, 1), 'OXXO   XO': (1, 1), 'OXXO   OX': (1, 2), 'OXXO  X  ': (1, 1), 'OXXO  X O': (1, 1), 'OXXO  XXO': (1, 1), 'OXXO  XO ': (1, 1), 'OXXO  XOX': (1, 1), 'OXXO X   ': (2, 0), 'OXXO X  O': (1, 1), 'OXXO X XO': (1, 1), 'OXXO X O ': (2, 2), 'OXXO XX O': (1, 1), 'OXXO XXO ': (1, 1), 'OXXO XXOO': (1, 1), 'OXXO O  X': (1, 1), 'OXXO O X ': (1, 1), 'OXXO O XX': (1, 1), 'OXXO OX  ': (1, 1), 'OXXO OX X': (1, 1), 'OXXO OXX ': (1, 1), 'OXXO OXXO': (1, 1), 'OXXO OXOX': (1, 1), 'OXXOX    ': (2, 0), 'OXXOX   O': (2, 0), 'OXXOX  O ': (2, 0), 'OXXOX  OX': (2, 0), 'OXXOXX  O': (2, 0), 'OXXOXX O ': (2, 0), 'OXXOXX OO': (2, 0), 'OXXOXO   ': (2, 0), 'OXXOXO  X': (2, 0), 'OXXOXO OX': (2, 0), 'OXXOO   X': (1, 2), 'OXXOO  X ': (2, 0), 'OXXOO  XX': (2, 0), 'OXXOO X  ': (2, 2), 'OXXOO X X': (1, 2), 'OXXOO XX ': (2, 2), 'OXXOO XOX': (1, 2), 'OXXOOX   ': (2, 2), 'OXXOOX X ': (2, 2), 'OXXOOXX  ': (2, 2), 'OXXOOXXO ': (2, 2), 'OXO     X': (1, 1), 'OXO    X ': (1, 1), 'OXO    XX': (1, 1), 'OXO   X  ': (1, 1), 'OXO   X X': (2, 1), 'OXO   XX ': (1, 1), 'OXO   XXO': (1, 1), 'OXO   XOX': (1, 1), 'OXO   OXX': (1, 1), 'OXO  X   ': (1, 1), 'OXO  X  X': (1, 1), 'OXO  X X ': (1, 1), 'OXO  X XO': (1, 1), 'OXO  X OX': (1, 1), 'OXO  XX  ': (1, 1), 'OXO  XX O': (1, 1), 'OXO  XXXO': (1, 1), 'OXO  XXO ': (1, 1), 'OXO  XXOX': (1, 1), 'OXO  XO X': (1, 1), 'OXO  XOX ': (1, 1), 'OXO  XOXX': (1, 1), 'OXO  O XX': (1, 1), 'OXO  OX X': (2, 1), 'OXO  OXX ': (2, 2), 'OXO X    ': (2, 1), 'OXO X   X': (2, 1), 'OXO X  OX': (2, 0), 'OXO X X  ': (2, 1), 'OXO X X O': (2, 1), 'OXO X XO ': (2, 2), 'OXO X XOX': (1, 0), 'OXO X O X': (2, 1), 'OXO XX   ': (1, 0), 'OXO XX  O': (1, 0), 'OXO XX O ': (1, 0), 'OXO XX OX': (1, 0), 'OXO XXX O': (1, 0), 'OXO XXXO ': (1, 0), 'OXO XXXOO': (1, 0), 'OXO XXO  ': (1, 0), 'OXO XXO X': (1, 0), 'OXO XXOOX': (1, 0), 'OXO XO  X': (2, 1), 'OXO XOX  ': (2, 1), 'OXO XOX X': (2, 1), 'OXO XOXOX': (1, 0), 'OXO O  XX': (2, 0), 'OXO O X X': (2, 1), 'OXO O XX ': (2, 2), 'OXO OX  X': (2, 0), 'OXO OX X ': (2, 0), 'OXO OX XX': (2, 0), 'OXO OXX  ': (2, 2), 'OXO OXX X': (2, 1), 'OXO OXXX ': (2, 2), 'OXO OXXOX': (1, 0), 'OXOX     ': (1, 1), 'OXOX    X': (1, 1), 'OXOX   X ': (1, 1), 'OXOX   XO': (1, 1), 'OXOX   OX': (1, 1), 'OXOX  X  ': (1, 1), 'OXOX  X O': (1, 1), 'OXOX  XXO': (1, 1), 'OXOX  XO ': (1, 1), 'OXOX  XOX': (1, 1), 'OXOX  O X': (1, 1), 'OXOX  OX ': (1, 1), 'OXOX  OXX': (1, 1), 'OXOX X   ': (1, 1), 'OXOX X  O': (1, 1), 'OXOX X XO': (1, 1), 'OXOX X O ': (1, 1), 'OXOX X OX': (1, 1), 'OXOX XX O': (1, 1), 'OXOX XXO ': (1, 1), 'OXOX XXOO': (1, 1), 'OXOX XO  ': (1, 1), 'OXOX XO X': (1, 1), 'OXOX XOX ': (1, 1), 'OXOX XOXO': (1, 1), 'OXOX XOOX': (1, 1), 'OXOX O  X': (1, 1), 'OXOX O X ': (1, 1), 'OXOX O XX': (1, 1), 'OXOX OX  ': (2, 2), 'OXOX OX X': (2, 1), 'OXOX OXX ': (2, 2), 'OXOX OXOX': (1, 1), 'OXOX OOXX': (1, 1), 'OXOXX    ': (1, 2), 'OXOXX   O': (1, 2), 'OXOXX  O ': (1, 2), 'OXOXX  OX': (1, 2), 'OXOXX X O': (1, 2), 'OXOXX XO ': (1, 2), 'OXOXX XOO': (1, 2), 'OXOXX O  ': (1, 2), 'OXOXX O X': (1, 2), 'OXOXX OOX': (1, 2), 'OXOXXO   ': (2, 1), 'OXOXXO  X': (2, 1), 'OXOXXO OX': (2, 0), 'OXOXXOX  ': (2, 2), 'OXOXXOXO ': (2, 2), 'OXOXXOO X': (2, 1), 'OXOXO   X': (2, 0), 'OXOXO  X ': (2, 0), 'OXOXO  XX': (2, 0), 'OXOXO X  ': (2, 2), 'OXOXO X X': (2, 1), 'OXOXO XX ': (2, 2), 'OXOXO XOX': (1, 2), 'OXOXOX   ': (2, 0), 'OXOXOX  X': (2, 0), 'OXOXOX X ': (2, 0), 'OXOXOX OX': (2, 0), 'OXOXOXX  ': (2, 2), 'OXOXOXXO ': (2, 2), 'OXOXOO XX': (2, 0), 'OXOXOOX X': (2, 1), 'OXOXOOXX ': (2, 2), 'OXOO   XX': (2, 0), 'OXOO  X X': (2, 1), 'OXOO  XX ': (1, 1), 'OXOO X  X': (2, 0), 'OXOO X X ': (1, 1), 'OXOO X XX': (2, 0), 'OXOO XX  ': (1, 1), 'OXOO XX X': (2, 1), 'OXOO XXX ': (1, 1), 'OXOO XXXO': (1, 1), 'OXOO XXOX': (1, 1), 'OXOOX   X': (2, 0), 'OXOOX X  ': (2, 1), 'OXOOX X X': (2, 1), 'OXOOX XOX': (1, 2), 'OXOOXX   ': (2, 0), 'OXOOXX  X': (2, 0), 'OXOOXX OX': (2, 0), 'OXOOXXX  ': (2, 1), 'OXOOXXX O': (2, 1), 'OXOOXXXO ': (2, 2), 'OXOOXOX X': (2, 1), 'OXOOOX XX': (2, 0), 'OXOOOXX X': (2, 1), 'OXOOOXXX ': (2, 2), 'OO     XX': (2, 0), 'OO    X X': (0, 2), 'OO    XX ': (2, 2), 'OO   X  X': (0, 2), 'OO   X X ': (0, 2), 'OO   X XX': (0, 2), 'OO   XX  ': (0, 2), 'OO   XX X': (0, 2), 'OO   XXX ': (0, 2), 'OO   XXXO': (1, 1), 'OO   XXOX': (0, 2), 'OO   XOXX': (0, 2), 'OO  X   X': (0, 2), 'OO  X  X ': (0, 2), 'OO  X  XX': (0, 2), 'OO  X X  ': (0, 2), 'OO  X X X': (0, 2), 'OO  X XX ': (0, 2), 'OO  X XXO': (0, 2), 'OO  X XOX': (0, 2), 'OO  X OXX': (0, 2), 'OO  XX   ': (0, 2), 'OO  XX  X': (0, 2), 'OO  XX X ': (0, 2), 'OO  XX XO': (0, 2), 'OO  XX OX': (0, 2), 'OO  XXX  ': (0, 2), 'OO  XXX O': (0, 2), 'OO  XXXXO': (0, 2), 'OO  XXXO ': (0, 2), 'OO  XXXOX': (0, 2), 'OO  XXO X': (0, 2), 'OO  XXOX ': (1, 0), 'OO  XXOXX': (0, 2), 'OO  XO XX': (2, 0), 'OO  XOX X': (0, 2), 'OO  XOXX ': (0, 2), 'OO  OX XX': (0, 2), 'OO  OXX X': (0, 2), 'OO  OXXX ': (2, 2), 'OO X    X': (0, 2), 'OO X   X ': (0, 2), 'OO X   XX': (0, 2), 'OO X  X  ': (0, 2), 'OO X  X X': (0, 2), 'OO X  XX ': (0, 2), 'OO X  XXO': (1, 1), 'OO X  XOX': (1, 1), 'OO X  OXX': (0, 2), 'OO X X   ': (1, 1), 'OO X X  X': (0, 2), 'OO X X X ': (1, 1), 'OO X X XO': (1, 1), 'OO X X OX': (1, 1), 'OO X XX  ': (1, 1), 'OO X XX O': (1, 1), 'OO X XXXO': (1, 1), 'OO X XXO ': (1, 1), 'OO X XXOX': (1, 1), 'OO X XO X': (0, 2), 'OO X XOX ': (1, 1), 'OO X XOXX': (0, 2), 'OO X O XX': (2, 0), 'OO X OX X': (0, 2), 'OO X OXX ': (2, 2), 'OO XX    ': (0, 2), 'OO XX   X': (0, 2), 'OO XX  X ': (0, 2), 'OO XX  XO': (0, 2), 'OO XX  OX': (0, 2), 'OO XX X  ': (0, 2), 'OO XX X O': (0, 2), 'OO XX XXO': (0, 2), 'OO XX XO ': (0, 2), 'OO XX XOX': (0, 2), 'OO XX O X': (0, 2), 'OO XX OX ': (0, 2), 'OO XX OXX': (0, 2), 'OO XXO  X': (0, 2), 'OO XXO X ': (0, 2), 'OO XXO XX': (0, 2), 'OO XXOX  ': (0, 2), 'OO XXOX X': (0, 2), 'OO XXOXX ': (0, 2), 'OO XXOXXO': (0, 2), 'OO XXOXOX': (0, 2), 'OO XXOOXX': (0, 2), 'OO XO  XX': (2, 0), 'OO XO X X': (2, 1), 'OO XO XX ': (2, 2), 'OO XOX  X': (0, 2), 'OO XOX X ': (0, 2), 'OO XOX XX': (0, 2), 'OO XOXX  ': (0, 2), 'OO XOXX X': (0, 2), 'OO XOXXX ': (2, 2), 'OO XOXOXX': (0, 2), 'OO O X XX': (0, 2), 'OO O XX X': (0, 2), 'OO O XXX ': (2, 2), 'OO OX  XX': (2, 0), 'OO OX X X': (0, 2), 'OO OX XX ': (0, 2), 'OO OXX  X': (0, 2), 'OO OXX X ': (0, 2), 'OO OXX XX': (0, 2), 'OO OXXX  ': (0, 2), 'OO OXXX X': (0, 2), 'OO OXXXX ': (0, 2), 'OO OXXXXO': (0, 2), 'OO OXXXOX': (0, 2), 'OOX     X': (1, 2), 'OOX    X ': (1, 1), 'OOX    XX': (2, 0), 'OOX   X  ': (1, 1), 'OOX   X X': (1, 1), 'OOX   XX ': (1, 1), 'OOX   XXO': (1, 1), 'OOX   XOX': (1, 1), 'OOX   OXX': (1, 2), 'OOX  X   ': (2, 2), 'OOX  X X ': (2, 2), 'OOX  X XO': (1, 1), 'OOX  XX  ': (1, 1), 'OOX  XX O': (1, 1), 'OOX  XXXO': (1, 1), 'OOX  XXO ': (1, 1), 'OOX  XOX ': (2, 2), 'OOX  O XX': (2, 0), 'OOX  OX X': (1, 1), 'OOX  OXX ': (1, 1), 'OOX X    ': (2, 0), 'OOX X   X': (2, 0), 'OOX X  X ': (2, 0), 'OOX X  XO': (2, 0), 'OOX X  OX': (2, 0), 'OOX X O X': (1, 2), 'OOX X OX ': (1, 0), 'OOX X OXX': (1, 0), 'OOX XX   ': (2, 0), 'OOX XX  O': (2, 0), 'OOX XX XO': (2, 0), 'OOX XX O ': (2, 0), 'OOX XXO  ': (1, 0), 'OOX XXOX ': (1, 0), 'OOX XXOXO': (1, 0), 'OOX XO  X': (2, 0), 'OOX XO X ': (2, 0), 'OOX XO XX': (2, 0), 'OOX XOOXX': (1, 0), 'OOX O  XX': (2, 0), 'OOX O X X': (2, 1), 'OOX O XX ': (2, 2), 'OOX OX X ': (2, 2), 'OOX OXX  ': (2, 2), 'OOX OXXX ': (2, 2), 'OOXX     ': (1, 1), 'OOXX    X': (1, 2), 'OOXX   X ': (1, 1), 'OOXX   XO': (1, 1), 'OOXX   OX': (1, 1), 'OOXX  X  ': (1, 1), 'OOXX  X O': (1, 1), 'OOXX  XXO': (1, 1), 'OOXX  XO ': (1, 1), 'OOXX  XOX': (1, 1), 'OOXX  O X': (1, 2), 'OOXX  OX ': (1, 1), 'OOXX  OXX': (1, 2), 'OOXX X   ': (1, 1), 'OOXX X  O': (1, 1), 'OOXX X XO': (1, 1), 'OOXX X O ': (1, 1), 'OOXX XX O': (1, 1), 'OOXX XXO ': (1, 1), 'OOXX XXOO': (1, 1), 'OOXX XO  ': (1, 1), 'OOXX XOX ': (1, 1), 'OOXX XOXO': (1, 1), 'OOXX O  X': (1, 1), 'OOXX O X ': (1, 1), 'OOXX O XX': (2, 0), 'OOXX OX  ': (1, 1), 'OOXX OX X': (1, 1), 'OOXX OXX ': (1, 1), 'OOXX OXXO': (1, 1), 'OOXX OXOX': (1, 1), 'OOXX OOXX': (1, 1), 'OOXXX    ': (2, 0), 'OOXXX   O': (2, 0), 'OOXXX  XO': (2, 0), 'OOXXX  O ': (2, 0), 'OOXXX  OX': (2, 0), 'OOXXX O  ': (1, 2), 'OOXXX O X': (1, 2), 'OOXXX OX ': (1, 2), 'OOXXX OXO': (1, 2), 'OOXXX OOX': (1, 2), 'OOXXXO   ': (2, 0), 'OOXXXO  X': (2, 0), 'OOXXXO X ': (2, 0), 'OOXXXO XO': (2, 0), 'OOXXXO OX': (2, 0), 'OOXXXOO X': (2, 1), 'OOXXXOOX ': (2, 2), 'OOXXO   X': (1, 2), 'OOXXO  X ': (2, 2), 'OOXXO  XX': (2, 0), 'OOXXO X  ': (2, 2), 'OOXXO X X': (2, 1), 'OOXXO XX ': (2, 2), 'OOXXO OXX': (1, 2), 'OOXXOX   ': (2, 2), 'OOXXOX X ': (2, 2), 'OOXXOXX  ': (2, 2), 'OOXXOXOX ': (2, 2), 'OOXXOO XX': (2, 0), 'OOXXOOX X': (2, 1), 'OOXXOOXX ': (2, 2), 'OOXO   XX': (2, 0), 'OOXO  X X': (1, 1), 'OOXO  XX ': (1, 1), 'OOXO X X ': (2, 2), 'OOXO XX  ': (1, 1), 'OOXO XXX ': (1, 1), 'OOXO XXXO': (1, 1), 'OOXOX   X': (2, 0), 'OOXOX  X ': (2, 0), 'OOXOX  XX': (2, 0), 'OOXOXX   ': (2, 0), 'OOXOXX X ': (2, 0), 'OOXOXX XO': (2, 0), 'OOXOXO XX': (2, 0), 'OOXOOXXX ': (2, 2)}\n",
      "False\n"
     ]
    }
   ],
   "source": [
    "#Lookup table for reward\n",
    "lookup_table_value = generate_lookup_table(find_best_move_value)\n",
    "print(\"Lookup table: \" + str(lookup_table_value))\n",
    "print(None in lookup_table_value.values()) #check if any blank spots"
   ]
  },
  {
   "cell_type": "code",
   "execution_count": 89,
   "metadata": {},
   "outputs": [
    {
     "name": "stdout",
     "output_type": "stream",
     "text": [
      "[0, 0, 100]\n"
     ]
    }
   ],
   "source": [
    "# Run some games between the utility and value functions\n",
    "NUM_GAMES = 100\n",
    "results_util_vs_value = [0, 0, 0]\n",
    "def play_game(results, find_best_move_A, find_best_move_B, i, randomize = 0.0):\n",
    "    board = init_board()\n",
    "    counter = i % 2 # set so that both the utility and value tables get to play first NUM_GAMES / 2 times each\n",
    "    \n",
    "    while check_winner(board) == None: #if not None, then player should be able to move\n",
    "        move = (0,)\n",
    "        board_str = board_to_string(board)\n",
    "        curr_player = 'X' if board_str.count('X') == board_str.count('O') else 'O'\n",
    "        if counter % 2 == 0: # alternating between utility, value\n",
    "            if random.random() < randomize:\n",
    "                move = random.choice(get_possible_moves(board))\n",
    "            else:\n",
    "                if type(find_best_move_A) == dict: #if passed in lookup table\n",
    "                    move = find_best_move_A.get(board_str)\n",
    "                else:\n",
    "                    move = find_best_move_A(board, curr_player)\n",
    "            \n",
    "        else:\n",
    "            if random.random() < randomize:\n",
    "                move = random.choice(get_possible_moves(board))\n",
    "            else:\n",
    "                if type(find_best_move_B) == dict: #if passed in lookup table\n",
    "                    move = find_best_move_B.get(board_str)\n",
    "                else:\n",
    "                    move = find_best_move_B(board, curr_player)\n",
    "        board[move[0]][move[1]] = curr_player\n",
    "        counter += 1\n",
    "        #print_board(board)\n",
    "    \n",
    "    winner = check_winner(board)\n",
    "    if (winner == 'X' and i % 2 == 0) or (winner == 'O' and i % 2 == 1):\n",
    "        results[0] += 1\n",
    "    elif winner == 'Draw':\n",
    "        results[2] += 1\n",
    "    else:\n",
    "        results[1] += 1\n",
    "\n",
    "for i in range(NUM_GAMES):\n",
    "    play_game(results_util_vs_value, lookup_table, lookup_table_value, i)\n",
    "        \n",
    "print(results_util_vs_value)"
   ]
  },
  {
   "cell_type": "markdown",
   "metadata": {},
   "source": [
    "ChatGPT:\n",
    "\"After running 10,000 games where both players used the heuristic-based AI, the results are as follows:\n",
    "- Player 'X' won 1,421 games.\n",
    "- Player 'O' did not win any games.\n",
    "- The remaining 8,579 games ended in a draw.\n",
    "\n",
    "These results indicate that the heuristic-based AI tends to lead to a high number of draw games, especially in a game like Tic-Tac-Toe where optimal play from both sides often results in a draw. The advantage of going first (Player 'X') seems to have translated into more wins compared to Player 'O', who did not secure any victories. This outcome could be influenced by the specific heuristics used and their effectiveness in different game situations.\""
   ]
  },
  {
   "cell_type": "code",
   "execution_count": 64,
   "metadata": {},
   "outputs": [
    {
     "name": "stdout",
     "output_type": "stream",
     "text": [
      "Optimal Move: (2, 1)\n",
      "Optimal Move for the board: X O   OX  is (1, 1)\n"
     ]
    }
   ],
   "source": [
    "### Using only heuristics\n",
    "\n",
    "def check_for_win(board, player):\n",
    "    \"\"\" Check if a player can win in the next move and return that move. \"\"\"\n",
    "    for x, y in get_possible_moves(board):\n",
    "        board[x][y] = player\n",
    "        if check_winner(board) == player:\n",
    "            board[x][y] = ' '  # Reset the board\n",
    "            return (x, y)\n",
    "        board[x][y] = ' '\n",
    "    return None\n",
    "\n",
    "def check_for_fork(board, player):\n",
    "    \"\"\" Check for a fork opportunity for the player. \"\"\"\n",
    "    for x, y in get_possible_moves(board):\n",
    "        board[x][y] = player\n",
    "        winning_moves = 0\n",
    "        for mx, my in get_possible_moves(board):\n",
    "            board[mx][my] = player\n",
    "            if check_winner(board) == player:\n",
    "                winning_moves += 1\n",
    "            board[mx][my] = ' '\n",
    "        board[x][y] = ' '\n",
    "        if winning_moves >= 2:\n",
    "            return (x, y)\n",
    "    return None\n",
    "\n",
    "def find_heuristic_move(board, player):\n",
    "    \"\"\" Find the optimal move based on refined Tic-Tac-Toe strategy heuristics. \"\"\"\n",
    "    opponent = 'O' if player == 'X' else 'X'\n",
    "    move = None\n",
    "\n",
    "    # Check for a winning move\n",
    "    move = check_for_win(board, player)\n",
    "    if move:\n",
    "        return move\n",
    "\n",
    "    # Block opponent's win\n",
    "    move = check_for_win(board, opponent)\n",
    "    if move:\n",
    "        return move\n",
    "\n",
    "    # Create a fork\n",
    "    move = check_for_fork(board, player)\n",
    "    if move:\n",
    "        return move\n",
    "\n",
    "    # Block opponent's fork\n",
    "    move = check_for_fork(board, opponent)\n",
    "    if move:\n",
    "        return move\n",
    "\n",
    "    # Take center if available\n",
    "    if board[1][1] == ' ':\n",
    "        return (1, 1)\n",
    "\n",
    "    # Take opposite corner\n",
    "    corners = [(0, 0), (0, 2), (2, 0), (2, 2)]\n",
    "    for x, y in corners:\n",
    "        if board[x][y] == opponent and board[2 - x][2 - y] == ' ':\n",
    "            return (2 - x, 2 - y)\n",
    "\n",
    "    # Take an empty corner\n",
    "    for x, y in corners:\n",
    "        if board[x][y] == ' ':\n",
    "            return (x, y)\n",
    "\n",
    "    # Take an empty side\n",
    "    sides = [(0, 1), (1, 0), (1, 2), (2, 1)]\n",
    "    for x, y in sides:\n",
    "        if board[x][y] == ' ':\n",
    "            return (x, y)\n",
    "\n",
    "    return None\n",
    "\n",
    "# Test the revised function with a board state\n",
    "test_board = string_to_board(\"XOXXO O  \")\n",
    "print(\"Optimal Move:\", find_heuristic_move(test_board, 'O'))  # Should try to block or create a fork\n",
    "\n",
    "# Generate the lookup table for the heuristic-based optimal AI\n",
    "def generate_heuristic_lookup_table():\n",
    "    all_possible_boards = [''.join(p) for p in product(' XO', repeat=9)]\n",
    "    optimal_lookup_table = {}\n",
    "\n",
    "    for board_str in all_possible_boards:\n",
    "        if is_valid_board(board_str):\n",
    "            board = string_to_board(board_str)\n",
    "            player = 'X' if board_str.count('X') == board_str.count('O') else 'O'\n",
    "            best_move = find_heuristic_move(board, player)\n",
    "            optimal_lookup_table[board_str] = best_move\n",
    "\n",
    "    return optimal_lookup_table\n",
    "\n",
    "heuristic_lookup_table = generate_heuristic_lookup_table()\n",
    "\n",
    "# Sample test to verify the table\n",
    "sample_board = \"X O   OX \"\n",
    "print(\"Optimal Move for the board:\", sample_board, \"is\", heuristic_lookup_table.get(sample_board))"
   ]
  },
  {
   "cell_type": "code",
   "execution_count": 84,
   "metadata": {},
   "outputs": [
    {
     "name": "stdout",
     "output_type": "stream",
     "text": [
      "(1, 1)\n",
      "(1, 1)\n",
      "(0, 0)\n"
     ]
    }
   ],
   "source": [
    "print(heuristic_lookup_table.get('         '))\n",
    "print(lookup_table_value.get('         '))\n",
    "print(lookup_table.get('         '))"
   ]
  },
  {
   "cell_type": "code",
   "execution_count": 85,
   "metadata": {},
   "outputs": [
    {
     "name": "stdout",
     "output_type": "stream",
     "text": [
      "[0, 0, 100] [0, 0, 100]\n"
     ]
    }
   ],
   "source": [
    "results_heur_vs_value = [0, 0, 0]\n",
    "results_heur_vs_util = [0, 0, 0]\n",
    "for i in range(NUM_GAMES):\n",
    "    play_game(results_heur_vs_value, heuristic_lookup_table, lookup_table_value, i)\n",
    "    play_game(results_heur_vs_util, heuristic_lookup_table, lookup_table, i)\n",
    "\n",
    "print(results_heur_vs_value, results_heur_vs_util)"
   ]
  },
  {
   "cell_type": "code",
   "execution_count": 86,
   "metadata": {},
   "outputs": [
    {
     "name": "stdout",
     "output_type": "stream",
     "text": [
      "[0, 0, 100] [0, 0, 100] [0, 0, 100]\n"
     ]
    }
   ],
   "source": [
    "results_util_vs_value = [0, 0, 0]\n",
    "results_heur_vs_value = [0, 0, 0]\n",
    "results_heur_vs_util = [0, 0, 0]\n",
    "for i in range(NUM_GAMES):\n",
    "    play_game(results_util_vs_value, find_best_move, find_best_move_value, i)\n",
    "    play_game(results_heur_vs_value, find_heuristic_move, find_best_move_value, i)\n",
    "    play_game(results_heur_vs_util, find_heuristic_move, find_best_move, i)\n",
    "\n",
    "print(results_util_vs_value, results_heur_vs_value, results_heur_vs_util)"
   ]
  },
  {
   "cell_type": "markdown",
   "metadata": {},
   "source": [
    "- Once optimized, all three AIs draw against each other, as should be expected from optimal play\n",
    "- Utility function runs significantly slower than the other two"
   ]
  },
  {
   "cell_type": "markdown",
   "metadata": {},
   "source": [
    "## Generalization Tests\n",
    "\n",
    "Now with a probability of 20%, we play a random move instead of using the algorithm/lookup table, simulating removing 20% from each lookup table. We see how the AIs generalize."
   ]
  },
  {
   "cell_type": "code",
   "execution_count": 107,
   "metadata": {},
   "outputs": [
    {
     "name": "stdout",
     "output_type": "stream",
     "text": [
      "Generalization test with randomness = 0.0: ([0, 0, 100], [0, 0, 100], [0, 0, 100])\n",
      "Generalization test with randomness = 0.1: ([19, 11, 70], [16, 15, 69], [19, 12, 69])\n",
      "Generalization test with randomness = 0.2: ([18, 21, 61], [21, 17, 62], [28, 19, 53])\n",
      "Generalization test with randomness = 0.3: ([29, 32, 39], [29, 33, 38], [29, 33, 38])\n",
      "Generalization test with randomness = 0.4: ([28, 38, 34], [32, 35, 33], [36, 39, 25])\n",
      "Generalization test with randomness = 0.5: ([38, 37, 25], [32, 37, 31], [47, 39, 14])\n",
      "Generalization test with randomness = 0.6: ([42, 41, 17], [39, 40, 21], [40, 37, 23])\n",
      "Generalization test with randomness = 0.7: ([41, 35, 24], [40, 44, 16], [43, 39, 18])\n",
      "Generalization test with randomness = 0.8: ([41, 43, 16], [44, 39, 17], [39, 42, 19])\n",
      "Generalization test with randomness = 0.9: ([54, 35, 11], [38, 41, 21], [39, 41, 20])\n"
     ]
    }
   ],
   "source": [
    "def generalization_test(randomness = 0.2):\n",
    "    results_util_vs_value = [0, 0, 0]\n",
    "    results_heur_vs_value = [0, 0, 0]\n",
    "    results_heur_vs_util = [0, 0, 0]\n",
    "    for i in range(NUM_GAMES):\n",
    "        play_game(results_util_vs_value, lookup_table, lookup_table_value, i, randomness)\n",
    "        play_game(results_heur_vs_value, heuristic_lookup_table, lookup_table_value, i, randomness)\n",
    "        play_game(results_heur_vs_util, heuristic_lookup_table, lookup_table, i, randomness)\n",
    "\n",
    "    return (results_util_vs_value, results_heur_vs_value, results_heur_vs_util)\n",
    "\n",
    "for i in range(10):\n",
    "    randomness = float(i) / 10\n",
    "    print(\"Generalization test with randomness = \" + str(randomness) + \n",
    "          \": \" + str(generalization_test(randomness)))"
   ]
  },
  {
   "cell_type": "code",
   "execution_count": 104,
   "metadata": {},
   "outputs": [
    {
     "data": {
      "image/png": "[encoded data removed]",
      "text/plain": [
       "<Figure size 640x480 with 1 Axes>"
      ]
     },
     "metadata": {},
     "output_type": "display_data"
    }
   ],
   "source": [
    "import matplotlib.pyplot as plt \n",
    "num_intervals = 20.0\n",
    "x_arr = np.arange(num_intervals) / num_intervals # randomness settings\n",
    "vs_value_results, vs_util_results = np.zeros(int(num_intervals)), np.zeros(int(num_intervals))\n",
    "for i in range(int(num_intervals)):\n",
    "    test_output = generalization_test(x_arr[i])\n",
    "    vs_value_results[i] = test_output[1][0] + 0.5 * test_output[1][2]\n",
    "    vs_util_results[i] = test_output[2][0] + 0.5 * test_output[2][2]\n",
    "\n",
    "fig, ax = plt.subplots()\n",
    "\n",
    "# Add some text for labels, title and custom x-axis tick labels, etc.\n",
    "value_bar = ax.plot(x_arr, vs_value_results, label = \"vs Value\")\n",
    "util_bar = ax.plot(x_arr, vs_util_results, label = \"vs Util\")\n",
    "ax.set_ylabel('Score (# wins + 0.5 * # draws)')\n",
    "ax.set_xlabel('Randomness factor')\n",
    "ax.set_title('Heuristic AI score with randomness')\n",
    "ax.legend(loc='upper left', ncols=2)\n",
    "ax.set_ylim(0, NUM_GAMES)\n",
    "\n",
    "plt.show()"
   ]
  }
 ],
 "metadata": {
  "kernelspec": {
   "display_name": "Python 3",
   "language": "python",
   "name": "python3"
  },
  "language_info": {
   "codemirror_mode": {
    "name": "ipython",
    "version": 3
   },
   "file_extension": ".py",
   "mimetype": "text/x-python",
   "name": "python",
   "nbconvert_exporter": "python",
   "pygments_lexer": "ipython3",
   "version": "3.9.13"
  }
 },
 "nbformat": 4,
 "nbformat_minor": 2
}
